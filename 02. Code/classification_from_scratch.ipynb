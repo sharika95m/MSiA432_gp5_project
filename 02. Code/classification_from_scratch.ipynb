{
 "cells": [
  {
   "attachments": {},
   "cell_type": "markdown",
   "metadata": {},
   "source": [
    "### Labels"
   ]
  },
  {
   "cell_type": "code",
   "execution_count": 13,
   "metadata": {},
   "outputs": [
    {
     "data": {
      "text/plain": [
       "(50000, 11)"
      ]
     },
     "execution_count": 13,
     "metadata": {},
     "output_type": "execute_result"
    }
   ],
   "source": [
    "import tensorflow as tf\n",
    "import pandas as pd\n",
    "import numpy as np\n",
    "\n",
    "attr = pd.read_csv('../list_attr_celeba.csv')\n",
    "features = ['image_id', 'Attractive', 'Bangs', 'Black_Hair', 'Blond_Hair', 'Brown_Hair', 'Gray_Hair', 'Male', 'Oval_Face', 'Receding_Hairline', 'Smiling']\n",
    "\n",
    "attr_selected = attr.loc[:, features].iloc[:50000,:]\n",
    "attr_selected.shape"
   ]
  },
  {
   "attachments": {},
   "cell_type": "markdown",
   "metadata": {},
   "source": [
    "### Images"
   ]
  },
  {
   "cell_type": "code",
   "execution_count": 11,
   "metadata": {},
   "outputs": [
    {
     "name": "stdout",
     "output_type": "stream",
     "text": [
      "50000\n"
     ]
    }
   ],
   "source": [
    "import zipfile\n",
    "from PIL import Image\n",
    "from io import BytesIO\n",
    "\n",
    "# Lazy loading\n",
    "def image_generator(zip_file_path):\n",
    "    i = 1\n",
    "    with zipfile.ZipFile(zip_file_path, 'r') as archive:\n",
    "        for entry in archive.infolist():\n",
    "            if entry.filename.endswith(('.jpg', '.jpeg', '.png')):\n",
    "                if i <=50000:\n",
    "                    with archive.open(entry, 'r') as file:\n",
    "                        img_data = BytesIO(file.read())\n",
    "                        img = Image.open(img_data)\n",
    "                        i += 1\n",
    "                        yield entry.filename, img\n",
    "\n",
    "zip_file_path = '../archive.zip'\n",
    "generator = image_generator(zip_file_path)"
   ]
  },
  {
   "cell_type": "code",
   "execution_count": 41,
   "metadata": {},
   "outputs": [],
   "source": [
    "import tensorflow as tf\n",
    "from tensorflow.keras.preprocessing.image import ImageDataGenerator\n",
    "from tensorflow.keras.models import Sequential\n",
    "from tensorflow.keras.layers import Conv2D, MaxPooling2D, Flatten, Dense, Dropout\n",
    "\n",
    "# Modify the image_generator to include resizing and data augmentation\n",
    "def image_generator(zip_file_path, target_size=(64, 64), batch_size=32):\n",
    "    data_gen = ImageDataGenerator(\n",
    "        rescale=1./255,\n",
    "        rotation_range=20,\n",
    "        width_shift_range=0.2,\n",
    "        height_shift_range=0.2,\n",
    "        shear_range=0.2,\n",
    "        zoom_range=0.2,\n",
    "        horizontal_flip=True,\n",
    "        fill_mode='nearest'\n",
    "    )\n",
    "\n",
    "    i = 1\n",
    "    with zipfile.ZipFile(zip_file_path, 'r') as archive:\n",
    "        while i <= 50000:\n",
    "            batch_filenames = []\n",
    "            batch_images = []\n",
    "            for _ in range(batch_size):\n",
    "                entry = archive.getinfo(f'img_align_celeba/img_align_celeba/{i:06}.jpg')\n",
    "                with archive.open(entry, 'r') as file:\n",
    "                    img_data = BytesIO(file.read())\n",
    "                    img = Image.open(img_data)\n",
    "                    img = img.resize(target_size)\n",
    "                    batch_filenames.append(entry.filename.split(\"/\")[-1])\n",
    "                    batch_images.append(np.array(img))\n",
    "                    i += 1\n",
    "            batch_images = np.array(batch_images)\n",
    "            batch_labels = attr_selected[attr_selected['image_id'].isin(batch_filenames)].iloc[:, 1:].to_numpy()\n",
    "            # print(batch_images.shape)\n",
    "            # print(batch_labels)\n",
    "            yield data_gen.flow(batch_images, batch_labels, batch_size=batch_size)\n"
   ]
  },
  {
   "cell_type": "code",
   "execution_count": 42,
   "metadata": {},
   "outputs": [],
   "source": [
    "zip_file_path = '../archive.zip'\n",
    "train_generator = image_generator(zip_file_path)"
   ]
  },
  {
   "cell_type": "code",
   "execution_count": 55,
   "metadata": {},
   "outputs": [
    {
     "name": "stdout",
     "output_type": "stream",
     "text": [
      "(32, 64, 64, 3)\n"
     ]
    }
   ],
   "source": [
    "# Create an iterator from the generator\n",
    "train_iterator = iter(train_generator)\n",
    "\n",
    "# Get the first batch of images and labels\n",
    "first_batch = next(train_iterator)\n",
    "# print(first_batch)\n",
    "batch_images_labels = first_batch\n",
    "print(batch_images_labels[0][0].shape) # batch, size, channel\n",
    "\n",
    "# print(batch_images[0])\n",
    "# Display the first image and its corresponding labels\n",
    "import matplotlib.pyplot as plt\n",
    "\n",
    "# plt.imshow(batch_images[0])\n",
    "# plt.show()\n",
    "# print(\"Labels:\", batch_labels[0])\n"
   ]
  },
  {
   "cell_type": "code",
   "execution_count": 22,
   "metadata": {},
   "outputs": [
    {
     "data": {
      "text/plain": [
       "generator"
      ]
     },
     "execution_count": 22,
     "metadata": {},
     "output_type": "execute_result"
    }
   ],
   "source": [
    "train_generator."
   ]
  },
  {
   "cell_type": "code",
   "execution_count": null,
   "metadata": {},
   "outputs": [],
   "source": [
    "def img_preprocess(generator, attr_selected, target_size, image_datagen):\n",
    "    for filename, img in generator:\n",
    "    # Process each image (e.g., resize, normalize, and pass to the model)\n",
    "        filename = filename.split(\"/\")[-1]\n",
    "        img = img.resize(target_size)\n",
    "        img_array = np.array(img)\n",
    "        img_array = image_datagen.random_transform(img_array)\n",
    "        img_array /= 255.0"
   ]
  },
  {
   "cell_type": "code",
   "execution_count": 12,
   "metadata": {},
   "outputs": [
    {
     "data": {
      "text/plain": [
       "{(178, 218)}"
      ]
     },
     "execution_count": 12,
     "metadata": {},
     "output_type": "execute_result"
    }
   ],
   "source": [
    "set(img_size)"
   ]
  },
  {
   "cell_type": "code",
   "execution_count": null,
   "metadata": {},
   "outputs": [],
   "source": []
  }
 ],
 "metadata": {
  "kernelspec": {
   "display_name": "msia_env",
   "language": "python",
   "name": "python3"
  },
  "language_info": {
   "codemirror_mode": {
    "name": "ipython",
    "version": 3
   },
   "file_extension": ".py",
   "mimetype": "text/x-python",
   "name": "python",
   "nbconvert_exporter": "python",
   "pygments_lexer": "ipython3",
   "version": "3.9.12"
  },
  "orig_nbformat": 4
 },
 "nbformat": 4,
 "nbformat_minor": 2
}
