{
 "cells": [
  {
   "attachments": {},
   "cell_type": "markdown",
   "metadata": {},
   "source": [
    "### Unzip"
   ]
  },
  {
   "cell_type": "code",
   "execution_count": 1,
   "metadata": {},
   "outputs": [],
   "source": [
    "import zipfile\n",
    "import os\n",
    "\n",
    "def extract_zip_file(zip_file_path, dest_path):\n",
    "    # Ensure the destination path exists\n",
    "    if not os.path.exists(dest_path):\n",
    "        os.makedirs(dest_path)\n",
    "\n",
    "    with zipfile.ZipFile(zip_file_path, 'r') as zip_ref:\n",
    "        zip_ref.extractall(dest_path)\n",
    "        \n",
    "\n",
    "# Use the function\n",
    "zip_file_path = '../archive.zip'  # replace with your zip file path\n",
    "dest_path = os.getcwd()  # get current working directory\n",
    "extract_zip_file(zip_file_path, dest_path)"
   ]
  },
  {
   "attachments": {},
   "cell_type": "markdown",
   "metadata": {},
   "source": [
    "### Data"
   ]
  },
  {
   "cell_type": "code",
   "execution_count": 1,
   "metadata": {},
   "outputs": [
    {
     "name": "stderr",
     "output_type": "stream",
     "text": [
      "2023-05-27 21:08:07.452203: I tensorflow/core/util/port.cc:110] oneDNN custom operations are on. You may see slightly different numerical results due to floating-point round-off errors from different computation orders. To turn them off, set the environment variable `TF_ENABLE_ONEDNN_OPTS=0`.\n",
      "2023-05-27 21:08:07.477905: I tensorflow/core/platform/cpu_feature_guard.cc:182] This TensorFlow binary is optimized to use available CPU instructions in performance-critical operations.\n",
      "To enable the following instructions: AVX2 AVX_VNNI FMA, in other operations, rebuild TensorFlow with the appropriate compiler flags.\n",
      "2023-05-27 21:08:07.880495: W tensorflow/compiler/tf2tensorrt/utils/py_utils.cc:38] TF-TRT Warning: Could not find TensorRT\n"
     ]
    },
    {
     "data": {
      "text/html": [
       "<div>\n",
       "<style scoped>\n",
       "    .dataframe tbody tr th:only-of-type {\n",
       "        vertical-align: middle;\n",
       "    }\n",
       "\n",
       "    .dataframe tbody tr th {\n",
       "        vertical-align: top;\n",
       "    }\n",
       "\n",
       "    .dataframe thead th {\n",
       "        text-align: right;\n",
       "    }\n",
       "</style>\n",
       "<table border=\"1\" class=\"dataframe\">\n",
       "  <thead>\n",
       "    <tr style=\"text-align: right;\">\n",
       "      <th></th>\n",
       "      <th>image_id</th>\n",
       "      <th>Attractive</th>\n",
       "      <th>Bangs</th>\n",
       "      <th>Black_Hair</th>\n",
       "      <th>Blond_Hair</th>\n",
       "      <th>Brown_Hair</th>\n",
       "      <th>Gray_Hair</th>\n",
       "      <th>Male</th>\n",
       "      <th>Oval_Face</th>\n",
       "      <th>Receding_Hairline</th>\n",
       "      <th>Smiling</th>\n",
       "    </tr>\n",
       "  </thead>\n",
       "  <tbody>\n",
       "    <tr>\n",
       "      <th>0</th>\n",
       "      <td>000001.jpg</td>\n",
       "      <td>1</td>\n",
       "      <td>0</td>\n",
       "      <td>0</td>\n",
       "      <td>0</td>\n",
       "      <td>1</td>\n",
       "      <td>0</td>\n",
       "      <td>0</td>\n",
       "      <td>0</td>\n",
       "      <td>0</td>\n",
       "      <td>1</td>\n",
       "    </tr>\n",
       "    <tr>\n",
       "      <th>1</th>\n",
       "      <td>000002.jpg</td>\n",
       "      <td>0</td>\n",
       "      <td>0</td>\n",
       "      <td>0</td>\n",
       "      <td>0</td>\n",
       "      <td>1</td>\n",
       "      <td>0</td>\n",
       "      <td>0</td>\n",
       "      <td>0</td>\n",
       "      <td>0</td>\n",
       "      <td>1</td>\n",
       "    </tr>\n",
       "    <tr>\n",
       "      <th>2</th>\n",
       "      <td>000003.jpg</td>\n",
       "      <td>0</td>\n",
       "      <td>0</td>\n",
       "      <td>0</td>\n",
       "      <td>0</td>\n",
       "      <td>0</td>\n",
       "      <td>0</td>\n",
       "      <td>1</td>\n",
       "      <td>0</td>\n",
       "      <td>0</td>\n",
       "      <td>0</td>\n",
       "    </tr>\n",
       "    <tr>\n",
       "      <th>3</th>\n",
       "      <td>000004.jpg</td>\n",
       "      <td>1</td>\n",
       "      <td>0</td>\n",
       "      <td>0</td>\n",
       "      <td>0</td>\n",
       "      <td>0</td>\n",
       "      <td>0</td>\n",
       "      <td>0</td>\n",
       "      <td>0</td>\n",
       "      <td>0</td>\n",
       "      <td>0</td>\n",
       "    </tr>\n",
       "    <tr>\n",
       "      <th>4</th>\n",
       "      <td>000005.jpg</td>\n",
       "      <td>1</td>\n",
       "      <td>0</td>\n",
       "      <td>0</td>\n",
       "      <td>0</td>\n",
       "      <td>0</td>\n",
       "      <td>0</td>\n",
       "      <td>0</td>\n",
       "      <td>0</td>\n",
       "      <td>0</td>\n",
       "      <td>0</td>\n",
       "    </tr>\n",
       "    <tr>\n",
       "      <th>...</th>\n",
       "      <td>...</td>\n",
       "      <td>...</td>\n",
       "      <td>...</td>\n",
       "      <td>...</td>\n",
       "      <td>...</td>\n",
       "      <td>...</td>\n",
       "      <td>...</td>\n",
       "      <td>...</td>\n",
       "      <td>...</td>\n",
       "      <td>...</td>\n",
       "      <td>...</td>\n",
       "    </tr>\n",
       "    <tr>\n",
       "      <th>49995</th>\n",
       "      <td>049996.jpg</td>\n",
       "      <td>0</td>\n",
       "      <td>0</td>\n",
       "      <td>0</td>\n",
       "      <td>1</td>\n",
       "      <td>0</td>\n",
       "      <td>0</td>\n",
       "      <td>0</td>\n",
       "      <td>1</td>\n",
       "      <td>0</td>\n",
       "      <td>1</td>\n",
       "    </tr>\n",
       "    <tr>\n",
       "      <th>49996</th>\n",
       "      <td>049997.jpg</td>\n",
       "      <td>1</td>\n",
       "      <td>1</td>\n",
       "      <td>0</td>\n",
       "      <td>0</td>\n",
       "      <td>1</td>\n",
       "      <td>0</td>\n",
       "      <td>0</td>\n",
       "      <td>0</td>\n",
       "      <td>0</td>\n",
       "      <td>1</td>\n",
       "    </tr>\n",
       "    <tr>\n",
       "      <th>49997</th>\n",
       "      <td>049998.jpg</td>\n",
       "      <td>0</td>\n",
       "      <td>0</td>\n",
       "      <td>1</td>\n",
       "      <td>0</td>\n",
       "      <td>0</td>\n",
       "      <td>0</td>\n",
       "      <td>1</td>\n",
       "      <td>0</td>\n",
       "      <td>0</td>\n",
       "      <td>0</td>\n",
       "    </tr>\n",
       "    <tr>\n",
       "      <th>49998</th>\n",
       "      <td>049999.jpg</td>\n",
       "      <td>1</td>\n",
       "      <td>0</td>\n",
       "      <td>0</td>\n",
       "      <td>0</td>\n",
       "      <td>0</td>\n",
       "      <td>0</td>\n",
       "      <td>0</td>\n",
       "      <td>0</td>\n",
       "      <td>0</td>\n",
       "      <td>1</td>\n",
       "    </tr>\n",
       "    <tr>\n",
       "      <th>49999</th>\n",
       "      <td>050000.jpg</td>\n",
       "      <td>1</td>\n",
       "      <td>0</td>\n",
       "      <td>0</td>\n",
       "      <td>0</td>\n",
       "      <td>0</td>\n",
       "      <td>0</td>\n",
       "      <td>0</td>\n",
       "      <td>0</td>\n",
       "      <td>0</td>\n",
       "      <td>0</td>\n",
       "    </tr>\n",
       "  </tbody>\n",
       "</table>\n",
       "<p>50000 rows × 11 columns</p>\n",
       "</div>"
      ],
      "text/plain": [
       "         image_id  Attractive  Bangs  Black_Hair  Blond_Hair  Brown_Hair   \n",
       "0      000001.jpg           1      0           0           0           1  \\\n",
       "1      000002.jpg           0      0           0           0           1   \n",
       "2      000003.jpg           0      0           0           0           0   \n",
       "3      000004.jpg           1      0           0           0           0   \n",
       "4      000005.jpg           1      0           0           0           0   \n",
       "...           ...         ...    ...         ...         ...         ...   \n",
       "49995  049996.jpg           0      0           0           1           0   \n",
       "49996  049997.jpg           1      1           0           0           1   \n",
       "49997  049998.jpg           0      0           1           0           0   \n",
       "49998  049999.jpg           1      0           0           0           0   \n",
       "49999  050000.jpg           1      0           0           0           0   \n",
       "\n",
       "       Gray_Hair  Male  Oval_Face  Receding_Hairline  Smiling  \n",
       "0              0     0          0                  0        1  \n",
       "1              0     0          0                  0        1  \n",
       "2              0     1          0                  0        0  \n",
       "3              0     0          0                  0        0  \n",
       "4              0     0          0                  0        0  \n",
       "...          ...   ...        ...                ...      ...  \n",
       "49995          0     0          1                  0        1  \n",
       "49996          0     0          0                  0        1  \n",
       "49997          0     1          0                  0        0  \n",
       "49998          0     0          0                  0        1  \n",
       "49999          0     0          0                  0        0  \n",
       "\n",
       "[50000 rows x 11 columns]"
      ]
     },
     "execution_count": 1,
     "metadata": {},
     "output_type": "execute_result"
    }
   ],
   "source": [
    "import tensorflow as tf\n",
    "import pandas as pd\n",
    "import numpy as np\n",
    "\n",
    "attr = pd.read_csv('list_attr_celeba.csv')\n",
    "features = ['image_id', 'Attractive', 'Bangs', 'Black_Hair', 'Blond_Hair', 'Brown_Hair', 'Gray_Hair', 'Male', 'Oval_Face', 'Receding_Hairline', 'Smiling']\n",
    "\n",
    "attr_selected = attr.loc[:, features].iloc[:50000,:]\n",
    "attr_selected = attr_selected.replace(-1,0)\n",
    "attr_selected"
   ]
  },
  {
   "cell_type": "code",
   "execution_count": 4,
   "metadata": {},
   "outputs": [],
   "source": [
    "from sklearn.model_selection import train_test_split\n",
    "train_df, test_df = train_test_split(attr_selected, test_size=0.1)\n",
    "train_df, val_df = train_test_split(train_df, test_size=0.2)"
   ]
  },
  {
   "cell_type": "code",
   "execution_count": 5,
   "metadata": {},
   "outputs": [],
   "source": [
    "features = ['Attractive', 'Bangs', 'Black_Hair', 'Blond_Hair', 'Brown_Hair', 'Gray_Hair', 'Male', 'Oval_Face', 'Receding_Hairline', 'Smiling']\n",
    "for feature in features:\n",
    "    train_df[feature] = train_df[feature].astype('float32')\n",
    "    val_df[feature] = val_df[feature].astype('float32')\n",
    "    test_df[feature] = test_df[feature].astype('float32')"
   ]
  },
  {
   "cell_type": "code",
   "execution_count": 6,
   "metadata": {},
   "outputs": [
    {
     "name": "stdout",
     "output_type": "stream",
     "text": [
      "Found 36000 validated image filenames.\n",
      "Found 9000 validated image filenames.\n",
      "Found 5000 validated image filenames.\n"
     ]
    }
   ],
   "source": [
    "import tensorflow as tf\n",
    "from tensorflow.keras.preprocessing.image import ImageDataGenerator\n",
    "import matplotlib.pyplot as plt\n",
    "import os\n",
    "import pandas as pd\n",
    "from sklearn.model_selection import train_test_split\n",
    "\n",
    "batch_size = 64\n",
    "img_height = 128\n",
    "img_width = 128\n",
    "\n",
    "# Create ImageDataGenerators\n",
    "train_datagen = ImageDataGenerator(rescale=1./255, horizontal_flip=True, zoom_range=0.2, shear_range=0.2)\n",
    "test_datagen = ImageDataGenerator(rescale=1./255)\n",
    "\n",
    "train_generator = train_datagen.flow_from_dataframe(train_df, directory=\"img_align_celeba/img_align_celeba\", \n",
    "                                                    x_col=\"image_id\", y_col=features,\n",
    "                                                    target_size=(img_height, img_width), \n",
    "                                                    batch_size=batch_size, class_mode='raw')\n",
    "\n",
    "val_generator = train_datagen.flow_from_dataframe(val_df, directory=\"img_align_celeba/img_align_celeba\", \n",
    "                                                    x_col=\"image_id\", y_col=features,\n",
    "                                                    target_size=(img_height, img_width), \n",
    "                                                    batch_size=batch_size, class_mode='raw')\n",
    "\n",
    "test_generator = test_datagen.flow_from_dataframe(test_df, directory=\"img_align_celeba/img_align_celeba\", \n",
    "                                                  x_col=\"image_id\", y_col=features, \n",
    "                                                  target_size=(img_height, img_width), \n",
    "                                                  batch_size=batch_size, class_mode='raw', shuffle=False)\n",
    "\n"
   ]
  },
  {
   "attachments": {},
   "cell_type": "markdown",
   "metadata": {},
   "source": [
    "### Distribute load"
   ]
  },
  {
   "cell_type": "code",
   "execution_count": null,
   "metadata": {},
   "outputs": [
    {
     "name": "stdout",
     "output_type": "stream",
     "text": [
      "Num GPUs Available:  5\n",
      "Using GPUs:  ['/physical_device:GPU:0', '/physical_device:GPU:1', '/physical_device:GPU:2', '/physical_device:GPU:3', '/physical_device:GPU:4']\n",
      "INFO:tensorflow:Using MirroredStrategy with devices ('/job:localhost/replica:0/task:0/device:GPU:0', '/job:localhost/replica:0/task:0/device:GPU:1', '/job:localhost/replica:0/task:0/device:GPU:2', '/job:localhost/replica:0/task:0/device:GPU:3', '/job:localhost/replica:0/task:0/device:GPU:4')\n"
     ]
    }
   ],
   "source": [
    "# Distribute load over all GPU\n",
    "\n",
    "import tensorflow as tf\n",
    "from tensorflow.keras.preprocessing.image import ImageDataGenerator\n",
    "import matplotlib.pyplot as plt\n",
    "import os\n",
    "import pandas as pd\n",
    "from sklearn.model_selection import train_test_split\n",
    "\n",
    "def set_gpus(*gpu_indices):\n",
    "    # Get list of GPUs\n",
    "    gpus = tf.config.experimental.list_physical_devices('GPU')\n",
    "    print(\"Num GPUs Available: \", len(gpus))\n",
    "\n",
    "    if gpus:\n",
    "        visible_gpus = [gpus[i] for i in gpu_indices]\n",
    "        try:\n",
    "            # Only use specified GPUs and ignore the others\n",
    "            tf.config.experimental.set_visible_devices(visible_gpus, 'GPU')\n",
    "            for gpu in visible_gpus:\n",
    "                tf.config.experimental.set_memory_growth(gpu, True)\n",
    "            print(\"Using GPUs: \", [gpu.name for gpu in visible_gpus])\n",
    "        except RuntimeError as e:\n",
    "            print(e)\n",
    "    return visible_gpus\n",
    "\n",
    "# Call the function with the indices of the GPUs you want to use\n",
    "visible_gpus = set_gpus(0, 1, 2, 3, 4)  # Use the second, third, fourth, and fifth GPU\n",
    "\n",
    "# Extract names of the GPUs being used\n",
    "gpu_names = ['/device:GPU:' + gpu.name.split(':')[-1] for gpu in visible_gpus]\n",
    "\n",
    "strategy = tf.distribute.MirroredStrategy(devices=gpu_names)"
   ]
  },
  {
   "cell_type": "code",
   "execution_count": 9,
   "metadata": {},
   "outputs": [
    {
     "name": "stdout",
     "output_type": "stream",
     "text": [
      "Epoch 1/100\n"
     ]
    },
    {
     "name": "stderr",
     "output_type": "stream",
     "text": [
      "2023-05-25 23:42:55.857544: I tensorflow/core/common_runtime/executor.cc:1197] [/device:CPU:0] (DEBUG INFO) Executor start aborting (this does not indicate an error and you can ignore this message): INVALID_ARGUMENT: You must feed a value for placeholder tensor 'Placeholder/_0' with dtype int32\n",
      "\t [[{{node Placeholder/_0}}]]\n",
      "2023-05-25 23:42:56.558053: E tensorflow/core/grappler/optimizers/meta_optimizer.cc:954] layout failed: INVALID_ARGUMENT: Size of values 0 does not match size of permutation 4 @ fanin shape insequential_2/dropout_12/dropout/SelectV2-2-TransposeNHWCToNCHW-LayoutOptimizer\n"
     ]
    },
    {
     "name": "stdout",
     "output_type": "stream",
     "text": [
      "563/563 [==============================] - ETA: 0s - loss: 0.6941 - accuracy: 0.3344"
     ]
    },
    {
     "name": "stderr",
     "output_type": "stream",
     "text": [
      "2023-05-25 23:43:48.505959: I tensorflow/core/common_runtime/executor.cc:1197] [/device:CPU:0] (DEBUG INFO) Executor start aborting (this does not indicate an error and you can ignore this message): INVALID_ARGUMENT: You must feed a value for placeholder tensor 'Placeholder/_0' with dtype int32\n",
      "\t [[{{node Placeholder/_0}}]]\n"
     ]
    },
    {
     "name": "stdout",
     "output_type": "stream",
     "text": [
      "563/563 [==============================] - 65s 112ms/step - loss: 0.6941 - accuracy: 0.3344 - val_loss: 0.6497 - val_accuracy: 0.3112\n",
      "Epoch 2/100\n",
      "563/563 [==============================] - 62s 110ms/step - loss: 0.4850 - accuracy: 0.3371 - val_loss: 0.4368 - val_accuracy: 0.3448\n",
      "Epoch 3/100\n",
      "563/563 [==============================] - 62s 109ms/step - loss: 0.4256 - accuracy: 0.3396 - val_loss: 0.4198 - val_accuracy: 0.3772\n",
      "Epoch 4/100\n",
      "563/563 [==============================] - 62s 110ms/step - loss: 0.4098 - accuracy: 0.3382 - val_loss: 0.4027 - val_accuracy: 0.3504\n",
      "Epoch 5/100\n",
      "563/563 [==============================] - 63s 112ms/step - loss: 0.4023 - accuracy: 0.3352 - val_loss: 0.4170 - val_accuracy: 0.3504\n",
      "Epoch 6/100\n",
      "563/563 [==============================] - 62s 110ms/step - loss: 0.4010 - accuracy: 0.3416 - val_loss: 0.4070 - val_accuracy: 0.3479\n",
      "Epoch 7/100\n",
      "563/563 [==============================] - 62s 109ms/step - loss: 0.3984 - accuracy: 0.3414 - val_loss: 0.3910 - val_accuracy: 0.3824\n",
      "Epoch 8/100\n",
      "563/563 [==============================] - 62s 109ms/step - loss: 0.3951 - accuracy: 0.3395 - val_loss: 0.3869 - val_accuracy: 0.3043\n",
      "Epoch 9/100\n",
      "563/563 [==============================] - 61s 109ms/step - loss: 0.3933 - accuracy: 0.3442 - val_loss: 0.4430 - val_accuracy: 0.2666\n",
      "Epoch 10/100\n",
      "563/563 [==============================] - 62s 110ms/step - loss: 0.3913 - accuracy: 0.3441 - val_loss: 0.4069 - val_accuracy: 0.4204\n",
      "Epoch 11/100\n",
      "563/563 [==============================] - 63s 111ms/step - loss: 0.3847 - accuracy: 0.3437 - val_loss: 0.3787 - val_accuracy: 0.2999\n",
      "Epoch 12/100\n",
      "563/563 [==============================] - 62s 111ms/step - loss: 0.3787 - accuracy: 0.3436 - val_loss: 0.4176 - val_accuracy: 0.3582\n",
      "Epoch 13/100\n",
      "563/563 [==============================] - 63s 111ms/step - loss: 0.3769 - accuracy: 0.3450 - val_loss: 0.3838 - val_accuracy: 0.2617\n",
      "Epoch 14/100\n",
      "563/563 [==============================] - 62s 110ms/step - loss: 0.3674 - accuracy: 0.3503 - val_loss: 0.4185 - val_accuracy: 0.2263\n",
      "Epoch 15/100\n",
      "563/563 [==============================] - 63s 111ms/step - loss: 0.3647 - accuracy: 0.3478 - val_loss: 0.6285 - val_accuracy: 0.1568\n",
      "Epoch 16/100\n",
      "563/563 [==============================] - 62s 110ms/step - loss: 0.3572 - accuracy: 0.3468 - val_loss: 0.3486 - val_accuracy: 0.3039\n",
      "Epoch 17/100\n",
      "563/563 [==============================] - 62s 111ms/step - loss: 0.3531 - accuracy: 0.3458 - val_loss: 0.3403 - val_accuracy: 0.3661\n",
      "Epoch 18/100\n",
      "563/563 [==============================] - 62s 110ms/step - loss: 0.3494 - accuracy: 0.3506 - val_loss: 0.3482 - val_accuracy: 0.3076\n",
      "Epoch 19/100\n",
      "563/563 [==============================] - 62s 110ms/step - loss: 0.3456 - accuracy: 0.3471 - val_loss: 0.3381 - val_accuracy: 0.3168\n",
      "Epoch 20/100\n",
      "563/563 [==============================] - 62s 110ms/step - loss: 0.3435 - accuracy: 0.3464 - val_loss: 0.3906 - val_accuracy: 0.2060\n",
      "Epoch 21/100\n",
      "563/563 [==============================] - 62s 110ms/step - loss: 0.3392 - accuracy: 0.3475 - val_loss: 0.3819 - val_accuracy: 0.2266\n",
      "Epoch 22/100\n",
      "563/563 [==============================] - 62s 110ms/step - loss: 0.3362 - accuracy: 0.3501 - val_loss: 0.3655 - val_accuracy: 0.3957\n",
      "Epoch 23/100\n",
      "563/563 [==============================] - 62s 110ms/step - loss: 0.3328 - accuracy: 0.3476 - val_loss: 0.3376 - val_accuracy: 0.3454\n",
      "Epoch 24/100\n",
      "563/563 [==============================] - 62s 110ms/step - loss: 0.3318 - accuracy: 0.3510 - val_loss: 0.4013 - val_accuracy: 0.2410\n",
      "Epoch 25/100\n",
      "563/563 [==============================] - 62s 111ms/step - loss: 0.3281 - accuracy: 0.3483 - val_loss: 0.3360 - val_accuracy: 0.3069\n",
      "Epoch 26/100\n",
      "563/563 [==============================] - 62s 111ms/step - loss: 0.3278 - accuracy: 0.3509 - val_loss: 0.3341 - val_accuracy: 0.3142\n",
      "Epoch 27/100\n",
      "563/563 [==============================] - 62s 110ms/step - loss: 0.3256 - accuracy: 0.3505 - val_loss: 0.3369 - val_accuracy: 0.3787\n",
      "Epoch 28/100\n",
      "563/563 [==============================] - 61s 109ms/step - loss: 0.3243 - accuracy: 0.3485 - val_loss: 0.3591 - val_accuracy: 0.2511\n",
      "Epoch 29/100\n",
      "563/563 [==============================] - 62s 110ms/step - loss: 0.3221 - accuracy: 0.3504 - val_loss: 0.3185 - val_accuracy: 0.3144\n",
      "Epoch 30/100\n",
      "563/563 [==============================] - 62s 110ms/step - loss: 0.3198 - accuracy: 0.3526 - val_loss: 0.3511 - val_accuracy: 0.2389\n",
      "Epoch 31/100\n",
      "563/563 [==============================] - 62s 110ms/step - loss: 0.3185 - accuracy: 0.3509 - val_loss: 0.3297 - val_accuracy: 0.2753\n",
      "Epoch 32/100\n",
      "563/563 [==============================] - 61s 109ms/step - loss: 0.3169 - accuracy: 0.3548 - val_loss: 0.3389 - val_accuracy: 0.4724\n",
      "Epoch 33/100\n",
      "563/563 [==============================] - 61s 109ms/step - loss: 0.3153 - accuracy: 0.3508 - val_loss: 0.3101 - val_accuracy: 0.3381\n",
      "Epoch 34/100\n",
      "563/563 [==============================] - 60s 107ms/step - loss: 0.3143 - accuracy: 0.3515 - val_loss: 0.3095 - val_accuracy: 0.3781\n",
      "Epoch 35/100\n",
      "563/563 [==============================] - 61s 109ms/step - loss: 0.3136 - accuracy: 0.3502 - val_loss: 0.3187 - val_accuracy: 0.2900\n",
      "Epoch 36/100\n",
      "563/563 [==============================] - 60s 107ms/step - loss: 0.3126 - accuracy: 0.3513 - val_loss: 0.3289 - val_accuracy: 0.3860\n",
      "Epoch 37/100\n",
      "563/563 [==============================] - 60s 107ms/step - loss: 0.3120 - accuracy: 0.3539 - val_loss: 0.3103 - val_accuracy: 0.3171\n",
      "Epoch 38/100\n",
      "563/563 [==============================] - 61s 108ms/step - loss: 0.3105 - accuracy: 0.3498 - val_loss: 0.3008 - val_accuracy: 0.3919\n",
      "Epoch 39/100\n",
      "563/563 [==============================] - 60s 107ms/step - loss: 0.3094 - accuracy: 0.3530 - val_loss: 0.3048 - val_accuracy: 0.3070\n",
      "Epoch 40/100\n",
      "563/563 [==============================] - 60s 107ms/step - loss: 0.3094 - accuracy: 0.3546 - val_loss: 0.2999 - val_accuracy: 0.3344\n",
      "Epoch 41/100\n",
      "563/563 [==============================] - 61s 108ms/step - loss: 0.3085 - accuracy: 0.3476 - val_loss: 0.3018 - val_accuracy: 0.3264\n",
      "Epoch 42/100\n",
      "563/563 [==============================] - 60s 107ms/step - loss: 0.3066 - accuracy: 0.3499 - val_loss: 0.2985 - val_accuracy: 0.3430\n",
      "Epoch 43/100\n",
      "563/563 [==============================] - 60s 106ms/step - loss: 0.3050 - accuracy: 0.3519 - val_loss: 0.2999 - val_accuracy: 0.3246\n",
      "Epoch 44/100\n",
      "563/563 [==============================] - 60s 107ms/step - loss: 0.3036 - accuracy: 0.3540 - val_loss: 0.3369 - val_accuracy: 0.2256\n",
      "Epoch 45/100\n",
      "563/563 [==============================] - 61s 108ms/step - loss: 0.3040 - accuracy: 0.3497 - val_loss: 0.3179 - val_accuracy: 0.2594\n",
      "Epoch 46/100\n",
      "563/563 [==============================] - 60s 107ms/step - loss: 0.3036 - accuracy: 0.3501 - val_loss: 0.3240 - val_accuracy: 0.3434\n",
      "Epoch 47/100\n",
      "563/563 [==============================] - 61s 108ms/step - loss: 0.3042 - accuracy: 0.3507 - val_loss: 0.3035 - val_accuracy: 0.3072\n",
      "Epoch 48/100\n",
      "563/563 [==============================] - 60s 107ms/step - loss: 0.3014 - accuracy: 0.3541 - val_loss: 0.3329 - val_accuracy: 0.2822\n",
      "Epoch 49/100\n",
      "563/563 [==============================] - 61s 108ms/step - loss: 0.3020 - accuracy: 0.3497 - val_loss: 0.3035 - val_accuracy: 0.3051\n",
      "Epoch 50/100\n",
      "563/563 [==============================] - 61s 108ms/step - loss: 0.3004 - accuracy: 0.3491 - val_loss: 0.3231 - val_accuracy: 0.2906\n",
      "Epoch 51/100\n",
      "563/563 [==============================] - 61s 108ms/step - loss: 0.3025 - accuracy: 0.3495 - val_loss: 0.3270 - val_accuracy: 0.2732\n",
      "Epoch 52/100\n",
      "563/563 [==============================] - 61s 109ms/step - loss: 0.3003 - accuracy: 0.3498 - val_loss: 0.2941 - val_accuracy: 0.3640\n",
      "Epoch 53/100\n",
      "563/563 [==============================] - 60s 107ms/step - loss: 0.2996 - accuracy: 0.3516 - val_loss: 0.3297 - val_accuracy: 0.4626\n",
      "Epoch 54/100\n",
      "563/563 [==============================] - 61s 109ms/step - loss: 0.2997 - accuracy: 0.3534 - val_loss: 0.3154 - val_accuracy: 0.3767\n",
      "Epoch 55/100\n",
      "563/563 [==============================] - 61s 108ms/step - loss: 0.2997 - accuracy: 0.3514 - val_loss: 0.2922 - val_accuracy: 0.3394\n",
      "Epoch 56/100\n",
      "563/563 [==============================] - 61s 108ms/step - loss: 0.2990 - accuracy: 0.3545 - val_loss: 0.3139 - val_accuracy: 0.2654\n",
      "Epoch 57/100\n",
      "563/563 [==============================] - 60s 107ms/step - loss: 0.2987 - accuracy: 0.3519 - val_loss: 0.3000 - val_accuracy: 0.3109\n",
      "Epoch 58/100\n",
      "563/563 [==============================] - 61s 108ms/step - loss: 0.2976 - accuracy: 0.3525 - val_loss: 0.2857 - val_accuracy: 0.3283\n",
      "Epoch 59/100\n",
      "563/563 [==============================] - 61s 108ms/step - loss: 0.2988 - accuracy: 0.3522 - val_loss: 0.3254 - val_accuracy: 0.2448\n",
      "Epoch 60/100\n",
      "563/563 [==============================] - 60s 107ms/step - loss: 0.2984 - accuracy: 0.3524 - val_loss: 0.2983 - val_accuracy: 0.3530\n",
      "Epoch 61/100\n",
      "563/563 [==============================] - 61s 108ms/step - loss: 0.2973 - accuracy: 0.3554 - val_loss: 0.3285 - val_accuracy: 0.2566\n",
      "Epoch 62/100\n",
      "563/563 [==============================] - 61s 108ms/step - loss: 0.2980 - accuracy: 0.3518 - val_loss: 0.3070 - val_accuracy: 0.3177\n",
      "Epoch 63/100\n",
      "563/563 [==============================] - 60s 107ms/step - loss: 0.2973 - accuracy: 0.3528 - val_loss: 0.2980 - val_accuracy: 0.3009\n",
      "Epoch 64/100\n",
      "563/563 [==============================] - 60s 107ms/step - loss: 0.2970 - accuracy: 0.3554 - val_loss: 0.2900 - val_accuracy: 0.3558\n",
      "Epoch 65/100\n",
      "563/563 [==============================] - 61s 108ms/step - loss: 0.2957 - accuracy: 0.3519 - val_loss: 0.3442 - val_accuracy: 0.2364\n",
      "Epoch 66/100\n",
      "563/563 [==============================] - 60s 107ms/step - loss: 0.2949 - accuracy: 0.3535 - val_loss: 0.3230 - val_accuracy: 0.3394\n",
      "Epoch 67/100\n",
      "563/563 [==============================] - 60s 107ms/step - loss: 0.2961 - accuracy: 0.3508 - val_loss: 0.2975 - val_accuracy: 0.3114\n",
      "Epoch 68/100\n",
      "563/563 [==============================] - 61s 108ms/step - loss: 0.2946 - accuracy: 0.3501 - val_loss: 0.2856 - val_accuracy: 0.3246\n",
      "Epoch 69/100\n",
      "563/563 [==============================] - 61s 109ms/step - loss: 0.2943 - accuracy: 0.3517 - val_loss: 0.3081 - val_accuracy: 0.2753\n",
      "Epoch 70/100\n",
      "563/563 [==============================] - 61s 108ms/step - loss: 0.2957 - accuracy: 0.3545 - val_loss: 0.2985 - val_accuracy: 0.3248\n",
      "Epoch 71/100\n",
      "563/563 [==============================] - 60s 107ms/step - loss: 0.2946 - accuracy: 0.3551 - val_loss: 0.3160 - val_accuracy: 0.4202\n",
      "Epoch 72/100\n",
      "563/563 [==============================] - 62s 110ms/step - loss: 0.2943 - accuracy: 0.3537 - val_loss: 0.3134 - val_accuracy: 0.2862\n"
     ]
    }
   ],
   "source": [
    "# Model\n",
    "from tensorflow.keras.models import Sequential\n",
    "from tensorflow.keras.layers import Conv2D, MaxPooling2D, Flatten, Dense, Dropout, BatchNormalization\n",
    "from tensorflow.keras.regularizers import l1_l2\n",
    "\n",
    "def _create_model(input_shape):\n",
    "    model = Sequential([\n",
    "        Conv2D(32, (3,3), activation = 'relu', input_shape = (input_shape[0], input_shape[1], 3), kernel_regularizer = l1_l2(l1=1e-5, l2=1e-4)),\n",
    "        MaxPooling2D((2, 2)),\n",
    "        BatchNormalization(),\n",
    "        Dropout(0.25),\n",
    "\n",
    "        Conv2D(64, (3,3), activation = 'relu', kernel_regularizer = l1_l2(l1=1e-5, l2=1e-4)),\n",
    "        MaxPooling2D((2, 2)),\n",
    "        BatchNormalization(),\n",
    "        Dropout(0.25),\n",
    "\n",
    "        Conv2D(128, (3,3), activation = 'relu', kernel_regularizer = l1_l2(l1=1e-5, l2=1e-4)),\n",
    "        MaxPooling2D((2, 2)),\n",
    "        BatchNormalization(),\n",
    "        Dropout(0.25),\n",
    "\n",
    "        Conv2D(256, (3,3), activation = 'relu', kernel_regularizer = l1_l2(l1=1e-5, l2=1e-4)),\n",
    "        MaxPooling2D((2, 2)),\n",
    "        BatchNormalization(),\n",
    "        Dropout(0.25),\n",
    "\n",
    "        Conv2D(512, (3,3), activation = 'relu', kernel_regularizer = l1_l2(l1=1e-5, l2=1e-4)),\n",
    "        MaxPooling2D((2, 2)),\n",
    "        BatchNormalization(),\n",
    "        Dropout(0.25),\n",
    "\n",
    "        Flatten(),\n",
    "        Dense(2048, activation = 'relu'),\n",
    "        BatchNormalization(),\n",
    "        Dropout(0.25),\n",
    "\n",
    "        Dense(len(features), activation='sigmoid')\n",
    "\n",
    "    ])\n",
    "\n",
    "    return model\n",
    "\n",
    "callback = tf.keras.callbacks.EarlyStopping(monitor='loss', patience=3)\n",
    "\n",
    "# with strategy.scope():\n",
    "m1 = _create_model((img_height, img_width))\n",
    "m1.compile(optimizer = 'adam', loss = 'binary_crossentropy', metrics = ['accuracy'])\n",
    "history = m1.fit(train_generator, epochs = 100, validation_data = val_generator, callbacks = [callback])"
   ]
  },
  {
   "cell_type": "code",
   "execution_count": 13,
   "metadata": {},
   "outputs": [
    {
     "name": "stderr",
     "output_type": "stream",
     "text": [
      "2023-05-26 04:21:44.079585: I tensorflow/core/common_runtime/executor.cc:1197] [/device:CPU:0] (DEBUG INFO) Executor start aborting (this does not indicate an error and you can ignore this message): INVALID_ARGUMENT: You must feed a value for placeholder tensor 'Placeholder/_0' with dtype int32\n",
      "\t [[{{node Placeholder/_0}}]]\n"
     ]
    },
    {
     "name": "stdout",
     "output_type": "stream",
     "text": [
      "Test loss for the model : 0.3209\n",
      "Test accuracy for the model: 0.2836\n"
     ]
    }
   ],
   "source": [
    "loss, accuracy = m1.evaluate(test_generator, steps=len(test_generator), verbose=0)\n",
    "print(f'Test loss for the model : {loss:.4f}')\n",
    "print(f'Test accuracy for the model: {accuracy:.4f}')"
   ]
  },
  {
   "attachments": {},
   "cell_type": "markdown",
   "metadata": {},
   "source": [
    "### Try random search for hyperparameter tuning"
   ]
  },
  {
   "cell_type": "code",
   "execution_count": 12,
   "metadata": {},
   "outputs": [
    {
     "name": "stdout",
     "output_type": "stream",
     "text": [
      "Trial 5 Complete [00h 42m 44s]\n",
      "val_accuracy: 0.4107142786184947\n",
      "\n",
      "Best val_accuracy So Far: 0.4969865878423055\n",
      "Total elapsed time: 03h 08m 52s\n",
      "INFO:tensorflow:Oracle triggered exit\n",
      "Results summary\n",
      "Results in random_search/cnn_hyperparam_tuning\n",
      "Showing 10 best trials\n",
      "Objective(name=\"val_accuracy\", direction=\"max\")\n",
      "\n",
      "Trial 1 summary\n",
      "Hyperparameters:\n",
      "use_batch_norm: False\n",
      "conv_1_filter: 80\n",
      "conv_1_kernel: 5\n",
      "dropout_1: 0.15000000000000002\n",
      "conv_2_filter: 240\n",
      "conv_2_kernel: 3\n",
      "dropout_2: 0.25\n",
      "conv_3_filter: 464\n",
      "conv_3_kernel: 5\n",
      "dropout_3: 0.05\n",
      "conv_4_filter: 1024\n",
      "conv_4_kernel: 5\n",
      "dropout_4: 0.35000000000000003\n",
      "dense_1_units: 48\n",
      "learning_rate: 0.009249561789910456\n",
      "Score: 0.4969865878423055\n",
      "\n",
      "Trial 0 summary\n",
      "Hyperparameters:\n",
      "use_batch_norm: True\n",
      "conv_1_filter: 96\n",
      "conv_1_kernel: 5\n",
      "dropout_1: 0.35000000000000003\n",
      "conv_2_filter: 208\n",
      "conv_2_kernel: 3\n",
      "dropout_2: 0.05\n",
      "conv_3_filter: 304\n",
      "conv_3_kernel: 5\n",
      "dropout_3: 0.0\n",
      "conv_4_filter: 464\n",
      "conv_4_kernel: 3\n",
      "dropout_4: 0.30000000000000004\n",
      "dense_1_units: 464\n",
      "learning_rate: 0.0020876854174057147\n",
      "Score: 0.478608638048172\n",
      "\n",
      "Trial 4 summary\n",
      "Hyperparameters:\n",
      "use_batch_norm: False\n",
      "conv_1_filter: 112\n",
      "conv_1_kernel: 3\n",
      "dropout_1: 0.45\n",
      "conv_2_filter: 192\n",
      "conv_2_kernel: 5\n",
      "dropout_2: 0.2\n",
      "conv_3_filter: 448\n",
      "conv_3_kernel: 5\n",
      "dropout_3: 0.45\n",
      "conv_4_filter: 96\n",
      "conv_4_kernel: 3\n",
      "dropout_4: 0.25\n",
      "dense_1_units: 608\n",
      "learning_rate: 0.00025363862196633427\n",
      "Score: 0.4107142786184947\n",
      "\n",
      "Trial 3 summary\n",
      "Hyperparameters:\n",
      "use_batch_norm: False\n",
      "conv_1_filter: 80\n",
      "conv_1_kernel: 5\n",
      "dropout_1: 0.35000000000000003\n",
      "conv_2_filter: 112\n",
      "conv_2_kernel: 3\n",
      "dropout_2: 0.1\n",
      "conv_3_filter: 496\n",
      "conv_3_kernel: 5\n",
      "dropout_3: 0.30000000000000004\n",
      "conv_4_filter: 128\n",
      "conv_4_kernel: 3\n",
      "dropout_4: 0.0\n",
      "dense_1_units: 624\n",
      "learning_rate: 0.00033496146275996256\n",
      "Score: 0.3659970164299011\n",
      "\n",
      "Trial 2 summary\n",
      "Hyperparameters:\n",
      "use_batch_norm: False\n",
      "conv_1_filter: 48\n",
      "conv_1_kernel: 3\n",
      "dropout_1: 0.4\n",
      "conv_2_filter: 224\n",
      "conv_2_kernel: 5\n",
      "dropout_2: 0.0\n",
      "conv_3_filter: 256\n",
      "conv_3_kernel: 5\n",
      "dropout_3: 0.2\n",
      "conv_4_filter: 352\n",
      "conv_4_kernel: 5\n",
      "dropout_4: 0.45\n",
      "dense_1_units: 336\n",
      "learning_rate: 0.0002927496684703759\n",
      "Score: 0.3651041587193807\n"
     ]
    }
   ],
   "source": [
    "from keras import optimizers\n",
    "from kerastuner import HyperModel\n",
    "from kerastuner.tuners import RandomSearch\n",
    "\n",
    "batch_size = 64\n",
    "img_height = 128\n",
    "img_width = 128\n",
    "\n",
    "class CNNHyperModel(HyperModel):\n",
    "    def __init__(self, input_shape, num_classes):\n",
    "        self.input_shape = input_shape\n",
    "        self.num_classes = num_classes\n",
    "\n",
    "    def build(self, hp):\n",
    "        model = Sequential()\n",
    "        use_bn = hp.Boolean('use_batch_norm')\n",
    "        model.add(Conv2D(filters=hp.Int('conv_1_filter', min_value=32, max_value=128, step=16),\n",
    "                         kernel_size=hp.Choice('conv_1_kernel', values = [3,5]),\n",
    "                         activation='relu',\n",
    "                         input_shape=self.input_shape))\n",
    "        model.add(MaxPooling2D((2, 2)))\n",
    "        if use_bn:\n",
    "            model.add(BatchNormalization())\n",
    "        model.add(Dropout(rate=hp.Float('dropout_1', min_value=0.0, max_value=0.5, default=0.25, step=0.05)))\n",
    "\n",
    "        model.add(Conv2D(filters=hp.Int('conv_2_filter', min_value=32, max_value=256, step=16),\n",
    "                         kernel_size=hp.Choice('conv_2_kernel', values = [3,5]),\n",
    "                         activation='relu'))\n",
    "        model.add(MaxPooling2D((2, 2)))\n",
    "        if use_bn:\n",
    "            model.add(BatchNormalization())\n",
    "        model.add(Dropout(rate=hp.Float('dropout_2', min_value=0.0, max_value=0.5, default=0.25, step=0.05)))\n",
    "\n",
    "        model.add(Conv2D(filters=hp.Int('conv_3_filter', min_value=32, max_value=512, step=16),\n",
    "                         kernel_size=hp.Choice('conv_3_kernel', values = [3,5]),\n",
    "                         activation='relu'))\n",
    "        model.add(MaxPooling2D((2, 2)))\n",
    "        if use_bn:\n",
    "            model.add(BatchNormalization())\n",
    "        model.add(Dropout(rate=hp.Float('dropout_3', min_value=0.0, max_value=0.5, default=0.25, step=0.05)))\n",
    "\n",
    "        model.add(Conv2D(filters=hp.Int('conv_4_filter', min_value=32, max_value=1024, step=16),\n",
    "                         kernel_size=hp.Choice('conv_4_kernel', values = [3,5]),\n",
    "                         activation='relu'))\n",
    "        model.add(MaxPooling2D((2, 2)))\n",
    "        if use_bn:\n",
    "            model.add(BatchNormalization())\n",
    "        model.add(Dropout(rate=hp.Float('dropout_4', min_value=0.0, max_value=0.5, default=0.25, step=0.05)))\n",
    "\n",
    "        model.add(Flatten())\n",
    "        model.add(Dense(units=hp.Int('dense_1_units', min_value=32, max_value=2048, step=16),\n",
    "                        activation='relu'))\n",
    "        if use_bn:\n",
    "            model.add(BatchNormalization())\n",
    "        model.add(Dropout(rate=hp.Float('dropout_3', min_value=0.0, max_value=0.5, default=0.25, step=0.05)))\n",
    "\n",
    "        model.add(Dense(self.num_classes, activation='sigmoid'))\n",
    "\n",
    "        model.compile(optimizer=optimizers.Adam(hp.Float('learning_rate', min_value=1e-4, max_value=1e-2, sampling='LOG')),\n",
    "                      loss='binary_crossentropy',\n",
    "                      metrics=['accuracy'])\n",
    "\n",
    "        return model\n",
    "\n",
    "input_shape = (img_height, img_width, 3)  # Assuming your images are RGB, adjust if otherwise\n",
    "num_classes = len(features)\n",
    "\n",
    "hypermodel = CNNHyperModel(input_shape, num_classes)\n",
    "\n",
    "tuner = RandomSearch(hypermodel,\n",
    "                     objective='val_accuracy',\n",
    "                     max_trials=5,\n",
    "                     executions_per_trial=3,\n",
    "                     directory='random_search',\n",
    "                     project_name='cnn_hyperparam_tuning')\n",
    "\n",
    "tuner.search_space_summary()\n",
    "\n",
    "tuner.search(train_generator, \n",
    "             epochs=10, \n",
    "             validation_data=val_generator,\n",
    "             steps_per_epoch=train_generator.samples // batch_size,  # Required due to use of generator\n",
    "             validation_steps=val_generator.samples // batch_size)  # Required due to use of generator\n",
    "\n",
    "tuner.results_summary()\n"
   ]
  },
  {
   "cell_type": "code",
   "execution_count": 14,
   "metadata": {},
   "outputs": [
    {
     "name": "stdout",
     "output_type": "stream",
     "text": [
      "Model: \"sequential\"\n",
      "_________________________________________________________________\n",
      " Layer (type)                Output Shape              Param #   \n",
      "=================================================================\n",
      " conv2d (Conv2D)             (None, 124, 124, 80)      6080      \n",
      "                                                                 \n",
      " max_pooling2d (MaxPooling2D  (None, 62, 62, 80)       0         \n",
      " )                                                               \n",
      "                                                                 \n",
      " dropout (Dropout)           (None, 62, 62, 80)        0         \n",
      "                                                                 \n",
      " conv2d_1 (Conv2D)           (None, 60, 60, 240)       173040    \n",
      "                                                                 \n",
      " max_pooling2d_1 (MaxPooling  (None, 30, 30, 240)      0         \n",
      " 2D)                                                             \n",
      "                                                                 \n",
      " dropout_1 (Dropout)         (None, 30, 30, 240)       0         \n",
      "                                                                 \n",
      " conv2d_2 (Conv2D)           (None, 26, 26, 464)       2784464   \n",
      "                                                                 \n",
      " max_pooling2d_2 (MaxPooling  (None, 13, 13, 464)      0         \n",
      " 2D)                                                             \n",
      "                                                                 \n",
      " dropout_2 (Dropout)         (None, 13, 13, 464)       0         \n",
      "                                                                 \n",
      " conv2d_3 (Conv2D)           (None, 9, 9, 1024)        11879424  \n",
      "                                                                 \n",
      " max_pooling2d_3 (MaxPooling  (None, 4, 4, 1024)       0         \n",
      " 2D)                                                             \n",
      "                                                                 \n",
      " dropout_3 (Dropout)         (None, 4, 4, 1024)        0         \n",
      "                                                                 \n",
      " flatten (Flatten)           (None, 16384)             0         \n",
      "                                                                 \n",
      " dense (Dense)               (None, 48)                786480    \n",
      "                                                                 \n",
      " dropout_4 (Dropout)         (None, 48)                0         \n",
      "                                                                 \n",
      " dense_1 (Dense)             (None, 10)                490       \n",
      "                                                                 \n",
      "=================================================================\n",
      "Total params: 15,629,978\n",
      "Trainable params: 15,629,978\n",
      "Non-trainable params: 0\n",
      "_________________________________________________________________\n"
     ]
    }
   ],
   "source": [
    "best_model = tuner.get_best_models(num_models=1)[0]\n",
    "best_model.summary()"
   ]
  },
  {
   "cell_type": "code",
   "execution_count": 15,
   "metadata": {},
   "outputs": [
    {
     "name": "stderr",
     "output_type": "stream",
     "text": [
      "2023-05-26 12:44:07.895210: I tensorflow/core/common_runtime/executor.cc:1197] [/device:CPU:0] (DEBUG INFO) Executor start aborting (this does not indicate an error and you can ignore this message): INVALID_ARGUMENT: You must feed a value for placeholder tensor 'Placeholder/_0' with dtype int32\n",
      "\t [[{{node Placeholder/_0}}]]\n"
     ]
    },
    {
     "name": "stdout",
     "output_type": "stream",
     "text": [
      "Test loss for the model : 0.5017\n",
      "Test accuracy for the model: 0.5462\n"
     ]
    }
   ],
   "source": [
    "loss, accuracy = best_model.evaluate(test_generator, steps=len(test_generator), verbose=0)\n",
    "print(f'Test loss for the model : {loss:.4f}')\n",
    "print(f'Test accuracy for the model: {accuracy:.4f}')"
   ]
  },
  {
   "cell_type": "code",
   "execution_count": 16,
   "metadata": {},
   "outputs": [
    {
     "data": {
      "image/png": "[encoded data removed]",
      "text/plain": [
       "<Figure size 640x480 with 1 Axes>"
      ]
     },
     "metadata": {},
     "output_type": "display_data"
    }
   ],
   "source": [
    "plt.plot(history.history['loss'])\n",
    "plt.plot(history.history['val_loss'])\n",
    "plt.title('Model loss (Custom)')\n",
    "plt.ylabel('Loss')\n",
    "plt.xlabel('Epoch')\n",
    "plt.legend(['Train', 'Test'], loc='upper left')\n",
    "plt.show()"
   ]
  },
  {
   "cell_type": "code",
   "execution_count": 18,
   "metadata": {},
   "outputs": [],
   "source": [
    "best_model.save('custom_model_4_blocks_best.h5')"
   ]
  },
  {
   "attachments": {},
   "cell_type": "markdown",
   "metadata": {},
   "source": [
    "## 1 feature"
   ]
  },
  {
   "cell_type": "code",
   "execution_count": 2,
   "metadata": {},
   "outputs": [
    {
     "name": "stderr",
     "output_type": "stream",
     "text": [
      "2023-05-27 21:20:44.517670: I tensorflow/core/util/port.cc:110] oneDNN custom operations are on. You may see slightly different numerical results due to floating-point round-off errors from different computation orders. To turn them off, set the environment variable `TF_ENABLE_ONEDNN_OPTS=0`.\n",
      "2023-05-27 21:20:44.542321: I tensorflow/core/platform/cpu_feature_guard.cc:182] This TensorFlow binary is optimized to use available CPU instructions in performance-critical operations.\n",
      "To enable the following instructions: AVX2 AVX_VNNI FMA, in other operations, rebuild TensorFlow with the appropriate compiler flags.\n",
      "2023-05-27 21:20:44.915147: W tensorflow/compiler/tf2tensorrt/utils/py_utils.cc:38] TF-TRT Warning: Could not find TensorRT\n"
     ]
    },
    {
     "data": {
      "text/html": [
       "<div>\n",
       "<style scoped>\n",
       "    .dataframe tbody tr th:only-of-type {\n",
       "        vertical-align: middle;\n",
       "    }\n",
       "\n",
       "    .dataframe tbody tr th {\n",
       "        vertical-align: top;\n",
       "    }\n",
       "\n",
       "    .dataframe thead th {\n",
       "        text-align: right;\n",
       "    }\n",
       "</style>\n",
       "<table border=\"1\" class=\"dataframe\">\n",
       "  <thead>\n",
       "    <tr style=\"text-align: right;\">\n",
       "      <th></th>\n",
       "      <th>image_id</th>\n",
       "      <th>Attractive</th>\n",
       "      <th>Bangs</th>\n",
       "      <th>Black_Hair</th>\n",
       "      <th>Blond_Hair</th>\n",
       "      <th>Brown_Hair</th>\n",
       "      <th>Gray_Hair</th>\n",
       "      <th>Male</th>\n",
       "      <th>Oval_Face</th>\n",
       "      <th>Receding_Hairline</th>\n",
       "      <th>Smiling</th>\n",
       "    </tr>\n",
       "  </thead>\n",
       "  <tbody>\n",
       "    <tr>\n",
       "      <th>0</th>\n",
       "      <td>000001.jpg</td>\n",
       "      <td>1</td>\n",
       "      <td>0</td>\n",
       "      <td>0</td>\n",
       "      <td>0</td>\n",
       "      <td>1</td>\n",
       "      <td>0</td>\n",
       "      <td>0</td>\n",
       "      <td>0</td>\n",
       "      <td>0</td>\n",
       "      <td>1</td>\n",
       "    </tr>\n",
       "    <tr>\n",
       "      <th>1</th>\n",
       "      <td>000002.jpg</td>\n",
       "      <td>0</td>\n",
       "      <td>0</td>\n",
       "      <td>0</td>\n",
       "      <td>0</td>\n",
       "      <td>1</td>\n",
       "      <td>0</td>\n",
       "      <td>0</td>\n",
       "      <td>0</td>\n",
       "      <td>0</td>\n",
       "      <td>1</td>\n",
       "    </tr>\n",
       "    <tr>\n",
       "      <th>2</th>\n",
       "      <td>000003.jpg</td>\n",
       "      <td>0</td>\n",
       "      <td>0</td>\n",
       "      <td>0</td>\n",
       "      <td>0</td>\n",
       "      <td>0</td>\n",
       "      <td>0</td>\n",
       "      <td>1</td>\n",
       "      <td>0</td>\n",
       "      <td>0</td>\n",
       "      <td>0</td>\n",
       "    </tr>\n",
       "    <tr>\n",
       "      <th>3</th>\n",
       "      <td>000004.jpg</td>\n",
       "      <td>1</td>\n",
       "      <td>0</td>\n",
       "      <td>0</td>\n",
       "      <td>0</td>\n",
       "      <td>0</td>\n",
       "      <td>0</td>\n",
       "      <td>0</td>\n",
       "      <td>0</td>\n",
       "      <td>0</td>\n",
       "      <td>0</td>\n",
       "    </tr>\n",
       "    <tr>\n",
       "      <th>4</th>\n",
       "      <td>000005.jpg</td>\n",
       "      <td>1</td>\n",
       "      <td>0</td>\n",
       "      <td>0</td>\n",
       "      <td>0</td>\n",
       "      <td>0</td>\n",
       "      <td>0</td>\n",
       "      <td>0</td>\n",
       "      <td>0</td>\n",
       "      <td>0</td>\n",
       "      <td>0</td>\n",
       "    </tr>\n",
       "    <tr>\n",
       "      <th>...</th>\n",
       "      <td>...</td>\n",
       "      <td>...</td>\n",
       "      <td>...</td>\n",
       "      <td>...</td>\n",
       "      <td>...</td>\n",
       "      <td>...</td>\n",
       "      <td>...</td>\n",
       "      <td>...</td>\n",
       "      <td>...</td>\n",
       "      <td>...</td>\n",
       "      <td>...</td>\n",
       "    </tr>\n",
       "    <tr>\n",
       "      <th>49995</th>\n",
       "      <td>049996.jpg</td>\n",
       "      <td>0</td>\n",
       "      <td>0</td>\n",
       "      <td>0</td>\n",
       "      <td>1</td>\n",
       "      <td>0</td>\n",
       "      <td>0</td>\n",
       "      <td>0</td>\n",
       "      <td>1</td>\n",
       "      <td>0</td>\n",
       "      <td>1</td>\n",
       "    </tr>\n",
       "    <tr>\n",
       "      <th>49996</th>\n",
       "      <td>049997.jpg</td>\n",
       "      <td>1</td>\n",
       "      <td>1</td>\n",
       "      <td>0</td>\n",
       "      <td>0</td>\n",
       "      <td>1</td>\n",
       "      <td>0</td>\n",
       "      <td>0</td>\n",
       "      <td>0</td>\n",
       "      <td>0</td>\n",
       "      <td>1</td>\n",
       "    </tr>\n",
       "    <tr>\n",
       "      <th>49997</th>\n",
       "      <td>049998.jpg</td>\n",
       "      <td>0</td>\n",
       "      <td>0</td>\n",
       "      <td>1</td>\n",
       "      <td>0</td>\n",
       "      <td>0</td>\n",
       "      <td>0</td>\n",
       "      <td>1</td>\n",
       "      <td>0</td>\n",
       "      <td>0</td>\n",
       "      <td>0</td>\n",
       "    </tr>\n",
       "    <tr>\n",
       "      <th>49998</th>\n",
       "      <td>049999.jpg</td>\n",
       "      <td>1</td>\n",
       "      <td>0</td>\n",
       "      <td>0</td>\n",
       "      <td>0</td>\n",
       "      <td>0</td>\n",
       "      <td>0</td>\n",
       "      <td>0</td>\n",
       "      <td>0</td>\n",
       "      <td>0</td>\n",
       "      <td>1</td>\n",
       "    </tr>\n",
       "    <tr>\n",
       "      <th>49999</th>\n",
       "      <td>050000.jpg</td>\n",
       "      <td>1</td>\n",
       "      <td>0</td>\n",
       "      <td>0</td>\n",
       "      <td>0</td>\n",
       "      <td>0</td>\n",
       "      <td>0</td>\n",
       "      <td>0</td>\n",
       "      <td>0</td>\n",
       "      <td>0</td>\n",
       "      <td>0</td>\n",
       "    </tr>\n",
       "  </tbody>\n",
       "</table>\n",
       "<p>50000 rows × 11 columns</p>\n",
       "</div>"
      ],
      "text/plain": [
       "         image_id  Attractive  Bangs  Black_Hair  Blond_Hair  Brown_Hair   \n",
       "0      000001.jpg           1      0           0           0           1  \\\n",
       "1      000002.jpg           0      0           0           0           1   \n",
       "2      000003.jpg           0      0           0           0           0   \n",
       "3      000004.jpg           1      0           0           0           0   \n",
       "4      000005.jpg           1      0           0           0           0   \n",
       "...           ...         ...    ...         ...         ...         ...   \n",
       "49995  049996.jpg           0      0           0           1           0   \n",
       "49996  049997.jpg           1      1           0           0           1   \n",
       "49997  049998.jpg           0      0           1           0           0   \n",
       "49998  049999.jpg           1      0           0           0           0   \n",
       "49999  050000.jpg           1      0           0           0           0   \n",
       "\n",
       "       Gray_Hair  Male  Oval_Face  Receding_Hairline  Smiling  \n",
       "0              0     0          0                  0        1  \n",
       "1              0     0          0                  0        1  \n",
       "2              0     1          0                  0        0  \n",
       "3              0     0          0                  0        0  \n",
       "4              0     0          0                  0        0  \n",
       "...          ...   ...        ...                ...      ...  \n",
       "49995          0     0          1                  0        1  \n",
       "49996          0     0          0                  0        1  \n",
       "49997          0     1          0                  0        0  \n",
       "49998          0     0          0                  0        1  \n",
       "49999          0     0          0                  0        0  \n",
       "\n",
       "[50000 rows x 11 columns]"
      ]
     },
     "execution_count": 2,
     "metadata": {},
     "output_type": "execute_result"
    }
   ],
   "source": [
    "import tensorflow as tf\n",
    "import pandas as pd\n",
    "import numpy as np\n",
    "\n",
    "attr = pd.read_csv('list_attr_celeba.csv')\n",
    "features = ['image_id', 'Attractive', 'Bangs', 'Black_Hair', 'Blond_Hair', 'Brown_Hair', 'Gray_Hair', 'Male', 'Oval_Face', 'Receding_Hairline', 'Smiling']\n",
    "\n",
    "attr_selected = attr.loc[:, features].iloc[:50000,:]\n",
    "attr_selected = attr_selected.replace(-1,0)\n",
    "attr_selected"
   ]
  },
  {
   "cell_type": "code",
   "execution_count": 11,
   "metadata": {},
   "outputs": [],
   "source": [
    "from sklearn.model_selection import train_test_split\n",
    "\n",
    "features = ['image_id', 'Attractive']\n",
    "\n",
    "attr_selected = attr.loc[:, features].iloc[:50000,:]\n",
    "attr_selected = attr_selected.replace(-1,0)\n",
    "\n",
    "features = ['Attractive']\n",
    "\n",
    "train_df, test_df = train_test_split(attr_selected, test_size=0.1)\n",
    "train_df, val_df = train_test_split(train_df, test_size=0.2)\n",
    "\n",
    "for feature in features:\n",
    "    train_df[feature] = train_df[feature].astype('float32')\n",
    "    val_df[feature] = val_df[feature].astype('float32')\n",
    "    test_df[feature] = test_df[feature].astype('float32')"
   ]
  },
  {
   "cell_type": "code",
   "execution_count": 4,
   "metadata": {},
   "outputs": [
    {
     "name": "stdout",
     "output_type": "stream",
     "text": [
      "Found 36000 validated image filenames.\n",
      "Found 9000 validated image filenames.\n",
      "Found 5000 validated image filenames.\n"
     ]
    }
   ],
   "source": [
    "import tensorflow as tf\n",
    "from tensorflow.keras.preprocessing.image import ImageDataGenerator\n",
    "import matplotlib.pyplot as plt\n",
    "import os\n",
    "import pandas as pd\n",
    "from sklearn.model_selection import train_test_split\n",
    "\n",
    "# Create ImageDataGenerators\n",
    "train_datagen = ImageDataGenerator(rescale=1./255, horizontal_flip=True, zoom_range=0.2, shear_range=0.2)\n",
    "test_datagen = ImageDataGenerator(rescale=1./255)\n",
    "\n",
    "batch_size = 64\n",
    "img_height = 128\n",
    "img_width = 128\n",
    "\n",
    "train_generator = train_datagen.flow_from_dataframe(train_df, directory=\"img_align_celeba/img_align_celeba\", \n",
    "                                                    x_col=\"image_id\", y_col=features,\n",
    "                                                    target_size=(img_height, img_width), \n",
    "                                                    batch_size=batch_size, class_mode='raw')\n",
    "\n",
    "val_generator = train_datagen.flow_from_dataframe(val_df, directory=\"img_align_celeba/img_align_celeba\", \n",
    "                                                    x_col=\"image_id\", y_col=features,\n",
    "                                                    target_size=(img_height, img_width), \n",
    "                                                    batch_size=batch_size, class_mode='raw')\n",
    "\n",
    "test_generator = test_datagen.flow_from_dataframe(test_df, directory=\"img_align_celeba/img_align_celeba\", \n",
    "                                                  x_col=\"image_id\", y_col=features, \n",
    "                                                  target_size=(img_height, img_width), \n",
    "                                                  batch_size=batch_size, class_mode='raw', shuffle=False)"
   ]
  },
  {
   "cell_type": "code",
   "execution_count": 14,
   "metadata": {},
   "outputs": [
    {
     "name": "stdout",
     "output_type": "stream",
     "text": [
      "Trial 5 Complete [01h 06m 15s]\n",
      "val_accuracy: 0.7869419654210409\n",
      "\n",
      "Best val_accuracy So Far: 0.7895461320877075\n",
      "Total elapsed time: 03h 25m 04s\n",
      "INFO:tensorflow:Oracle triggered exit\n",
      "Results summary\n",
      "Results in random_search_attractive/cnn_hyperparam_tuning\n",
      "Showing 10 best trials\n",
      "Objective(name=\"val_accuracy\", direction=\"max\")\n",
      "\n",
      "Trial 2 summary\n",
      "Hyperparameters:\n",
      "use_batch_norm: True\n",
      "conv_1_filter: 48\n",
      "conv_1_kernel: 5\n",
      "dropout_1: 0.15000000000000002\n",
      "conv_2_filter: 80\n",
      "conv_2_kernel: 3\n",
      "dropout_2: 0.45\n",
      "conv_3_filter: 208\n",
      "conv_3_kernel: 3\n",
      "dropout_3: 0.15000000000000002\n",
      "conv_4_filter: 160\n",
      "conv_4_kernel: 5\n",
      "dropout_4: 0.0\n",
      "dense_1_units: 1472\n",
      "learning_rate: 0.004762726870866379\n",
      "Score: 0.7895461320877075\n",
      "\n",
      "Trial 4 summary\n",
      "Hyperparameters:\n",
      "use_batch_norm: True\n",
      "conv_1_filter: 80\n",
      "conv_1_kernel: 3\n",
      "dropout_1: 0.25\n",
      "conv_2_filter: 240\n",
      "conv_2_kernel: 3\n",
      "dropout_2: 0.25\n",
      "conv_3_filter: 304\n",
      "conv_3_kernel: 3\n",
      "dropout_3: 0.45\n",
      "conv_4_filter: 832\n",
      "conv_4_kernel: 5\n",
      "dropout_4: 0.0\n",
      "dense_1_units: 1824\n",
      "learning_rate: 0.007100997135356501\n",
      "Score: 0.7869419654210409\n",
      "\n",
      "Trial 3 summary\n",
      "Hyperparameters:\n",
      "use_batch_norm: True\n",
      "conv_1_filter: 128\n",
      "conv_1_kernel: 5\n",
      "dropout_1: 0.30000000000000004\n",
      "conv_2_filter: 224\n",
      "conv_2_kernel: 3\n",
      "dropout_2: 0.0\n",
      "conv_3_filter: 304\n",
      "conv_3_kernel: 3\n",
      "dropout_3: 0.05\n",
      "conv_4_filter: 96\n",
      "conv_4_kernel: 5\n",
      "dropout_4: 0.25\n",
      "dense_1_units: 880\n",
      "learning_rate: 0.0021473848978205974\n",
      "Score: 0.7863095204035441\n",
      "\n",
      "Trial 0 summary\n",
      "Hyperparameters:\n",
      "use_batch_norm: False\n",
      "conv_1_filter: 48\n",
      "conv_1_kernel: 5\n",
      "dropout_1: 0.15000000000000002\n",
      "conv_2_filter: 112\n",
      "conv_2_kernel: 3\n",
      "dropout_2: 0.45\n",
      "conv_3_filter: 112\n",
      "conv_3_kernel: 5\n",
      "dropout_3: 0.1\n",
      "conv_4_filter: 96\n",
      "conv_4_kernel: 3\n",
      "dropout_4: 0.30000000000000004\n",
      "dense_1_units: 1952\n",
      "learning_rate: 0.0008407149603011805\n",
      "Score: 0.7768601377805074\n",
      "\n",
      "Trial 1 summary\n",
      "Hyperparameters:\n",
      "use_batch_norm: False\n",
      "conv_1_filter: 64\n",
      "conv_1_kernel: 5\n",
      "dropout_1: 0.45\n",
      "conv_2_filter: 144\n",
      "conv_2_kernel: 5\n",
      "dropout_2: 0.25\n",
      "conv_3_filter: 112\n",
      "conv_3_kernel: 5\n",
      "dropout_3: 0.2\n",
      "conv_4_filter: 768\n",
      "conv_4_kernel: 3\n",
      "dropout_4: 0.35000000000000003\n",
      "dense_1_units: 1552\n",
      "learning_rate: 0.0050675502817061945\n",
      "Score: 0.5103050669034322\n"
     ]
    }
   ],
   "source": [
    "from keras import optimizers\n",
    "from kerastuner import HyperModel\n",
    "from kerastuner.tuners import RandomSearch\n",
    "from tensorflow.keras.models import Sequential\n",
    "from tensorflow.keras.layers import Conv2D, MaxPooling2D, Flatten, Dense, Dropout, BatchNormalization\n",
    "from tensorflow.keras.regularizers import l1_l2\n",
    "\n",
    "batch_size = 64\n",
    "img_height = 128\n",
    "img_width = 128\n",
    "\n",
    "class CNNHyperModel(HyperModel):\n",
    "    def __init__(self, input_shape, num_classes):\n",
    "        self.input_shape = input_shape\n",
    "        self.num_classes = num_classes\n",
    "\n",
    "    def build(self, hp):\n",
    "        model = Sequential()\n",
    "        use_bn = hp.Boolean('use_batch_norm')\n",
    "        model.add(Conv2D(filters=hp.Int('conv_1_filter', min_value=32, max_value=128, step=16),\n",
    "                         kernel_size=hp.Choice('conv_1_kernel', values = [3,5]),\n",
    "                         activation='relu',\n",
    "                         input_shape=self.input_shape))\n",
    "        model.add(MaxPooling2D((2, 2)))\n",
    "        if use_bn:\n",
    "            model.add(BatchNormalization())\n",
    "        model.add(Dropout(rate=hp.Float('dropout_1', min_value=0.0, max_value=0.5, default=0.25, step=0.05)))\n",
    "\n",
    "        model.add(Conv2D(filters=hp.Int('conv_2_filter', min_value=32, max_value=256, step=16),\n",
    "                         kernel_size=hp.Choice('conv_2_kernel', values = [3,5]),\n",
    "                         activation='relu'))\n",
    "        model.add(MaxPooling2D((2, 2)))\n",
    "        if use_bn:\n",
    "            model.add(BatchNormalization())\n",
    "        model.add(Dropout(rate=hp.Float('dropout_2', min_value=0.0, max_value=0.5, default=0.25, step=0.05)))\n",
    "\n",
    "        model.add(Conv2D(filters=hp.Int('conv_3_filter', min_value=32, max_value=512, step=16),\n",
    "                         kernel_size=hp.Choice('conv_3_kernel', values = [3,5]),\n",
    "                         activation='relu'))\n",
    "        model.add(MaxPooling2D((2, 2)))\n",
    "        if use_bn:\n",
    "            model.add(BatchNormalization())\n",
    "        model.add(Dropout(rate=hp.Float('dropout_3', min_value=0.0, max_value=0.5, default=0.25, step=0.05)))\n",
    "\n",
    "        model.add(Conv2D(filters=hp.Int('conv_4_filter', min_value=32, max_value=1024, step=16),\n",
    "                         kernel_size=hp.Choice('conv_4_kernel', values = [3,5]),\n",
    "                         activation='relu'))\n",
    "        model.add(MaxPooling2D((2, 2)))\n",
    "        if use_bn:\n",
    "            model.add(BatchNormalization())\n",
    "        model.add(Dropout(rate=hp.Float('dropout_4', min_value=0.0, max_value=0.5, default=0.25, step=0.05)))\n",
    "\n",
    "        model.add(Flatten())\n",
    "        model.add(Dense(units=hp.Int('dense_1_units', min_value=32, max_value=2048, step=16),\n",
    "                        activation='relu'))\n",
    "        if use_bn:\n",
    "            model.add(BatchNormalization())\n",
    "        model.add(Dropout(rate=hp.Float('dropout_3', min_value=0.0, max_value=0.5, default=0.25, step=0.05)))\n",
    "        print(self.num_classes)\n",
    "        model.add(Dense(self.num_classes, activation='sigmoid'))\n",
    "\n",
    "        model.compile(optimizer=optimizers.Adam(hp.Float('learning_rate', min_value=1e-4, max_value=1e-2, sampling='LOG')),\n",
    "                      loss='binary_crossentropy',\n",
    "                      metrics=['accuracy'])\n",
    "\n",
    "        return model\n",
    "\n",
    "input_shape = (img_height, img_width, 3)  # Assuming your images are RGB, adjust if otherwise\n",
    "num_classes = len(features)\n",
    "\n",
    "hypermodel = CNNHyperModel(input_shape, num_classes)\n",
    "\n",
    "tuner = RandomSearch(hypermodel,\n",
    "                     objective='val_accuracy',\n",
    "                     max_trials=5,\n",
    "                     executions_per_trial=3,\n",
    "                     directory='random_search_attractive',\n",
    "                     project_name='cnn_hyperparam_tuning')\n",
    "\n",
    "tuner.search_space_summary()\n",
    "\n",
    "tuner.search(train_generator, \n",
    "             epochs=10, \n",
    "             validation_data=val_generator,\n",
    "             steps_per_epoch=train_generator.samples // batch_size,  # Required due to use of generator\n",
    "             validation_steps=val_generator.samples // batch_size)  # Required due to use of generator\n",
    "\n",
    "tuner.results_summary()"
   ]
  },
  {
   "cell_type": "code",
   "execution_count": 15,
   "metadata": {},
   "outputs": [
    {
     "name": "stdout",
     "output_type": "stream",
     "text": [
      "1\n",
      "Model: \"sequential\"\n",
      "_________________________________________________________________\n",
      " Layer (type)                Output Shape              Param #   \n",
      "=================================================================\n",
      " conv2d (Conv2D)             (None, 124, 124, 48)      3648      \n",
      "                                                                 \n",
      " max_pooling2d (MaxPooling2D  (None, 62, 62, 48)       0         \n",
      " )                                                               \n",
      "                                                                 \n",
      " batch_normalization (BatchN  (None, 62, 62, 48)       192       \n",
      " ormalization)                                                   \n",
      "                                                                 \n",
      " dropout (Dropout)           (None, 62, 62, 48)        0         \n",
      "                                                                 \n",
      " conv2d_1 (Conv2D)           (None, 60, 60, 80)        34640     \n",
      "                                                                 \n",
      " max_pooling2d_1 (MaxPooling  (None, 30, 30, 80)       0         \n",
      " 2D)                                                             \n",
      "                                                                 \n",
      " batch_normalization_1 (Batc  (None, 30, 30, 80)       320       \n",
      " hNormalization)                                                 \n",
      "                                                                 \n",
      " dropout_1 (Dropout)         (None, 30, 30, 80)        0         \n",
      "                                                                 \n",
      " conv2d_2 (Conv2D)           (None, 28, 28, 208)       149968    \n",
      "                                                                 \n",
      " max_pooling2d_2 (MaxPooling  (None, 14, 14, 208)      0         \n",
      " 2D)                                                             \n",
      "                                                                 \n",
      " batch_normalization_2 (Batc  (None, 14, 14, 208)      832       \n",
      " hNormalization)                                                 \n",
      "                                                                 \n",
      " dropout_2 (Dropout)         (None, 14, 14, 208)       0         \n",
      "                                                                 \n",
      " conv2d_3 (Conv2D)           (None, 10, 10, 160)       832160    \n",
      "                                                                 \n",
      " max_pooling2d_3 (MaxPooling  (None, 5, 5, 160)        0         \n",
      " 2D)                                                             \n",
      "                                                                 \n",
      " batch_normalization_3 (Batc  (None, 5, 5, 160)        640       \n",
      " hNormalization)                                                 \n",
      "                                                                 \n",
      " dropout_3 (Dropout)         (None, 5, 5, 160)         0         \n",
      "                                                                 \n",
      " flatten (Flatten)           (None, 4000)              0         \n",
      "                                                                 \n",
      " dense (Dense)               (None, 1472)              5889472   \n",
      "                                                                 \n",
      " batch_normalization_4 (Batc  (None, 1472)             5888      \n",
      " hNormalization)                                                 \n",
      "                                                                 \n",
      " dropout_4 (Dropout)         (None, 1472)              0         \n",
      "                                                                 \n",
      " dense_1 (Dense)             (None, 1)                 1473      \n",
      "                                                                 \n",
      "=================================================================\n",
      "Total params: 6,919,233\n",
      "Trainable params: 6,915,297\n",
      "Non-trainable params: 3,936\n",
      "_________________________________________________________________\n"
     ]
    }
   ],
   "source": [
    "best_model = tuner.get_best_models(num_models=1)[0]\n",
    "best_model.summary()"
   ]
  },
  {
   "cell_type": "code",
   "execution_count": 16,
   "metadata": {},
   "outputs": [
    {
     "name": "stderr",
     "output_type": "stream",
     "text": [
      "2023-05-28 00:51:29.002033: I tensorflow/core/common_runtime/executor.cc:1197] [/device:CPU:0] (DEBUG INFO) Executor start aborting (this does not indicate an error and you can ignore this message): INVALID_ARGUMENT: You must feed a value for placeholder tensor 'Placeholder/_0' with dtype int32\n",
      "\t [[{{node Placeholder/_0}}]]\n"
     ]
    },
    {
     "name": "stdout",
     "output_type": "stream",
     "text": [
      "Test loss for the model : 0.4225\n",
      "Test accuracy for the model: 0.7978\n"
     ]
    }
   ],
   "source": [
    "loss, accuracy = best_model.evaluate(test_generator, steps=len(test_generator), verbose=0)\n",
    "print(f'Test loss for the model : {loss:.4f}')\n",
    "print(f'Test accuracy for the model: {accuracy:.4f}')"
   ]
  },
  {
   "cell_type": "code",
   "execution_count": 22,
   "metadata": {},
   "outputs": [],
   "source": [
    "best_model.save(\"best_model_attractive.h5\")"
   ]
  },
  {
   "attachments": {},
   "cell_type": "markdown",
   "metadata": {},
   "source": [
    "## Custom model Bangs"
   ]
  },
  {
   "cell_type": "code",
   "execution_count": 17,
   "metadata": {},
   "outputs": [],
   "source": [
    "import tensorflow as tf\n",
    "import pandas as pd\n",
    "import numpy as np\n",
    "from sklearn.model_selection import train_test_split\n",
    "\n",
    "attr = pd.read_csv('list_attr_celeba.csv')\n",
    "features = ['image_id', 'Bangs']\n",
    "\n",
    "attr_selected = attr.loc[:, features].iloc[:50000,:]\n",
    "attr_selected = attr_selected.replace(-1,0)\n",
    "\n",
    "features = ['Bangs']\n",
    "\n",
    "train_df, test_df = train_test_split(attr_selected, test_size=0.1)\n",
    "train_df, val_df = train_test_split(train_df, test_size=0.2)\n",
    "\n",
    "for feature in features:\n",
    "    train_df[feature] = train_df[feature].astype('float32')\n",
    "    val_df[feature] = val_df[feature].astype('float32')\n",
    "    test_df[feature] = test_df[feature].astype('float32')"
   ]
  },
  {
   "cell_type": "code",
   "execution_count": 18,
   "metadata": {},
   "outputs": [
    {
     "name": "stdout",
     "output_type": "stream",
     "text": [
      "Found 36000 validated image filenames.\n",
      "Found 9000 validated image filenames.\n",
      "Found 5000 validated image filenames.\n"
     ]
    }
   ],
   "source": [
    "import tensorflow as tf\n",
    "from tensorflow.keras.preprocessing.image import ImageDataGenerator\n",
    "import matplotlib.pyplot as plt\n",
    "import os\n",
    "import pandas as pd\n",
    "from sklearn.model_selection import train_test_split\n",
    "\n",
    "# Create ImageDataGenerators\n",
    "train_datagen = ImageDataGenerator(rescale=1./255, horizontal_flip=True, zoom_range=0.2, shear_range=0.2)\n",
    "test_datagen = ImageDataGenerator(rescale=1./255)\n",
    "\n",
    "batch_size = 64\n",
    "img_height = 128\n",
    "img_width = 128\n",
    "\n",
    "train_generator = train_datagen.flow_from_dataframe(train_df, directory=\"img_align_celeba/img_align_celeba\", \n",
    "                                                    x_col=\"image_id\", y_col=features,\n",
    "                                                    target_size=(img_height, img_width), \n",
    "                                                    batch_size=batch_size, class_mode='raw')\n",
    "\n",
    "val_generator = train_datagen.flow_from_dataframe(val_df, directory=\"img_align_celeba/img_align_celeba\", \n",
    "                                                    x_col=\"image_id\", y_col=features,\n",
    "                                                    target_size=(img_height, img_width), \n",
    "                                                    batch_size=batch_size, class_mode='raw')\n",
    "\n",
    "test_generator = test_datagen.flow_from_dataframe(test_df, directory=\"img_align_celeba/img_align_celeba\", \n",
    "                                                  x_col=\"image_id\", y_col=features, \n",
    "                                                  target_size=(img_height, img_width), \n",
    "                                                  batch_size=batch_size, class_mode='raw', shuffle=False)"
   ]
  },
  {
   "cell_type": "code",
   "execution_count": 19,
   "metadata": {},
   "outputs": [
    {
     "name": "stdout",
     "output_type": "stream",
     "text": [
      "Trial 5 Complete [00h 30m 08s]\n",
      "val_accuracy: 0.9546503027280172\n",
      "\n",
      "Best val_accuracy So Far: 0.9546503027280172\n",
      "Total elapsed time: 03h 08m 12s\n",
      "INFO:tensorflow:Oracle triggered exit\n",
      "Results summary\n",
      "Results in random_search_bangs/cnn_hyperparam_tuning\n",
      "Showing 10 best trials\n",
      "Objective(name=\"val_accuracy\", direction=\"max\")\n",
      "\n",
      "Trial 4 summary\n",
      "Hyperparameters:\n",
      "use_batch_norm: False\n",
      "conv_1_filter: 48\n",
      "conv_1_kernel: 5\n",
      "dropout_1: 0.15000000000000002\n",
      "conv_2_filter: 240\n",
      "conv_2_kernel: 5\n",
      "dropout_2: 0.25\n",
      "conv_3_filter: 272\n",
      "conv_3_kernel: 3\n",
      "dropout_3: 0.05\n",
      "conv_4_filter: 448\n",
      "conv_4_kernel: 3\n",
      "dropout_4: 0.05\n",
      "dense_1_units: 1792\n",
      "learning_rate: 0.00015263890159365872\n",
      "Score: 0.9546503027280172\n",
      "\n",
      "Trial 0 summary\n",
      "Hyperparameters:\n",
      "use_batch_norm: False\n",
      "conv_1_filter: 112\n",
      "conv_1_kernel: 3\n",
      "dropout_1: 0.1\n",
      "conv_2_filter: 80\n",
      "conv_2_kernel: 5\n",
      "dropout_2: 0.0\n",
      "conv_3_filter: 128\n",
      "conv_3_kernel: 3\n",
      "dropout_3: 0.15000000000000002\n",
      "conv_4_filter: 672\n",
      "conv_4_kernel: 5\n",
      "dropout_4: 0.45\n",
      "dense_1_units: 912\n",
      "learning_rate: 0.0010124614064010247\n",
      "Score: 0.9514880776405334\n",
      "\n",
      "Trial 3 summary\n",
      "Hyperparameters:\n",
      "use_batch_norm: True\n",
      "conv_1_filter: 96\n",
      "conv_1_kernel: 3\n",
      "dropout_1: 0.2\n",
      "conv_2_filter: 128\n",
      "conv_2_kernel: 3\n",
      "dropout_2: 0.30000000000000004\n",
      "conv_3_filter: 432\n",
      "conv_3_kernel: 3\n",
      "dropout_3: 0.25\n",
      "conv_4_filter: 992\n",
      "conv_4_kernel: 3\n",
      "dropout_4: 0.35000000000000003\n",
      "dense_1_units: 848\n",
      "learning_rate: 0.00012846220285260015\n",
      "Score: 0.9481770793596903\n",
      "\n",
      "Trial 2 summary\n",
      "Hyperparameters:\n",
      "use_batch_norm: False\n",
      "conv_1_filter: 128\n",
      "conv_1_kernel: 3\n",
      "dropout_1: 0.15000000000000002\n",
      "conv_2_filter: 224\n",
      "conv_2_kernel: 5\n",
      "dropout_2: 0.4\n",
      "conv_3_filter: 512\n",
      "conv_3_kernel: 3\n",
      "dropout_3: 0.05\n",
      "conv_4_filter: 400\n",
      "conv_4_kernel: 5\n",
      "dropout_4: 0.1\n",
      "dense_1_units: 368\n",
      "learning_rate: 0.0017179618768341932\n",
      "Score: 0.9077009161313375\n",
      "\n",
      "Trial 1 summary\n",
      "Hyperparameters:\n",
      "use_batch_norm: False\n",
      "conv_1_filter: 128\n",
      "conv_1_kernel: 3\n",
      "dropout_1: 0.35000000000000003\n",
      "conv_2_filter: 176\n",
      "conv_2_kernel: 3\n",
      "dropout_2: 0.15000000000000002\n",
      "conv_3_filter: 224\n",
      "conv_3_kernel: 5\n",
      "dropout_3: 0.30000000000000004\n",
      "conv_4_filter: 160\n",
      "conv_4_kernel: 3\n",
      "dropout_4: 0.30000000000000004\n",
      "dense_1_units: 1488\n",
      "learning_rate: 0.008327876354957027\n",
      "Score: 0.8460193475087484\n"
     ]
    }
   ],
   "source": [
    "from keras import optimizers\n",
    "from kerastuner import HyperModel\n",
    "from kerastuner.tuners import RandomSearch\n",
    "from tensorflow.keras.models import Sequential\n",
    "from tensorflow.keras.layers import Conv2D, MaxPooling2D, Flatten, Dense, Dropout, BatchNormalization\n",
    "from tensorflow.keras.regularizers import l1_l2\n",
    "\n",
    "batch_size = 64\n",
    "img_height = 128\n",
    "img_width = 128\n",
    "\n",
    "class CNNHyperModel(HyperModel):\n",
    "    def __init__(self, input_shape, num_classes):\n",
    "        self.input_shape = input_shape\n",
    "        self.num_classes = num_classes\n",
    "\n",
    "    def build(self, hp):\n",
    "        model = Sequential()\n",
    "        use_bn = hp.Boolean('use_batch_norm')\n",
    "        model.add(Conv2D(filters=hp.Int('conv_1_filter', min_value=32, max_value=128, step=16),\n",
    "                         kernel_size=hp.Choice('conv_1_kernel', values = [3,5]),\n",
    "                         activation='relu',\n",
    "                         input_shape=self.input_shape))\n",
    "        model.add(MaxPooling2D((2, 2)))\n",
    "        if use_bn:\n",
    "            model.add(BatchNormalization())\n",
    "        model.add(Dropout(rate=hp.Float('dropout_1', min_value=0.0, max_value=0.5, default=0.25, step=0.05)))\n",
    "\n",
    "        model.add(Conv2D(filters=hp.Int('conv_2_filter', min_value=32, max_value=256, step=16),\n",
    "                         kernel_size=hp.Choice('conv_2_kernel', values = [3,5]),\n",
    "                         activation='relu'))\n",
    "        model.add(MaxPooling2D((2, 2)))\n",
    "        if use_bn:\n",
    "            model.add(BatchNormalization())\n",
    "        model.add(Dropout(rate=hp.Float('dropout_2', min_value=0.0, max_value=0.5, default=0.25, step=0.05)))\n",
    "\n",
    "        model.add(Conv2D(filters=hp.Int('conv_3_filter', min_value=32, max_value=512, step=16),\n",
    "                         kernel_size=hp.Choice('conv_3_kernel', values = [3,5]),\n",
    "                         activation='relu'))\n",
    "        model.add(MaxPooling2D((2, 2)))\n",
    "        if use_bn:\n",
    "            model.add(BatchNormalization())\n",
    "        model.add(Dropout(rate=hp.Float('dropout_3', min_value=0.0, max_value=0.5, default=0.25, step=0.05)))\n",
    "\n",
    "        model.add(Conv2D(filters=hp.Int('conv_4_filter', min_value=32, max_value=1024, step=16),\n",
    "                         kernel_size=hp.Choice('conv_4_kernel', values = [3,5]),\n",
    "                         activation='relu'))\n",
    "        model.add(MaxPooling2D((2, 2)))\n",
    "        if use_bn:\n",
    "            model.add(BatchNormalization())\n",
    "        model.add(Dropout(rate=hp.Float('dropout_4', min_value=0.0, max_value=0.5, default=0.25, step=0.05)))\n",
    "\n",
    "        model.add(Flatten())\n",
    "        model.add(Dense(units=hp.Int('dense_1_units', min_value=32, max_value=2048, step=16),\n",
    "                        activation='relu'))\n",
    "        if use_bn:\n",
    "            model.add(BatchNormalization())\n",
    "        model.add(Dropout(rate=hp.Float('dropout_3', min_value=0.0, max_value=0.5, default=0.25, step=0.05)))\n",
    "        print(self.num_classes)\n",
    "        model.add(Dense(self.num_classes, activation='sigmoid'))\n",
    "\n",
    "        model.compile(optimizer=optimizers.Adam(hp.Float('learning_rate', min_value=1e-4, max_value=1e-2, sampling='LOG')),\n",
    "                      loss='binary_crossentropy',\n",
    "                      metrics=['accuracy'])\n",
    "\n",
    "        return model\n",
    "\n",
    "input_shape = (img_height, img_width, 3)  # Assuming your images are RGB, adjust if otherwise\n",
    "num_classes = len(features)\n",
    "\n",
    "hypermodel = CNNHyperModel(input_shape, num_classes)\n",
    "\n",
    "tuner_bangs = RandomSearch(hypermodel,\n",
    "                     objective='val_accuracy',\n",
    "                     max_trials=5,\n",
    "                     executions_per_trial=3,\n",
    "                     directory='random_search_bangs',\n",
    "                     project_name='cnn_hyperparam_tuning')\n",
    "\n",
    "tuner_bangs.search_space_summary()\n",
    "\n",
    "tuner_bangs.search(train_generator, \n",
    "             epochs=10, \n",
    "             validation_data=val_generator,\n",
    "             steps_per_epoch=train_generator.samples // batch_size,  # Required due to use of generator\n",
    "             validation_steps=val_generator.samples // batch_size)  # Required due to use of generator\n",
    "\n",
    "tuner_bangs.results_summary()"
   ]
  },
  {
   "cell_type": "code",
   "execution_count": 20,
   "metadata": {},
   "outputs": [
    {
     "name": "stdout",
     "output_type": "stream",
     "text": [
      "1\n",
      "Model: \"sequential\"\n",
      "_________________________________________________________________\n",
      " Layer (type)                Output Shape              Param #   \n",
      "=================================================================\n",
      " conv2d (Conv2D)             (None, 124, 124, 48)      3648      \n",
      "                                                                 \n",
      " max_pooling2d (MaxPooling2D  (None, 62, 62, 48)       0         \n",
      " )                                                               \n",
      "                                                                 \n",
      " dropout (Dropout)           (None, 62, 62, 48)        0         \n",
      "                                                                 \n",
      " conv2d_1 (Conv2D)           (None, 58, 58, 240)       288240    \n",
      "                                                                 \n",
      " max_pooling2d_1 (MaxPooling  (None, 29, 29, 240)      0         \n",
      " 2D)                                                             \n",
      "                                                                 \n",
      " dropout_1 (Dropout)         (None, 29, 29, 240)       0         \n",
      "                                                                 \n",
      " conv2d_2 (Conv2D)           (None, 27, 27, 272)       587792    \n",
      "                                                                 \n",
      " max_pooling2d_2 (MaxPooling  (None, 13, 13, 272)      0         \n",
      " 2D)                                                             \n",
      "                                                                 \n",
      " dropout_2 (Dropout)         (None, 13, 13, 272)       0         \n",
      "                                                                 \n",
      " conv2d_3 (Conv2D)           (None, 11, 11, 448)       1097152   \n",
      "                                                                 \n",
      " max_pooling2d_3 (MaxPooling  (None, 5, 5, 448)        0         \n",
      " 2D)                                                             \n",
      "                                                                 \n",
      " dropout_3 (Dropout)         (None, 5, 5, 448)         0         \n",
      "                                                                 \n",
      " flatten (Flatten)           (None, 11200)             0         \n",
      "                                                                 \n",
      " dense (Dense)               (None, 1792)              20072192  \n",
      "                                                                 \n",
      " dropout_4 (Dropout)         (None, 1792)              0         \n",
      "                                                                 \n",
      " dense_1 (Dense)             (None, 1)                 1793      \n",
      "                                                                 \n",
      "=================================================================\n",
      "Total params: 22,050,817\n",
      "Trainable params: 22,050,817\n",
      "Non-trainable params: 0\n",
      "_________________________________________________________________\n"
     ]
    }
   ],
   "source": [
    "best_model_bangs = tuner_bangs.get_best_models(num_models=1)[0]\n",
    "best_model_bangs.summary()"
   ]
  },
  {
   "cell_type": "code",
   "execution_count": 21,
   "metadata": {},
   "outputs": [
    {
     "name": "stderr",
     "output_type": "stream",
     "text": [
      "2023-05-28 04:01:08.738230: I tensorflow/core/common_runtime/executor.cc:1197] [/device:CPU:0] (DEBUG INFO) Executor start aborting (this does not indicate an error and you can ignore this message): INVALID_ARGUMENT: You must feed a value for placeholder tensor 'Placeholder/_0' with dtype int32\n",
      "\t [[{{node Placeholder/_0}}]]\n"
     ]
    },
    {
     "name": "stdout",
     "output_type": "stream",
     "text": [
      "Test loss for the model : 0.1108\n",
      "Test accuracy for the model: 0.9536\n"
     ]
    }
   ],
   "source": [
    "loss, accuracy = best_model_bangs.evaluate(test_generator, steps=len(test_generator), verbose=0)\n",
    "print(f'Test loss for the model : {loss:.4f}')\n",
    "print(f'Test accuracy for the model: {accuracy:.4f}')"
   ]
  },
  {
   "cell_type": "code",
   "execution_count": 23,
   "metadata": {},
   "outputs": [],
   "source": [
    "best_model_bangs.save(\"best_model_bangs.h5\")"
   ]
  },
  {
   "attachments": {},
   "cell_type": "markdown",
   "metadata": {},
   "source": [
    "## Resnet50"
   ]
  },
  {
   "cell_type": "code",
   "execution_count": null,
   "metadata": {},
   "outputs": [
    {
     "name": "stdout",
     "output_type": "stream",
     "text": [
      "Num GPUs Available:  5\n",
      "Using GPUs:  ['/physical_device:GPU:0', '/physical_device:GPU:1', '/physical_device:GPU:2', '/physical_device:GPU:3', '/physical_device:GPU:4']\n",
      "INFO:tensorflow:Using MirroredStrategy with devices ('/job:localhost/replica:0/task:0/device:GPU:0', '/job:localhost/replica:0/task:0/device:GPU:1', '/job:localhost/replica:0/task:0/device:GPU:2', '/job:localhost/replica:0/task:0/device:GPU:3', '/job:localhost/replica:0/task:0/device:GPU:4')\n"
     ]
    },
    {
     "name": "stderr",
     "output_type": "stream",
     "text": [
      "2023-05-26 06:29:51.367027: I tensorflow/core/common_runtime/executor.cc:1197] [/device:CPU:0] (DEBUG INFO) Executor start aborting (this does not indicate an error and you can ignore this message): INVALID_ARGUMENT: You must feed a value for placeholder tensor 'Placeholder/_0' with dtype int32\n",
      "\t [[{{node Placeholder/_0}}]]\n",
      "2023-05-26 06:29:51.367213: I tensorflow/core/common_runtime/executor.cc:1197] [/device:CPU:0] (DEBUG INFO) Executor start aborting (this does not indicate an error and you can ignore this message): INVALID_ARGUMENT: You must feed a value for placeholder tensor 'Placeholder/_0' with dtype int32\n",
      "\t [[{{node Placeholder/_0}}]]\n",
      "2023-05-26 06:29:51.367961: W tensorflow/core/grappler/optimizers/data/auto_shard.cc:786] AUTO sharding policy will apply DATA sharding policy as it failed to apply FILE sharding policy because of the following reason: Found an unshardable source dataset: name: \"TensorDataset/_1\"\n",
      "op: \"TensorDataset\"\n",
      "input: \"Placeholder/_0\"\n",
      "attr {\n",
      "  key: \"Toutput_types\"\n",
      "  value {\n",
      "    list {\n",
      "      type: DT_INT32\n",
      "    }\n",
      "  }\n",
      "}\n",
      "attr {\n",
      "  key: \"_cardinality\"\n",
      "  value {\n",
      "    i: 1\n",
      "  }\n",
      "}\n",
      "attr {\n",
      "  key: \"metadata\"\n",
      "  value {\n",
      "    s: \"\\n\\020TensorDataset:45\"\n",
      "  }\n",
      "}\n",
      "attr {\n",
      "  key: \"output_shapes\"\n",
      "  value {\n",
      "    list {\n",
      "      shape {\n",
      "      }\n",
      "    }\n",
      "  }\n",
      "}\n",
      "experimental_type {\n",
      "  type_id: TFT_PRODUCT\n",
      "  args {\n",
      "    type_id: TFT_DATASET\n",
      "    args {\n",
      "      type_id: TFT_PRODUCT\n",
      "      args {\n",
      "        type_id: TFT_TENSOR\n",
      "        args {\n",
      "          type_id: TFT_INT32\n",
      "        }\n",
      "      }\n",
      "    }\n",
      "  }\n",
      "}\n",
      "\n",
      "2023-05-26 06:29:51.384956: I tensorflow/core/common_runtime/executor.cc:1197] [/device:CPU:0] (DEBUG INFO) Executor start aborting (this does not indicate an error and you can ignore this message): INVALID_ARGUMENT: You must feed a value for placeholder tensor 'Placeholder/_0' with dtype int32\n",
      "\t [[{{node Placeholder/_0}}]]\n",
      "2023-05-26 06:29:51.385202: I tensorflow/core/common_runtime/executor.cc:1197] [/device:CPU:0] (DEBUG INFO) Executor start aborting (this does not indicate an error and you can ignore this message): INVALID_ARGUMENT: You must feed a value for placeholder tensor 'Placeholder/_0' with dtype int32\n",
      "\t [[{{node Placeholder/_0}}]]\n",
      "2023-05-26 06:29:51.641043: I tensorflow/core/common_runtime/executor.cc:1197] [/device:CPU:0] (DEBUG INFO) Executor start aborting (this does not indicate an error and you can ignore this message): INVALID_ARGUMENT: You must feed a value for placeholder tensor 'Placeholder/_0' with dtype int32\n",
      "\t [[{{node Placeholder/_0}}]]\n",
      "2023-05-26 06:29:51.641394: I tensorflow/core/common_runtime/executor.cc:1197] [/device:CPU:0] (DEBUG INFO) Executor start aborting (this does not indicate an error and you can ignore this message): INVALID_ARGUMENT: You must feed a value for placeholder tensor 'Placeholder/_0' with dtype int32\n",
      "\t [[{{node Placeholder/_0}}]]\n"
     ]
    },
    {
     "name": "stdout",
     "output_type": "stream",
     "text": [
      "Epoch 1/100\n",
      "INFO:tensorflow:batch_all_reduce: 22 all-reduces with algorithm = nccl, num_packs = 1\n",
      "INFO:tensorflow:batch_all_reduce: 22 all-reduces with algorithm = nccl, num_packs = 1\n"
     ]
    },
    {
     "name": "stderr",
     "output_type": "stream",
     "text": [
      "2023-05-26 06:30:19.892230: I tensorflow/compiler/xla/stream_executor/cuda/cuda_dnn.cc:424] Loaded cuDNN version 8900\n",
      "2023-05-26 06:30:22.119685: I tensorflow/compiler/xla/stream_executor/cuda/cuda_dnn.cc:424] Loaded cuDNN version 8900\n",
      "2023-05-26 06:30:24.170143: I tensorflow/compiler/xla/stream_executor/cuda/cuda_dnn.cc:424] Loaded cuDNN version 8900\n",
      "2023-05-26 06:30:26.396200: I tensorflow/compiler/xla/stream_executor/cuda/cuda_dnn.cc:424] Loaded cuDNN version 8900\n",
      "2023-05-26 06:30:27.961524: I tensorflow/compiler/xla/stream_executor/cuda/cuda_dnn.cc:424] Loaded cuDNN version 8900\n",
      "2023-05-26 06:30:30.429690: I tensorflow/compiler/xla/stream_executor/cuda/cuda_blas.cc:637] TensorFloat-32 will be used for the matrix multiplication. This will only be logged once.\n",
      "2023-05-26 06:30:33.448408: I tensorflow/compiler/xla/service/service.cc:169] XLA service 0x7fea30760020 initialized for platform CUDA (this does not guarantee that XLA will be used). Devices:\n",
      "2023-05-26 06:30:33.448453: I tensorflow/compiler/xla/service/service.cc:177]   StreamExecutor device (0): NVIDIA RTX A6000, Compute Capability 8.6\n",
      "2023-05-26 06:30:33.448463: I tensorflow/compiler/xla/service/service.cc:177]   StreamExecutor device (1): NVIDIA RTX A6000, Compute Capability 8.6\n",
      "2023-05-26 06:30:33.448469: I tensorflow/compiler/xla/service/service.cc:177]   StreamExecutor device (2): NVIDIA RTX A6000, Compute Capability 8.6\n",
      "2023-05-26 06:30:33.448474: I tensorflow/compiler/xla/service/service.cc:177]   StreamExecutor device (3): NVIDIA RTX A6000, Compute Capability 8.6\n",
      "2023-05-26 06:30:33.448479: I tensorflow/compiler/xla/service/service.cc:177]   StreamExecutor device (4): NVIDIA RTX A6000, Compute Capability 8.6\n",
      "2023-05-26 06:30:33.459015: I tensorflow/compiler/mlir/tensorflow/utils/dump_mlir_util.cc:269] disabling MLIR crash reproducer, set env var `MLIR_CRASH_REPRODUCER_DIRECTORY` to enable.\n",
      "2023-05-26 06:30:33.653320: I ./tensorflow/compiler/jit/device_compiler.h:180] Compiled cluster using XLA!  This line is logged at most once for the lifetime of the process.\n"
     ]
    },
    {
     "name": "stdout",
     "output_type": "stream",
     "text": [
      "563/563 [==============================] - ETA: 0s - loss: 0.4564 - accuracy: 0.3629"
     ]
    },
    {
     "name": "stderr",
     "output_type": "stream",
     "text": [
      "2023-05-26 06:34:23.176148: I tensorflow/core/common_runtime/executor.cc:1197] [/device:CPU:0] (DEBUG INFO) Executor start aborting (this does not indicate an error and you can ignore this message): INVALID_ARGUMENT: You must feed a value for placeholder tensor 'Placeholder/_0' with dtype int32\n",
      "\t [[{{node Placeholder/_0}}]]\n",
      "2023-05-26 06:34:23.176433: I tensorflow/core/common_runtime/executor.cc:1197] [/device:CPU:0] (DEBUG INFO) Executor start aborting (this does not indicate an error and you can ignore this message): INVALID_ARGUMENT: You must feed a value for placeholder tensor 'Placeholder/_0' with dtype int32\n",
      "\t [[{{node Placeholder/_0}}]]\n",
      "2023-05-26 06:34:23.177553: W tensorflow/core/grappler/optimizers/data/auto_shard.cc:786] AUTO sharding policy will apply DATA sharding policy as it failed to apply FILE sharding policy because of the following reason: Found an unshardable source dataset: name: \"TensorDataset/_1\"\n",
      "op: \"TensorDataset\"\n",
      "input: \"Placeholder/_0\"\n",
      "attr {\n",
      "  key: \"Toutput_types\"\n",
      "  value {\n",
      "    list {\n",
      "      type: DT_INT32\n",
      "    }\n",
      "  }\n",
      "}\n",
      "attr {\n",
      "  key: \"_cardinality\"\n",
      "  value {\n",
      "    i: 1\n",
      "  }\n",
      "}\n",
      "attr {\n",
      "  key: \"metadata\"\n",
      "  value {\n",
      "    s: \"\\n\\020TensorDataset:91\"\n",
      "  }\n",
      "}\n",
      "attr {\n",
      "  key: \"output_shapes\"\n",
      "  value {\n",
      "    list {\n",
      "      shape {\n",
      "      }\n",
      "    }\n",
      "  }\n",
      "}\n",
      "experimental_type {\n",
      "  type_id: TFT_PRODUCT\n",
      "  args {\n",
      "    type_id: TFT_DATASET\n",
      "    args {\n",
      "      type_id: TFT_PRODUCT\n",
      "      args {\n",
      "        type_id: TFT_TENSOR\n",
      "        args {\n",
      "          type_id: TFT_INT32\n",
      "        }\n",
      "      }\n",
      "    }\n",
      "  }\n",
      "}\n",
      "\n",
      "2023-05-26 06:34:23.201920: I tensorflow/core/common_runtime/executor.cc:1197] [/device:CPU:0] (DEBUG INFO) Executor start aborting (this does not indicate an error and you can ignore this message): INVALID_ARGUMENT: You must feed a value for placeholder tensor 'Placeholder/_0' with dtype int32\n",
      "\t [[{{node Placeholder/_0}}]]\n",
      "2023-05-26 06:34:23.202223: I tensorflow/core/common_runtime/executor.cc:1197] [/device:CPU:0] (DEBUG INFO) Executor start aborting (this does not indicate an error and you can ignore this message): INVALID_ARGUMENT: You must feed a value for placeholder tensor 'Placeholder/_0' with dtype int32\n",
      "\t [[{{node Placeholder/_0}}]]\n",
      "2023-05-26 06:34:24.057696: I tensorflow/core/common_runtime/executor.cc:1197] [/device:CPU:0] (DEBUG INFO) Executor start aborting (this does not indicate an error and you can ignore this message): INVALID_ARGUMENT: You must feed a value for placeholder tensor 'Placeholder/_0' with dtype int32\n",
      "\t [[{{node Placeholder/_0}}]]\n",
      "2023-05-26 06:34:24.057948: I tensorflow/core/common_runtime/executor.cc:1197] [/device:CPU:0] (DEBUG INFO) Executor start aborting (this does not indicate an error and you can ignore this message): INVALID_ARGUMENT: You must feed a value for placeholder tensor 'Placeholder/_0' with dtype int32\n",
      "\t [[{{node Placeholder/_0}}]]\n"
     ]
    },
    {
     "name": "stdout",
     "output_type": "stream",
     "text": [
      "563/563 [==============================] - 332s 512ms/step - loss: 0.4564 - accuracy: 0.3629 - val_loss: 1.4459 - val_accuracy: 0.3009\n"
     ]
    },
    {
     "name": "stderr",
     "output_type": "stream",
     "text": [
      "2023-05-26 06:35:24.077704: I tensorflow/core/common_runtime/executor.cc:1197] [/device:CPU:0] (DEBUG INFO) Executor start aborting (this does not indicate an error and you can ignore this message): INVALID_ARGUMENT: You must feed a value for placeholder tensor 'Placeholder/_0' with dtype int32\n",
      "\t [[{{node Placeholder/_0}}]]\n",
      "2023-05-26 06:35:24.078530: I tensorflow/core/common_runtime/executor.cc:1197] [/device:CPU:0] (DEBUG INFO) Executor start aborting (this does not indicate an error and you can ignore this message): INVALID_ARGUMENT: You must feed a value for placeholder tensor 'Placeholder/_0' with dtype int32\n",
      "\t [[{{node Placeholder/_0}}]]\n"
     ]
    },
    {
     "name": "stdout",
     "output_type": "stream",
     "text": [
      "Epoch 2/100\n",
      "563/563 [==============================] - ETA: 0s - loss: 0.4015 - accuracy: 0.3728"
     ]
    },
    {
     "name": "stderr",
     "output_type": "stream",
     "text": [
      "2023-05-26 06:38:57.446849: I tensorflow/core/common_runtime/executor.cc:1197] [/device:CPU:0] (DEBUG INFO) Executor start aborting (this does not indicate an error and you can ignore this message): INVALID_ARGUMENT: You must feed a value for placeholder tensor 'Placeholder/_0' with dtype int32\n",
      "\t [[{{node Placeholder/_0}}]]\n",
      "2023-05-26 06:38:57.447638: I tensorflow/core/common_runtime/executor.cc:1197] [/device:CPU:0] (DEBUG INFO) Executor start aborting (this does not indicate an error and you can ignore this message): INVALID_ARGUMENT: You must feed a value for placeholder tensor 'Placeholder/_0' with dtype int32\n",
      "\t [[{{node Placeholder/_0}}]]\n",
      "2023-05-26 06:38:57.833718: I tensorflow/core/common_runtime/executor.cc:1197] [/device:CPU:0] (DEBUG INFO) Executor start aborting (this does not indicate an error and you can ignore this message): INVALID_ARGUMENT: You must feed a value for placeholder tensor 'Placeholder/_0' with dtype int32\n",
      "\t [[{{node Placeholder/_0}}]]\n",
      "2023-05-26 06:38:57.833970: I tensorflow/core/common_runtime/executor.cc:1197] [/device:CPU:0] (DEBUG INFO) Executor start aborting (this does not indicate an error and you can ignore this message): INVALID_ARGUMENT: You must feed a value for placeholder tensor 'Placeholder/_0' with dtype int32\n",
      "\t [[{{node Placeholder/_0}}]]\n"
     ]
    },
    {
     "name": "stdout",
     "output_type": "stream",
     "text": [
      "563/563 [==============================] - 267s 475ms/step - loss: 0.4015 - accuracy: 0.3728 - val_loss: 0.7459 - val_accuracy: 0.4919\n"
     ]
    },
    {
     "name": "stderr",
     "output_type": "stream",
     "text": [
      "2023-05-26 06:39:51.876721: I tensorflow/core/common_runtime/executor.cc:1197] [/device:CPU:0] (DEBUG INFO) Executor start aborting (this does not indicate an error and you can ignore this message): INVALID_ARGUMENT: You must feed a value for placeholder tensor 'Placeholder/_0' with dtype int32\n",
      "\t [[{{node Placeholder/_0}}]]\n",
      "2023-05-26 06:39:51.877063: I tensorflow/core/common_runtime/executor.cc:1197] [/device:CPU:0] (DEBUG INFO) Executor start aborting (this does not indicate an error and you can ignore this message): INVALID_ARGUMENT: You must feed a value for placeholder tensor 'Placeholder/_0' with dtype int32\n",
      "\t [[{{node Placeholder/_0}}]]\n"
     ]
    },
    {
     "name": "stdout",
     "output_type": "stream",
     "text": [
      "Epoch 3/100\n",
      "563/563 [==============================] - ETA: 0s - loss: 0.3860 - accuracy: 0.3681"
     ]
    },
    {
     "name": "stderr",
     "output_type": "stream",
     "text": [
      "2023-05-26 06:43:31.171426: I tensorflow/core/common_runtime/executor.cc:1197] [/device:CPU:0] (DEBUG INFO) Executor start aborting (this does not indicate an error and you can ignore this message): INVALID_ARGUMENT: You must feed a value for placeholder tensor 'Placeholder/_0' with dtype int32\n",
      "\t [[{{node Placeholder/_0}}]]\n",
      "2023-05-26 06:43:31.172301: I tensorflow/core/common_runtime/executor.cc:1197] [/device:CPU:0] (DEBUG INFO) Executor start aborting (this does not indicate an error and you can ignore this message): INVALID_ARGUMENT: You must feed a value for placeholder tensor 'Placeholder/_0' with dtype int32\n",
      "\t [[{{node Placeholder/_0}}]]\n",
      "2023-05-26 06:43:31.553001: I tensorflow/core/common_runtime/executor.cc:1197] [/device:CPU:0] (DEBUG INFO) Executor start aborting (this does not indicate an error and you can ignore this message): INVALID_ARGUMENT: You must feed a value for placeholder tensor 'Placeholder/_0' with dtype int32\n",
      "\t [[{{node Placeholder/_0}}]]\n",
      "2023-05-26 06:43:31.553307: I tensorflow/core/common_runtime/executor.cc:1197] [/device:CPU:0] (DEBUG INFO) Executor start aborting (this does not indicate an error and you can ignore this message): INVALID_ARGUMENT: You must feed a value for placeholder tensor 'Placeholder/_0' with dtype int32\n",
      "\t [[{{node Placeholder/_0}}]]\n"
     ]
    },
    {
     "name": "stdout",
     "output_type": "stream",
     "text": [
      "563/563 [==============================] - 275s 488ms/step - loss: 0.3860 - accuracy: 0.3681 - val_loss: 1.1347 - val_accuracy: 0.0948\n"
     ]
    },
    {
     "name": "stderr",
     "output_type": "stream",
     "text": [
      "2023-05-26 06:44:26.900283: I tensorflow/core/common_runtime/executor.cc:1197] [/device:CPU:0] (DEBUG INFO) Executor start aborting (this does not indicate an error and you can ignore this message): INVALID_ARGUMENT: You must feed a value for placeholder tensor 'Placeholder/_0' with dtype int32\n",
      "\t [[{{node Placeholder/_0}}]]\n",
      "2023-05-26 06:44:26.900851: I tensorflow/core/common_runtime/executor.cc:1197] [/device:CPU:0] (DEBUG INFO) Executor start aborting (this does not indicate an error and you can ignore this message): INVALID_ARGUMENT: You must feed a value for placeholder tensor 'Placeholder/_0' with dtype int32\n",
      "\t [[{{node Placeholder/_0}}]]\n"
     ]
    },
    {
     "name": "stdout",
     "output_type": "stream",
     "text": [
      "Epoch 4/100\n",
      "563/563 [==============================] - ETA: 0s - loss: 0.3793 - accuracy: 0.3676"
     ]
    },
    {
     "name": "stderr",
     "output_type": "stream",
     "text": [
      "2023-05-26 06:48:09.986840: I tensorflow/core/common_runtime/executor.cc:1197] [/device:CPU:0] (DEBUG INFO) Executor start aborting (this does not indicate an error and you can ignore this message): INVALID_ARGUMENT: You must feed a value for placeholder tensor 'Placeholder/_0' with dtype int32\n",
      "\t [[{{node Placeholder/_0}}]]\n",
      "2023-05-26 06:48:09.987637: I tensorflow/core/common_runtime/executor.cc:1197] [/device:CPU:0] (DEBUG INFO) Executor start aborting (this does not indicate an error and you can ignore this message): INVALID_ARGUMENT: You must feed a value for placeholder tensor 'Placeholder/_0' with dtype int32\n",
      "\t [[{{node Placeholder/_0}}]]\n",
      "2023-05-26 06:48:10.368118: I tensorflow/core/common_runtime/executor.cc:1197] [/device:CPU:0] (DEBUG INFO) Executor start aborting (this does not indicate an error and you can ignore this message): INVALID_ARGUMENT: You must feed a value for placeholder tensor 'Placeholder/_0' with dtype int32\n",
      "\t [[{{node Placeholder/_0}}]]\n",
      "2023-05-26 06:48:10.368426: I tensorflow/core/common_runtime/executor.cc:1197] [/device:CPU:0] (DEBUG INFO) Executor start aborting (this does not indicate an error and you can ignore this message): INVALID_ARGUMENT: You must feed a value for placeholder tensor 'Placeholder/_0' with dtype int32\n",
      "\t [[{{node Placeholder/_0}}]]\n"
     ]
    },
    {
     "name": "stdout",
     "output_type": "stream",
     "text": [
      "563/563 [==============================] - 277s 492ms/step - loss: 0.3793 - accuracy: 0.3676 - val_loss: 0.7775 - val_accuracy: 0.0532\n"
     ]
    },
    {
     "name": "stderr",
     "output_type": "stream",
     "text": [
      "2023-05-26 06:49:04.187516: I tensorflow/core/common_runtime/executor.cc:1197] [/device:CPU:0] (DEBUG INFO) Executor start aborting (this does not indicate an error and you can ignore this message): INVALID_ARGUMENT: You must feed a value for placeholder tensor 'Placeholder/_0' with dtype int32\n",
      "\t [[{{node Placeholder/_0}}]]\n",
      "2023-05-26 06:49:04.188334: I tensorflow/core/common_runtime/executor.cc:1197] [/device:CPU:0] (DEBUG INFO) Executor start aborting (this does not indicate an error and you can ignore this message): INVALID_ARGUMENT: You must feed a value for placeholder tensor 'Placeholder/_0' with dtype int32\n",
      "\t [[{{node Placeholder/_0}}]]\n"
     ]
    },
    {
     "name": "stdout",
     "output_type": "stream",
     "text": [
      "Epoch 5/100\n",
      "563/563 [==============================] - ETA: 0s - loss: 0.3743 - accuracy: 0.3670"
     ]
    },
    {
     "name": "stderr",
     "output_type": "stream",
     "text": [
      "2023-05-26 06:52:50.967309: I tensorflow/core/common_runtime/executor.cc:1197] [/device:CPU:0] (DEBUG INFO) Executor start aborting (this does not indicate an error and you can ignore this message): INVALID_ARGUMENT: You must feed a value for placeholder tensor 'Placeholder/_0' with dtype int32\n",
      "\t [[{{node Placeholder/_0}}]]\n",
      "2023-05-26 06:52:50.968136: I tensorflow/core/common_runtime/executor.cc:1197] [/device:CPU:0] (DEBUG INFO) Executor start aborting (this does not indicate an error and you can ignore this message): INVALID_ARGUMENT: You must feed a value for placeholder tensor 'Placeholder/_0' with dtype int32\n",
      "\t [[{{node Placeholder/_0}}]]\n",
      "2023-05-26 06:52:51.354194: I tensorflow/core/common_runtime/executor.cc:1197] [/device:CPU:0] (DEBUG INFO) Executor start aborting (this does not indicate an error and you can ignore this message): INVALID_ARGUMENT: You must feed a value for placeholder tensor 'Placeholder/_0' with dtype int32\n",
      "\t [[{{node Placeholder/_0}}]]\n",
      "2023-05-26 06:52:51.354504: I tensorflow/core/common_runtime/executor.cc:1197] [/device:CPU:0] (DEBUG INFO) Executor start aborting (this does not indicate an error and you can ignore this message): INVALID_ARGUMENT: You must feed a value for placeholder tensor 'Placeholder/_0' with dtype int32\n",
      "\t [[{{node Placeholder/_0}}]]\n"
     ]
    },
    {
     "name": "stdout",
     "output_type": "stream",
     "text": [
      "563/563 [==============================] - 282s 500ms/step - loss: 0.3743 - accuracy: 0.3670 - val_loss: 1.1684 - val_accuracy: 0.1824\n"
     ]
    },
    {
     "name": "stderr",
     "output_type": "stream",
     "text": [
      "2023-05-26 06:53:46.118434: I tensorflow/core/common_runtime/executor.cc:1197] [/device:CPU:0] (DEBUG INFO) Executor start aborting (this does not indicate an error and you can ignore this message): INVALID_ARGUMENT: You must feed a value for placeholder tensor 'Placeholder/_0' with dtype int32\n",
      "\t [[{{node Placeholder/_0}}]]\n",
      "2023-05-26 06:53:46.118829: I tensorflow/core/common_runtime/executor.cc:1197] [/device:CPU:0] (DEBUG INFO) Executor start aborting (this does not indicate an error and you can ignore this message): INVALID_ARGUMENT: You must feed a value for placeholder tensor 'Placeholder/_0' with dtype int32\n",
      "\t [[{{node Placeholder/_0}}]]\n"
     ]
    },
    {
     "name": "stdout",
     "output_type": "stream",
     "text": [
      "Epoch 6/100\n",
      "563/563 [==============================] - ETA: 0s - loss: 0.3710 - accuracy: 0.3675"
     ]
    },
    {
     "name": "stderr",
     "output_type": "stream",
     "text": [
      "2023-05-26 06:57:26.685153: I tensorflow/core/common_runtime/executor.cc:1197] [/device:CPU:0] (DEBUG INFO) Executor start aborting (this does not indicate an error and you can ignore this message): INVALID_ARGUMENT: You must feed a value for placeholder tensor 'Placeholder/_0' with dtype int32\n",
      "\t [[{{node Placeholder/_0}}]]\n",
      "2023-05-26 06:57:26.685898: I tensorflow/core/common_runtime/executor.cc:1197] [/device:CPU:0] (DEBUG INFO) Executor start aborting (this does not indicate an error and you can ignore this message): INVALID_ARGUMENT: You must feed a value for placeholder tensor 'Placeholder/_0' with dtype int32\n",
      "\t [[{{node Placeholder/_0}}]]\n",
      "2023-05-26 06:57:27.053548: I tensorflow/core/common_runtime/executor.cc:1197] [/device:CPU:0] (DEBUG INFO) Executor start aborting (this does not indicate an error and you can ignore this message): INVALID_ARGUMENT: You must feed a value for placeholder tensor 'Placeholder/_0' with dtype int32\n",
      "\t [[{{node Placeholder/_0}}]]\n",
      "2023-05-26 06:57:27.053796: I tensorflow/core/common_runtime/executor.cc:1197] [/device:CPU:0] (DEBUG INFO) Executor start aborting (this does not indicate an error and you can ignore this message): INVALID_ARGUMENT: You must feed a value for placeholder tensor 'Placeholder/_0' with dtype int32\n",
      "\t [[{{node Placeholder/_0}}]]\n"
     ]
    },
    {
     "name": "stdout",
     "output_type": "stream",
     "text": [
      "563/563 [==============================] - 278s 493ms/step - loss: 0.3710 - accuracy: 0.3675 - val_loss: 0.8372 - val_accuracy: 0.5003\n"
     ]
    },
    {
     "name": "stderr",
     "output_type": "stream",
     "text": [
      "2023-05-26 06:58:24.146334: I tensorflow/core/common_runtime/executor.cc:1197] [/device:CPU:0] (DEBUG INFO) Executor start aborting (this does not indicate an error and you can ignore this message): INVALID_ARGUMENT: You must feed a value for placeholder tensor 'Placeholder/_0' with dtype int32\n",
      "\t [[{{node Placeholder/_0}}]]\n",
      "2023-05-26 06:58:24.147119: I tensorflow/core/common_runtime/executor.cc:1197] [/device:CPU:0] (DEBUG INFO) Executor start aborting (this does not indicate an error and you can ignore this message): INVALID_ARGUMENT: You must feed a value for placeholder tensor 'Placeholder/_0' with dtype int32\n",
      "\t [[{{node Placeholder/_0}}]]\n"
     ]
    },
    {
     "name": "stdout",
     "output_type": "stream",
     "text": [
      "Epoch 7/100\n",
      "563/563 [==============================] - ETA: 0s - loss: 0.3681 - accuracy: 0.3662"
     ]
    },
    {
     "name": "stderr",
     "output_type": "stream",
     "text": [
      "2023-05-26 07:02:31.078307: I tensorflow/core/common_runtime/executor.cc:1197] [/device:CPU:0] (DEBUG INFO) Executor start aborting (this does not indicate an error and you can ignore this message): INVALID_ARGUMENT: You must feed a value for placeholder tensor 'Placeholder/_0' with dtype int32\n",
      "\t [[{{node Placeholder/_0}}]]\n",
      "2023-05-26 07:02:31.079127: I tensorflow/core/common_runtime/executor.cc:1197] [/device:CPU:0] (DEBUG INFO) Executor start aborting (this does not indicate an error and you can ignore this message): INVALID_ARGUMENT: You must feed a value for placeholder tensor 'Placeholder/_0' with dtype int32\n",
      "\t [[{{node Placeholder/_0}}]]\n",
      "2023-05-26 07:02:31.459578: I tensorflow/core/common_runtime/executor.cc:1197] [/device:CPU:0] (DEBUG INFO) Executor start aborting (this does not indicate an error and you can ignore this message): INVALID_ARGUMENT: You must feed a value for placeholder tensor 'Placeholder/_0' with dtype int32\n",
      "\t [[{{node Placeholder/_0}}]]\n",
      "2023-05-26 07:02:31.459884: I tensorflow/core/common_runtime/executor.cc:1197] [/device:CPU:0] (DEBUG INFO) Executor start aborting (this does not indicate an error and you can ignore this message): INVALID_ARGUMENT: You must feed a value for placeholder tensor 'Placeholder/_0' with dtype int32\n",
      "\t [[{{node Placeholder/_0}}]]\n"
     ]
    },
    {
     "name": "stdout",
     "output_type": "stream",
     "text": [
      "563/563 [==============================] - 301s 535ms/step - loss: 0.3681 - accuracy: 0.3662 - val_loss: 0.5557 - val_accuracy: 0.1716\n"
     ]
    },
    {
     "name": "stderr",
     "output_type": "stream",
     "text": [
      "2023-05-26 07:03:26.061877: I tensorflow/core/common_runtime/executor.cc:1197] [/device:CPU:0] (DEBUG INFO) Executor start aborting (this does not indicate an error and you can ignore this message): INVALID_ARGUMENT: You must feed a value for placeholder tensor 'Placeholder/_0' with dtype int32\n",
      "\t [[{{node Placeholder/_0}}]]\n",
      "2023-05-26 07:03:26.062649: I tensorflow/core/common_runtime/executor.cc:1197] [/device:CPU:0] (DEBUG INFO) Executor start aborting (this does not indicate an error and you can ignore this message): INVALID_ARGUMENT: You must feed a value for placeholder tensor 'Placeholder/_0' with dtype int32\n",
      "\t [[{{node Placeholder/_0}}]]\n"
     ]
    },
    {
     "name": "stdout",
     "output_type": "stream",
     "text": [
      "Epoch 8/100\n",
      "563/563 [==============================] - ETA: 0s - loss: 0.3663 - accuracy: 0.3691"
     ]
    },
    {
     "name": "stderr",
     "output_type": "stream",
     "text": [
      "2023-05-26 07:07:12.598826: I tensorflow/core/common_runtime/executor.cc:1197] [/device:CPU:0] (DEBUG INFO) Executor start aborting (this does not indicate an error and you can ignore this message): INVALID_ARGUMENT: You must feed a value for placeholder tensor 'Placeholder/_0' with dtype int32\n",
      "\t [[{{node Placeholder/_0}}]]\n",
      "2023-05-26 07:07:12.599678: I tensorflow/core/common_runtime/executor.cc:1197] [/device:CPU:0] (DEBUG INFO) Executor start aborting (this does not indicate an error and you can ignore this message): INVALID_ARGUMENT: You must feed a value for placeholder tensor 'Placeholder/_0' with dtype int32\n",
      "\t [[{{node Placeholder/_0}}]]\n",
      "2023-05-26 07:07:12.969732: I tensorflow/core/common_runtime/executor.cc:1197] [/device:CPU:0] (DEBUG INFO) Executor start aborting (this does not indicate an error and you can ignore this message): INVALID_ARGUMENT: You must feed a value for placeholder tensor 'Placeholder/_0' with dtype int32\n",
      "\t [[{{node Placeholder/_0}}]]\n",
      "2023-05-26 07:07:12.970032: I tensorflow/core/common_runtime/executor.cc:1197] [/device:CPU:0] (DEBUG INFO) Executor start aborting (this does not indicate an error and you can ignore this message): INVALID_ARGUMENT: You must feed a value for placeholder tensor 'Placeholder/_0' with dtype int32\n",
      "\t [[{{node Placeholder/_0}}]]\n"
     ]
    },
    {
     "name": "stdout",
     "output_type": "stream",
     "text": [
      "563/563 [==============================] - 287s 509ms/step - loss: 0.3663 - accuracy: 0.3691 - val_loss: 0.7260 - val_accuracy: 0.0600\n"
     ]
    },
    {
     "name": "stderr",
     "output_type": "stream",
     "text": [
      "2023-05-26 07:08:13.345110: I tensorflow/core/common_runtime/executor.cc:1197] [/device:CPU:0] (DEBUG INFO) Executor start aborting (this does not indicate an error and you can ignore this message): INVALID_ARGUMENT: You must feed a value for placeholder tensor 'Placeholder/_0' with dtype int32\n",
      "\t [[{{node Placeholder/_0}}]]\n",
      "2023-05-26 07:08:13.345684: I tensorflow/core/common_runtime/executor.cc:1197] [/device:CPU:0] (DEBUG INFO) Executor start aborting (this does not indicate an error and you can ignore this message): INVALID_ARGUMENT: You must feed a value for placeholder tensor 'Placeholder/_0' with dtype int32\n",
      "\t [[{{node Placeholder/_0}}]]\n"
     ]
    },
    {
     "name": "stdout",
     "output_type": "stream",
     "text": [
      "Epoch 9/100\n",
      "563/563 [==============================] - ETA: 0s - loss: 0.3637 - accuracy: 0.3669"
     ]
    },
    {
     "name": "stderr",
     "output_type": "stream",
     "text": [
      "2023-05-26 07:12:07.384035: I tensorflow/core/common_runtime/executor.cc:1197] [/device:CPU:0] (DEBUG INFO) Executor start aborting (this does not indicate an error and you can ignore this message): INVALID_ARGUMENT: You must feed a value for placeholder tensor 'Placeholder/_0' with dtype int32\n",
      "\t [[{{node Placeholder/_0}}]]\n",
      "2023-05-26 07:12:07.384803: I tensorflow/core/common_runtime/executor.cc:1197] [/device:CPU:0] (DEBUG INFO) Executor start aborting (this does not indicate an error and you can ignore this message): INVALID_ARGUMENT: You must feed a value for placeholder tensor 'Placeholder/_0' with dtype int32\n",
      "\t [[{{node Placeholder/_0}}]]\n",
      "2023-05-26 07:12:07.783068: I tensorflow/core/common_runtime/executor.cc:1197] [/device:CPU:0] (DEBUG INFO) Executor start aborting (this does not indicate an error and you can ignore this message): INVALID_ARGUMENT: You must feed a value for placeholder tensor 'Placeholder/_0' with dtype int32\n",
      "\t [[{{node Placeholder/_0}}]]\n",
      "2023-05-26 07:12:07.783377: I tensorflow/core/common_runtime/executor.cc:1197] [/device:CPU:0] (DEBUG INFO) Executor start aborting (this does not indicate an error and you can ignore this message): INVALID_ARGUMENT: You must feed a value for placeholder tensor 'Placeholder/_0' with dtype int32\n",
      "\t [[{{node Placeholder/_0}}]]\n"
     ]
    },
    {
     "name": "stdout",
     "output_type": "stream",
     "text": [
      "563/563 [==============================] - 293s 520ms/step - loss: 0.3637 - accuracy: 0.3669 - val_loss: 1.1389 - val_accuracy: 0.0646\n"
     ]
    },
    {
     "name": "stderr",
     "output_type": "stream",
     "text": [
      "2023-05-26 07:13:06.736087: I tensorflow/core/common_runtime/executor.cc:1197] [/device:CPU:0] (DEBUG INFO) Executor start aborting (this does not indicate an error and you can ignore this message): INVALID_ARGUMENT: You must feed a value for placeholder tensor 'Placeholder/_0' with dtype int32\n",
      "\t [[{{node Placeholder/_0}}]]\n",
      "2023-05-26 07:13:06.736618: I tensorflow/core/common_runtime/executor.cc:1197] [/device:CPU:0] (DEBUG INFO) Executor start aborting (this does not indicate an error and you can ignore this message): INVALID_ARGUMENT: You must feed a value for placeholder tensor 'Placeholder/_0' with dtype int32\n",
      "\t [[{{node Placeholder/_0}}]]\n"
     ]
    },
    {
     "name": "stdout",
     "output_type": "stream",
     "text": [
      "Epoch 10/100\n",
      "563/563 [==============================] - ETA: 0s - loss: 0.3603 - accuracy: 0.3655"
     ]
    },
    {
     "name": "stderr",
     "output_type": "stream",
     "text": [
      "2023-05-26 07:16:50.128454: I tensorflow/core/common_runtime/executor.cc:1197] [/device:CPU:0] (DEBUG INFO) Executor start aborting (this does not indicate an error and you can ignore this message): INVALID_ARGUMENT: You must feed a value for placeholder tensor 'Placeholder/_0' with dtype int32\n",
      "\t [[{{node Placeholder/_0}}]]\n",
      "2023-05-26 07:16:50.129252: I tensorflow/core/common_runtime/executor.cc:1197] [/device:CPU:0] (DEBUG INFO) Executor start aborting (this does not indicate an error and you can ignore this message): INVALID_ARGUMENT: You must feed a value for placeholder tensor 'Placeholder/_0' with dtype int32\n",
      "\t [[{{node Placeholder/_0}}]]\n",
      "2023-05-26 07:16:50.511956: I tensorflow/core/common_runtime/executor.cc:1197] [/device:CPU:0] (DEBUG INFO) Executor start aborting (this does not indicate an error and you can ignore this message): INVALID_ARGUMENT: You must feed a value for placeholder tensor 'Placeholder/_0' with dtype int32\n",
      "\t [[{{node Placeholder/_0}}]]\n",
      "2023-05-26 07:16:50.512276: I tensorflow/core/common_runtime/executor.cc:1197] [/device:CPU:0] (DEBUG INFO) Executor start aborting (this does not indicate an error and you can ignore this message): INVALID_ARGUMENT: You must feed a value for placeholder tensor 'Placeholder/_0' with dtype int32\n",
      "\t [[{{node Placeholder/_0}}]]\n"
     ]
    },
    {
     "name": "stdout",
     "output_type": "stream",
     "text": [
      "563/563 [==============================] - 278s 494ms/step - loss: 0.3603 - accuracy: 0.3655 - val_loss: 0.7024 - val_accuracy: 0.1649\n"
     ]
    },
    {
     "name": "stderr",
     "output_type": "stream",
     "text": [
      "2023-05-26 07:17:45.261632: I tensorflow/core/common_runtime/executor.cc:1197] [/device:CPU:0] (DEBUG INFO) Executor start aborting (this does not indicate an error and you can ignore this message): INVALID_ARGUMENT: You must feed a value for placeholder tensor 'Placeholder/_0' with dtype int32\n",
      "\t [[{{node Placeholder/_0}}]]\n",
      "2023-05-26 07:17:45.262405: I tensorflow/core/common_runtime/executor.cc:1197] [/device:CPU:0] (DEBUG INFO) Executor start aborting (this does not indicate an error and you can ignore this message): INVALID_ARGUMENT: You must feed a value for placeholder tensor 'Placeholder/_0' with dtype int32\n",
      "\t [[{{node Placeholder/_0}}]]\n"
     ]
    },
    {
     "name": "stdout",
     "output_type": "stream",
     "text": [
      "Epoch 11/100\n",
      "563/563 [==============================] - ETA: 0s - loss: 0.3598 - accuracy: 0.3659"
     ]
    },
    {
     "name": "stderr",
     "output_type": "stream",
     "text": [
      "2023-05-26 07:21:25.273705: I tensorflow/core/common_runtime/executor.cc:1197] [/device:CPU:0] (DEBUG INFO) Executor start aborting (this does not indicate an error and you can ignore this message): INVALID_ARGUMENT: You must feed a value for placeholder tensor 'Placeholder/_0' with dtype int32\n",
      "\t [[{{node Placeholder/_0}}]]\n",
      "2023-05-26 07:21:25.274746: I tensorflow/core/common_runtime/executor.cc:1197] [/device:CPU:0] (DEBUG INFO) Executor start aborting (this does not indicate an error and you can ignore this message): INVALID_ARGUMENT: You must feed a value for placeholder tensor 'Placeholder/_0' with dtype int32\n",
      "\t [[{{node Placeholder/_0}}]]\n",
      "2023-05-26 07:21:25.653757: I tensorflow/core/common_runtime/executor.cc:1197] [/device:CPU:0] (DEBUG INFO) Executor start aborting (this does not indicate an error and you can ignore this message): INVALID_ARGUMENT: You must feed a value for placeholder tensor 'Placeholder/_0' with dtype int32\n",
      "\t [[{{node Placeholder/_0}}]]\n",
      "2023-05-26 07:21:25.654084: I tensorflow/core/common_runtime/executor.cc:1197] [/device:CPU:0] (DEBUG INFO) Executor start aborting (this does not indicate an error and you can ignore this message): INVALID_ARGUMENT: You must feed a value for placeholder tensor 'Placeholder/_0' with dtype int32\n",
      "\t [[{{node Placeholder/_0}}]]\n"
     ]
    },
    {
     "name": "stdout",
     "output_type": "stream",
     "text": [
      "563/563 [==============================] - 273s 484ms/step - loss: 0.3598 - accuracy: 0.3659 - val_loss: 0.9430 - val_accuracy: 0.5361\n"
     ]
    },
    {
     "name": "stderr",
     "output_type": "stream",
     "text": [
      "2023-05-26 07:22:18.372268: I tensorflow/core/common_runtime/executor.cc:1197] [/device:CPU:0] (DEBUG INFO) Executor start aborting (this does not indicate an error and you can ignore this message): INVALID_ARGUMENT: You must feed a value for placeholder tensor 'Placeholder/_0' with dtype int32\n",
      "\t [[{{node Placeholder/_0}}]]\n",
      "2023-05-26 07:22:18.372815: I tensorflow/core/common_runtime/executor.cc:1197] [/device:CPU:0] (DEBUG INFO) Executor start aborting (this does not indicate an error and you can ignore this message): INVALID_ARGUMENT: You must feed a value for placeholder tensor 'Placeholder/_0' with dtype int32\n",
      "\t [[{{node Placeholder/_0}}]]\n"
     ]
    },
    {
     "name": "stdout",
     "output_type": "stream",
     "text": [
      "Epoch 12/100\n",
      "563/563 [==============================] - ETA: 0s - loss: 0.3572 - accuracy: 0.3662"
     ]
    },
    {
     "name": "stderr",
     "output_type": "stream",
     "text": [
      "2023-05-26 07:26:05.701364: I tensorflow/core/common_runtime/executor.cc:1197] [/device:CPU:0] (DEBUG INFO) Executor start aborting (this does not indicate an error and you can ignore this message): INVALID_ARGUMENT: You must feed a value for placeholder tensor 'Placeholder/_0' with dtype int32\n",
      "\t [[{{node Placeholder/_0}}]]\n",
      "2023-05-26 07:26:05.702148: I tensorflow/core/common_runtime/executor.cc:1197] [/device:CPU:0] (DEBUG INFO) Executor start aborting (this does not indicate an error and you can ignore this message): INVALID_ARGUMENT: You must feed a value for placeholder tensor 'Placeholder/_0' with dtype int32\n",
      "\t [[{{node Placeholder/_0}}]]\n",
      "2023-05-26 07:26:06.084959: I tensorflow/core/common_runtime/executor.cc:1197] [/device:CPU:0] (DEBUG INFO) Executor start aborting (this does not indicate an error and you can ignore this message): INVALID_ARGUMENT: You must feed a value for placeholder tensor 'Placeholder/_0' with dtype int32\n",
      "\t [[{{node Placeholder/_0}}]]\n",
      "2023-05-26 07:26:06.085266: I tensorflow/core/common_runtime/executor.cc:1197] [/device:CPU:0] (DEBUG INFO) Executor start aborting (this does not indicate an error and you can ignore this message): INVALID_ARGUMENT: You must feed a value for placeholder tensor 'Placeholder/_0' with dtype int32\n",
      "\t [[{{node Placeholder/_0}}]]\n"
     ]
    },
    {
     "name": "stdout",
     "output_type": "stream",
     "text": [
      "563/563 [==============================] - 280s 498ms/step - loss: 0.3572 - accuracy: 0.3662 - val_loss: 0.5585 - val_accuracy: 0.2648\n"
     ]
    },
    {
     "name": "stderr",
     "output_type": "stream",
     "text": [
      "2023-05-26 07:26:58.974956: I tensorflow/core/common_runtime/executor.cc:1197] [/device:CPU:0] (DEBUG INFO) Executor start aborting (this does not indicate an error and you can ignore this message): INVALID_ARGUMENT: You must feed a value for placeholder tensor 'Placeholder/_0' with dtype int32\n",
      "\t [[{{node Placeholder/_0}}]]\n",
      "2023-05-26 07:26:58.975586: I tensorflow/core/common_runtime/executor.cc:1197] [/device:CPU:0] (DEBUG INFO) Executor start aborting (this does not indicate an error and you can ignore this message): INVALID_ARGUMENT: You must feed a value for placeholder tensor 'Placeholder/_0' with dtype int32\n",
      "\t [[{{node Placeholder/_0}}]]\n"
     ]
    },
    {
     "name": "stdout",
     "output_type": "stream",
     "text": [
      "Epoch 13/100\n",
      "563/563 [==============================] - ETA: 0s - loss: 0.3562 - accuracy: 0.3627"
     ]
    },
    {
     "name": "stderr",
     "output_type": "stream",
     "text": [
      "2023-05-26 07:30:37.796451: I tensorflow/core/common_runtime/executor.cc:1197] [/device:CPU:0] (DEBUG INFO) Executor start aborting (this does not indicate an error and you can ignore this message): INVALID_ARGUMENT: You must feed a value for placeholder tensor 'Placeholder/_0' with dtype int32\n",
      "\t [[{{node Placeholder/_0}}]]\n",
      "2023-05-26 07:30:37.797179: I tensorflow/core/common_runtime/executor.cc:1197] [/device:CPU:0] (DEBUG INFO) Executor start aborting (this does not indicate an error and you can ignore this message): INVALID_ARGUMENT: You must feed a value for placeholder tensor 'Placeholder/_0' with dtype int32\n",
      "\t [[{{node Placeholder/_0}}]]\n",
      "2023-05-26 07:30:38.186970: I tensorflow/core/common_runtime/executor.cc:1197] [/device:CPU:0] (DEBUG INFO) Executor start aborting (this does not indicate an error and you can ignore this message): INVALID_ARGUMENT: You must feed a value for placeholder tensor 'Placeholder/_0' with dtype int32\n",
      "\t [[{{node Placeholder/_0}}]]\n",
      "2023-05-26 07:30:38.187286: I tensorflow/core/common_runtime/executor.cc:1197] [/device:CPU:0] (DEBUG INFO) Executor start aborting (this does not indicate an error and you can ignore this message): INVALID_ARGUMENT: You must feed a value for placeholder tensor 'Placeholder/_0' with dtype int32\n",
      "\t [[{{node Placeholder/_0}}]]\n"
     ]
    },
    {
     "name": "stdout",
     "output_type": "stream",
     "text": [
      "563/563 [==============================] - 276s 490ms/step - loss: 0.3562 - accuracy: 0.3627 - val_loss: 0.5568 - val_accuracy: 0.5124\n"
     ]
    },
    {
     "name": "stderr",
     "output_type": "stream",
     "text": [
      "2023-05-26 07:31:35.382232: I tensorflow/core/common_runtime/executor.cc:1197] [/device:CPU:0] (DEBUG INFO) Executor start aborting (this does not indicate an error and you can ignore this message): INVALID_ARGUMENT: You must feed a value for placeholder tensor 'Placeholder/_0' with dtype int32\n",
      "\t [[{{node Placeholder/_0}}]]\n",
      "2023-05-26 07:31:35.382955: I tensorflow/core/common_runtime/executor.cc:1197] [/device:CPU:0] (DEBUG INFO) Executor start aborting (this does not indicate an error and you can ignore this message): INVALID_ARGUMENT: You must feed a value for placeholder tensor 'Placeholder/_0' with dtype int32\n",
      "\t [[{{node Placeholder/_0}}]]\n"
     ]
    },
    {
     "name": "stdout",
     "output_type": "stream",
     "text": [
      "Epoch 14/100\n",
      "563/563 [==============================] - ETA: 0s - loss: 0.3535 - accuracy: 0.3655"
     ]
    },
    {
     "name": "stderr",
     "output_type": "stream",
     "text": [
      "2023-05-26 07:35:32.773157: I tensorflow/core/common_runtime/executor.cc:1197] [/device:CPU:0] (DEBUG INFO) Executor start aborting (this does not indicate an error and you can ignore this message): INVALID_ARGUMENT: You must feed a value for placeholder tensor 'Placeholder/_0' with dtype int32\n",
      "\t [[{{node Placeholder/_0}}]]\n",
      "2023-05-26 07:35:32.773899: I tensorflow/core/common_runtime/executor.cc:1197] [/device:CPU:0] (DEBUG INFO) Executor start aborting (this does not indicate an error and you can ignore this message): INVALID_ARGUMENT: You must feed a value for placeholder tensor 'Placeholder/_0' with dtype int32\n",
      "\t [[{{node Placeholder/_0}}]]\n",
      "2023-05-26 07:35:33.152069: I tensorflow/core/common_runtime/executor.cc:1197] [/device:CPU:0] (DEBUG INFO) Executor start aborting (this does not indicate an error and you can ignore this message): INVALID_ARGUMENT: You must feed a value for placeholder tensor 'Placeholder/_0' with dtype int32\n",
      "\t [[{{node Placeholder/_0}}]]\n",
      "2023-05-26 07:35:33.152291: I tensorflow/core/common_runtime/executor.cc:1197] [/device:CPU:0] (DEBUG INFO) Executor start aborting (this does not indicate an error and you can ignore this message): INVALID_ARGUMENT: You must feed a value for placeholder tensor 'Placeholder/_0' with dtype int32\n",
      "\t [[{{node Placeholder/_0}}]]\n"
     ]
    },
    {
     "name": "stdout",
     "output_type": "stream",
     "text": [
      "563/563 [==============================] - 300s 533ms/step - loss: 0.3535 - accuracy: 0.3655 - val_loss: 1.1307 - val_accuracy: 0.0520\n"
     ]
    },
    {
     "name": "stderr",
     "output_type": "stream",
     "text": [
      "2023-05-26 07:36:35.941590: I tensorflow/core/common_runtime/executor.cc:1197] [/device:CPU:0] (DEBUG INFO) Executor start aborting (this does not indicate an error and you can ignore this message): INVALID_ARGUMENT: You must feed a value for placeholder tensor 'Placeholder/_0' with dtype int32\n",
      "\t [[{{node Placeholder/_0}}]]\n",
      "2023-05-26 07:36:35.941912: I tensorflow/core/common_runtime/executor.cc:1197] [/device:CPU:0] (DEBUG INFO) Executor start aborting (this does not indicate an error and you can ignore this message): INVALID_ARGUMENT: You must feed a value for placeholder tensor 'Placeholder/_0' with dtype int32\n",
      "\t [[{{node Placeholder/_0}}]]\n"
     ]
    },
    {
     "name": "stdout",
     "output_type": "stream",
     "text": [
      "Epoch 15/100\n",
      "563/563 [==============================] - ETA: 0s - loss: 0.3538 - accuracy: 0.3644"
     ]
    },
    {
     "name": "stderr",
     "output_type": "stream",
     "text": [
      "2023-05-26 07:40:34.267674: I tensorflow/core/common_runtime/executor.cc:1197] [/device:CPU:0] (DEBUG INFO) Executor start aborting (this does not indicate an error and you can ignore this message): INVALID_ARGUMENT: You must feed a value for placeholder tensor 'Placeholder/_0' with dtype int32\n",
      "\t [[{{node Placeholder/_0}}]]\n",
      "2023-05-26 07:40:34.268473: I tensorflow/core/common_runtime/executor.cc:1197] [/device:CPU:0] (DEBUG INFO) Executor start aborting (this does not indicate an error and you can ignore this message): INVALID_ARGUMENT: You must feed a value for placeholder tensor 'Placeholder/_0' with dtype int32\n",
      "\t [[{{node Placeholder/_0}}]]\n",
      "2023-05-26 07:40:34.649708: I tensorflow/core/common_runtime/executor.cc:1197] [/device:CPU:0] (DEBUG INFO) Executor start aborting (this does not indicate an error and you can ignore this message): INVALID_ARGUMENT: You must feed a value for placeholder tensor 'Placeholder/_0' with dtype int32\n",
      "\t [[{{node Placeholder/_0}}]]\n",
      "2023-05-26 07:40:34.649970: I tensorflow/core/common_runtime/executor.cc:1197] [/device:CPU:0] (DEBUG INFO) Executor start aborting (this does not indicate an error and you can ignore this message): INVALID_ARGUMENT: You must feed a value for placeholder tensor 'Placeholder/_0' with dtype int32\n",
      "\t [[{{node Placeholder/_0}}]]\n"
     ]
    },
    {
     "name": "stdout",
     "output_type": "stream",
     "text": [
      "563/563 [==============================] - 301s 535ms/step - loss: 0.3538 - accuracy: 0.3644 - val_loss: 0.8401 - val_accuracy: 0.1527\n"
     ]
    },
    {
     "name": "stderr",
     "output_type": "stream",
     "text": [
      "2023-05-26 07:41:37.574782: I tensorflow/core/common_runtime/executor.cc:1197] [/device:CPU:0] (DEBUG INFO) Executor start aborting (this does not indicate an error and you can ignore this message): INVALID_ARGUMENT: You must feed a value for placeholder tensor 'Placeholder/_0' with dtype int32\n",
      "\t [[{{node Placeholder/_0}}]]\n",
      "2023-05-26 07:41:37.575304: I tensorflow/core/common_runtime/executor.cc:1197] [/device:CPU:0] (DEBUG INFO) Executor start aborting (this does not indicate an error and you can ignore this message): INVALID_ARGUMENT: You must feed a value for placeholder tensor 'Placeholder/_0' with dtype int32\n",
      "\t [[{{node Placeholder/_0}}]]\n"
     ]
    },
    {
     "name": "stdout",
     "output_type": "stream",
     "text": [
      "Epoch 16/100\n",
      "563/563 [==============================] - ETA: 0s - loss: 0.3530 - accuracy: 0.3631"
     ]
    },
    {
     "name": "stderr",
     "output_type": "stream",
     "text": [
      "2023-05-26 07:45:34.866631: I tensorflow/core/common_runtime/executor.cc:1197] [/device:CPU:0] (DEBUG INFO) Executor start aborting (this does not indicate an error and you can ignore this message): INVALID_ARGUMENT: You must feed a value for placeholder tensor 'Placeholder/_0' with dtype int32\n",
      "\t [[{{node Placeholder/_0}}]]\n",
      "2023-05-26 07:45:34.867416: I tensorflow/core/common_runtime/executor.cc:1197] [/device:CPU:0] (DEBUG INFO) Executor start aborting (this does not indicate an error and you can ignore this message): INVALID_ARGUMENT: You must feed a value for placeholder tensor 'Placeholder/_0' with dtype int32\n",
      "\t [[{{node Placeholder/_0}}]]\n",
      "2023-05-26 07:45:35.249332: I tensorflow/core/common_runtime/executor.cc:1197] [/device:CPU:0] (DEBUG INFO) Executor start aborting (this does not indicate an error and you can ignore this message): INVALID_ARGUMENT: You must feed a value for placeholder tensor 'Placeholder/_0' with dtype int32\n",
      "\t [[{{node Placeholder/_0}}]]\n",
      "2023-05-26 07:45:35.249640: I tensorflow/core/common_runtime/executor.cc:1197] [/device:CPU:0] (DEBUG INFO) Executor start aborting (this does not indicate an error and you can ignore this message): INVALID_ARGUMENT: You must feed a value for placeholder tensor 'Placeholder/_0' with dtype int32\n",
      "\t [[{{node Placeholder/_0}}]]\n"
     ]
    },
    {
     "name": "stdout",
     "output_type": "stream",
     "text": [
      "563/563 [==============================] - 291s 517ms/step - loss: 0.3530 - accuracy: 0.3631 - val_loss: 0.7509 - val_accuracy: 0.0738\n"
     ]
    },
    {
     "name": "stderr",
     "output_type": "stream",
     "text": [
      "2023-05-26 07:46:29.298856: I tensorflow/core/common_runtime/executor.cc:1197] [/device:CPU:0] (DEBUG INFO) Executor start aborting (this does not indicate an error and you can ignore this message): INVALID_ARGUMENT: You must feed a value for placeholder tensor 'Placeholder/_0' with dtype int32\n",
      "\t [[{{node Placeholder/_0}}]]\n",
      "2023-05-26 07:46:29.299729: I tensorflow/core/common_runtime/executor.cc:1197] [/device:CPU:0] (DEBUG INFO) Executor start aborting (this does not indicate an error and you can ignore this message): INVALID_ARGUMENT: You must feed a value for placeholder tensor 'Placeholder/_0' with dtype int32\n",
      "\t [[{{node Placeholder/_0}}]]\n"
     ]
    },
    {
     "name": "stdout",
     "output_type": "stream",
     "text": [
      "Epoch 17/100\n",
      "563/563 [==============================] - ETA: 0s - loss: 0.3517 - accuracy: 0.3647"
     ]
    },
    {
     "name": "stderr",
     "output_type": "stream",
     "text": [
      "2023-05-26 07:50:27.342304: I tensorflow/core/common_runtime/executor.cc:1197] [/device:CPU:0] (DEBUG INFO) Executor start aborting (this does not indicate an error and you can ignore this message): INVALID_ARGUMENT: You must feed a value for placeholder tensor 'Placeholder/_0' with dtype int32\n",
      "\t [[{{node Placeholder/_0}}]]\n",
      "2023-05-26 07:50:27.343330: I tensorflow/core/common_runtime/executor.cc:1197] [/device:CPU:0] (DEBUG INFO) Executor start aborting (this does not indicate an error and you can ignore this message): INVALID_ARGUMENT: You must feed a value for placeholder tensor 'Placeholder/_0' with dtype int32\n",
      "\t [[{{node Placeholder/_0}}]]\n",
      "2023-05-26 07:50:27.752455: I tensorflow/core/common_runtime/executor.cc:1197] [/device:CPU:0] (DEBUG INFO) Executor start aborting (this does not indicate an error and you can ignore this message): INVALID_ARGUMENT: You must feed a value for placeholder tensor 'Placeholder/_0' with dtype int32\n",
      "\t [[{{node Placeholder/_0}}]]\n",
      "2023-05-26 07:50:27.752742: I tensorflow/core/common_runtime/executor.cc:1197] [/device:CPU:0] (DEBUG INFO) Executor start aborting (this does not indicate an error and you can ignore this message): INVALID_ARGUMENT: You must feed a value for placeholder tensor 'Placeholder/_0' with dtype int32\n",
      "\t [[{{node Placeholder/_0}}]]\n"
     ]
    },
    {
     "name": "stdout",
     "output_type": "stream",
     "text": [
      "563/563 [==============================] - 297s 527ms/step - loss: 0.3517 - accuracy: 0.3647 - val_loss: 4.6677 - val_accuracy: 0.1321\n"
     ]
    },
    {
     "name": "stderr",
     "output_type": "stream",
     "text": [
      "2023-05-26 07:51:26.441470: I tensorflow/core/common_runtime/executor.cc:1197] [/device:CPU:0] (DEBUG INFO) Executor start aborting (this does not indicate an error and you can ignore this message): INVALID_ARGUMENT: You must feed a value for placeholder tensor 'Placeholder/_0' with dtype int32\n",
      "\t [[{{node Placeholder/_0}}]]\n",
      "2023-05-26 07:51:26.441933: I tensorflow/core/common_runtime/executor.cc:1197] [/device:CPU:0] (DEBUG INFO) Executor start aborting (this does not indicate an error and you can ignore this message): INVALID_ARGUMENT: You must feed a value for placeholder tensor 'Placeholder/_0' with dtype int32\n",
      "\t [[{{node Placeholder/_0}}]]\n"
     ]
    },
    {
     "name": "stdout",
     "output_type": "stream",
     "text": [
      "Epoch 18/100\n",
      "563/563 [==============================] - ETA: 0s - loss: 0.3505 - accuracy: 0.3641"
     ]
    },
    {
     "name": "stderr",
     "output_type": "stream",
     "text": [
      "2023-05-26 07:55:16.887053: I tensorflow/core/common_runtime/executor.cc:1197] [/device:CPU:0] (DEBUG INFO) Executor start aborting (this does not indicate an error and you can ignore this message): INVALID_ARGUMENT: You must feed a value for placeholder tensor 'Placeholder/_0' with dtype int32\n",
      "\t [[{{node Placeholder/_0}}]]\n",
      "2023-05-26 07:55:16.888087: I tensorflow/core/common_runtime/executor.cc:1197] [/device:CPU:0] (DEBUG INFO) Executor start aborting (this does not indicate an error and you can ignore this message): INVALID_ARGUMENT: You must feed a value for placeholder tensor 'Placeholder/_0' with dtype int32\n",
      "\t [[{{node Placeholder/_0}}]]\n",
      "2023-05-26 07:55:17.295711: I tensorflow/core/common_runtime/executor.cc:1197] [/device:CPU:0] (DEBUG INFO) Executor start aborting (this does not indicate an error and you can ignore this message): INVALID_ARGUMENT: You must feed a value for placeholder tensor 'Placeholder/_0' with dtype int32\n",
      "\t [[{{node Placeholder/_0}}]]\n",
      "2023-05-26 07:55:17.296071: I tensorflow/core/common_runtime/executor.cc:1197] [/device:CPU:0] (DEBUG INFO) Executor start aborting (this does not indicate an error and you can ignore this message): INVALID_ARGUMENT: You must feed a value for placeholder tensor 'Placeholder/_0' with dtype int32\n",
      "\t [[{{node Placeholder/_0}}]]\n"
     ]
    },
    {
     "name": "stdout",
     "output_type": "stream",
     "text": [
      "563/563 [==============================] - 287s 510ms/step - loss: 0.3505 - accuracy: 0.3641 - val_loss: 0.6571 - val_accuracy: 0.1570\n"
     ]
    },
    {
     "name": "stderr",
     "output_type": "stream",
     "text": [
      "2023-05-26 07:56:13.746456: I tensorflow/core/common_runtime/executor.cc:1197] [/device:CPU:0] (DEBUG INFO) Executor start aborting (this does not indicate an error and you can ignore this message): INVALID_ARGUMENT: You must feed a value for placeholder tensor 'Placeholder/_0' with dtype int32\n",
      "\t [[{{node Placeholder/_0}}]]\n",
      "2023-05-26 07:56:13.747127: I tensorflow/core/common_runtime/executor.cc:1197] [/device:CPU:0] (DEBUG INFO) Executor start aborting (this does not indicate an error and you can ignore this message): INVALID_ARGUMENT: You must feed a value for placeholder tensor 'Placeholder/_0' with dtype int32\n",
      "\t [[{{node Placeholder/_0}}]]\n"
     ]
    },
    {
     "name": "stdout",
     "output_type": "stream",
     "text": [
      "Epoch 19/100\n",
      "563/563 [==============================] - ETA: 0s - loss: 0.3490 - accuracy: 0.3625"
     ]
    },
    {
     "name": "stderr",
     "output_type": "stream",
     "text": [
      "2023-05-26 08:00:13.192653: I tensorflow/core/common_runtime/executor.cc:1197] [/device:CPU:0] (DEBUG INFO) Executor start aborting (this does not indicate an error and you can ignore this message): INVALID_ARGUMENT: You must feed a value for placeholder tensor 'Placeholder/_0' with dtype int32\n",
      "\t [[{{node Placeholder/_0}}]]\n",
      "2023-05-26 08:00:13.193414: I tensorflow/core/common_runtime/executor.cc:1197] [/device:CPU:0] (DEBUG INFO) Executor start aborting (this does not indicate an error and you can ignore this message): INVALID_ARGUMENT: You must feed a value for placeholder tensor 'Placeholder/_0' with dtype int32\n",
      "\t [[{{node Placeholder/_0}}]]\n",
      "2023-05-26 08:00:13.579728: I tensorflow/core/common_runtime/executor.cc:1197] [/device:CPU:0] (DEBUG INFO) Executor start aborting (this does not indicate an error and you can ignore this message): INVALID_ARGUMENT: You must feed a value for placeholder tensor 'Placeholder/_0' with dtype int32\n",
      "\t [[{{node Placeholder/_0}}]]\n",
      "2023-05-26 08:00:13.580013: I tensorflow/core/common_runtime/executor.cc:1197] [/device:CPU:0] (DEBUG INFO) Executor start aborting (this does not indicate an error and you can ignore this message): INVALID_ARGUMENT: You must feed a value for placeholder tensor 'Placeholder/_0' with dtype int32\n",
      "\t [[{{node Placeholder/_0}}]]\n"
     ]
    },
    {
     "name": "stdout",
     "output_type": "stream",
     "text": [
      "563/563 [==============================] - 297s 528ms/step - loss: 0.3490 - accuracy: 0.3625 - val_loss: 0.4937 - val_accuracy: 0.5444\n"
     ]
    },
    {
     "name": "stderr",
     "output_type": "stream",
     "text": [
      "2023-05-26 08:01:11.448841: I tensorflow/core/common_runtime/executor.cc:1197] [/device:CPU:0] (DEBUG INFO) Executor start aborting (this does not indicate an error and you can ignore this message): INVALID_ARGUMENT: You must feed a value for placeholder tensor 'Placeholder/_0' with dtype int32\n",
      "\t [[{{node Placeholder/_0}}]]\n",
      "2023-05-26 08:01:11.449470: I tensorflow/core/common_runtime/executor.cc:1197] [/device:CPU:0] (DEBUG INFO) Executor start aborting (this does not indicate an error and you can ignore this message): INVALID_ARGUMENT: You must feed a value for placeholder tensor 'Placeholder/_0' with dtype int32\n",
      "\t [[{{node Placeholder/_0}}]]\n"
     ]
    },
    {
     "name": "stdout",
     "output_type": "stream",
     "text": [
      "Epoch 20/100\n",
      "563/563 [==============================] - ETA: 0s - loss: 0.3481 - accuracy: 0.3632"
     ]
    },
    {
     "name": "stderr",
     "output_type": "stream",
     "text": [
      "2023-05-26 08:05:07.618329: I tensorflow/core/common_runtime/executor.cc:1197] [/device:CPU:0] (DEBUG INFO) Executor start aborting (this does not indicate an error and you can ignore this message): INVALID_ARGUMENT: You must feed a value for placeholder tensor 'Placeholder/_0' with dtype int32\n",
      "\t [[{{node Placeholder/_0}}]]\n",
      "2023-05-26 08:05:07.619151: I tensorflow/core/common_runtime/executor.cc:1197] [/device:CPU:0] (DEBUG INFO) Executor start aborting (this does not indicate an error and you can ignore this message): INVALID_ARGUMENT: You must feed a value for placeholder tensor 'Placeholder/_0' with dtype int32\n",
      "\t [[{{node Placeholder/_0}}]]\n",
      "2023-05-26 08:05:08.054983: I tensorflow/core/common_runtime/executor.cc:1197] [/device:CPU:0] (DEBUG INFO) Executor start aborting (this does not indicate an error and you can ignore this message): INVALID_ARGUMENT: You must feed a value for placeholder tensor 'Placeholder/_0' with dtype int32\n",
      "\t [[{{node Placeholder/_0}}]]\n",
      "2023-05-26 08:05:08.055305: I tensorflow/core/common_runtime/executor.cc:1197] [/device:CPU:0] (DEBUG INFO) Executor start aborting (this does not indicate an error and you can ignore this message): INVALID_ARGUMENT: You must feed a value for placeholder tensor 'Placeholder/_0' with dtype int32\n",
      "\t [[{{node Placeholder/_0}}]]\n"
     ]
    },
    {
     "name": "stdout",
     "output_type": "stream",
     "text": [
      "563/563 [==============================] - 295s 523ms/step - loss: 0.3481 - accuracy: 0.3632 - val_loss: 0.5660 - val_accuracy: 0.1729\n"
     ]
    },
    {
     "name": "stderr",
     "output_type": "stream",
     "text": [
      "2023-05-26 08:06:06.493080: I tensorflow/core/common_runtime/executor.cc:1197] [/device:CPU:0] (DEBUG INFO) Executor start aborting (this does not indicate an error and you can ignore this message): INVALID_ARGUMENT: You must feed a value for placeholder tensor 'Placeholder/_0' with dtype int32\n",
      "\t [[{{node Placeholder/_0}}]]\n",
      "2023-05-26 08:06:06.493519: I tensorflow/core/common_runtime/executor.cc:1197] [/device:CPU:0] (DEBUG INFO) Executor start aborting (this does not indicate an error and you can ignore this message): INVALID_ARGUMENT: You must feed a value for placeholder tensor 'Placeholder/_0' with dtype int32\n",
      "\t [[{{node Placeholder/_0}}]]\n"
     ]
    },
    {
     "name": "stdout",
     "output_type": "stream",
     "text": [
      "Epoch 21/100\n",
      "563/563 [==============================] - ETA: 0s - loss: 0.3481 - accuracy: 0.3636"
     ]
    },
    {
     "name": "stderr",
     "output_type": "stream",
     "text": [
      "2023-05-26 08:09:50.358324: I tensorflow/core/common_runtime/executor.cc:1197] [/device:CPU:0] (DEBUG INFO) Executor start aborting (this does not indicate an error and you can ignore this message): INVALID_ARGUMENT: You must feed a value for placeholder tensor 'Placeholder/_0' with dtype int32\n",
      "\t [[{{node Placeholder/_0}}]]\n",
      "2023-05-26 08:09:50.359227: I tensorflow/core/common_runtime/executor.cc:1197] [/device:CPU:0] (DEBUG INFO) Executor start aborting (this does not indicate an error and you can ignore this message): INVALID_ARGUMENT: You must feed a value for placeholder tensor 'Placeholder/_0' with dtype int32\n",
      "\t [[{{node Placeholder/_0}}]]\n",
      "2023-05-26 08:09:50.763848: I tensorflow/core/common_runtime/executor.cc:1197] [/device:CPU:0] (DEBUG INFO) Executor start aborting (this does not indicate an error and you can ignore this message): INVALID_ARGUMENT: You must feed a value for placeholder tensor 'Placeholder/_0' with dtype int32\n",
      "\t [[{{node Placeholder/_0}}]]\n",
      "2023-05-26 08:09:50.764181: I tensorflow/core/common_runtime/executor.cc:1197] [/device:CPU:0] (DEBUG INFO) Executor start aborting (this does not indicate an error and you can ignore this message): INVALID_ARGUMENT: You must feed a value for placeholder tensor 'Placeholder/_0' with dtype int32\n",
      "\t [[{{node Placeholder/_0}}]]\n"
     ]
    },
    {
     "name": "stdout",
     "output_type": "stream",
     "text": [
      "563/563 [==============================] - 277s 493ms/step - loss: 0.3481 - accuracy: 0.3636 - val_loss: 0.5794 - val_accuracy: 0.1162\n"
     ]
    },
    {
     "name": "stderr",
     "output_type": "stream",
     "text": [
      "2023-05-26 08:10:44.190142: I tensorflow/core/common_runtime/executor.cc:1197] [/device:CPU:0] (DEBUG INFO) Executor start aborting (this does not indicate an error and you can ignore this message): INVALID_ARGUMENT: You must feed a value for placeholder tensor 'Placeholder/_0' with dtype int32\n",
      "\t [[{{node Placeholder/_0}}]]\n",
      "2023-05-26 08:10:44.190777: I tensorflow/core/common_runtime/executor.cc:1197] [/device:CPU:0] (DEBUG INFO) Executor start aborting (this does not indicate an error and you can ignore this message): INVALID_ARGUMENT: You must feed a value for placeholder tensor 'Placeholder/_0' with dtype int32\n",
      "\t [[{{node Placeholder/_0}}]]\n"
     ]
    },
    {
     "name": "stdout",
     "output_type": "stream",
     "text": [
      "Epoch 22/100\n",
      "563/563 [==============================] - ETA: 0s - loss: 0.3468 - accuracy: 0.3623"
     ]
    },
    {
     "name": "stderr",
     "output_type": "stream",
     "text": [
      "2023-05-26 08:14:37.424154: I tensorflow/core/common_runtime/executor.cc:1197] [/device:CPU:0] (DEBUG INFO) Executor start aborting (this does not indicate an error and you can ignore this message): INVALID_ARGUMENT: You must feed a value for placeholder tensor 'Placeholder/_0' with dtype int32\n",
      "\t [[{{node Placeholder/_0}}]]\n",
      "2023-05-26 08:14:37.425151: I tensorflow/core/common_runtime/executor.cc:1197] [/device:CPU:0] (DEBUG INFO) Executor start aborting (this does not indicate an error and you can ignore this message): INVALID_ARGUMENT: You must feed a value for placeholder tensor 'Placeholder/_0' with dtype int32\n",
      "\t [[{{node Placeholder/_0}}]]\n",
      "2023-05-26 08:14:37.821814: I tensorflow/core/common_runtime/executor.cc:1197] [/device:CPU:0] (DEBUG INFO) Executor start aborting (this does not indicate an error and you can ignore this message): INVALID_ARGUMENT: You must feed a value for placeholder tensor 'Placeholder/_0' with dtype int32\n",
      "\t [[{{node Placeholder/_0}}]]\n",
      "2023-05-26 08:14:37.822192: I tensorflow/core/common_runtime/executor.cc:1197] [/device:CPU:0] (DEBUG INFO) Executor start aborting (this does not indicate an error and you can ignore this message): INVALID_ARGUMENT: You must feed a value for placeholder tensor 'Placeholder/_0' with dtype int32\n",
      "\t [[{{node Placeholder/_0}}]]\n"
     ]
    },
    {
     "name": "stdout",
     "output_type": "stream",
     "text": [
      "563/563 [==============================] - 293s 520ms/step - loss: 0.3468 - accuracy: 0.3623 - val_loss: 0.5904 - val_accuracy: 0.0966\n"
     ]
    },
    {
     "name": "stderr",
     "output_type": "stream",
     "text": [
      "2023-05-26 08:15:37.223833: I tensorflow/core/common_runtime/executor.cc:1197] [/device:CPU:0] (DEBUG INFO) Executor start aborting (this does not indicate an error and you can ignore this message): INVALID_ARGUMENT: You must feed a value for placeholder tensor 'Placeholder/_0' with dtype int32\n",
      "\t [[{{node Placeholder/_0}}]]\n",
      "2023-05-26 08:15:37.224217: I tensorflow/core/common_runtime/executor.cc:1197] [/device:CPU:0] (DEBUG INFO) Executor start aborting (this does not indicate an error and you can ignore this message): INVALID_ARGUMENT: You must feed a value for placeholder tensor 'Placeholder/_0' with dtype int32\n",
      "\t [[{{node Placeholder/_0}}]]\n"
     ]
    },
    {
     "name": "stdout",
     "output_type": "stream",
     "text": [
      "Epoch 23/100\n",
      "563/563 [==============================] - ETA: 0s - loss: 0.3471 - accuracy: 0.3638"
     ]
    },
    {
     "name": "stderr",
     "output_type": "stream",
     "text": [
      "2023-05-26 08:19:31.386666: I tensorflow/core/common_runtime/executor.cc:1197] [/device:CPU:0] (DEBUG INFO) Executor start aborting (this does not indicate an error and you can ignore this message): INVALID_ARGUMENT: You must feed a value for placeholder tensor 'Placeholder/_0' with dtype int32\n",
      "\t [[{{node Placeholder/_0}}]]\n",
      "2023-05-26 08:19:31.387470: I tensorflow/core/common_runtime/executor.cc:1197] [/device:CPU:0] (DEBUG INFO) Executor start aborting (this does not indicate an error and you can ignore this message): INVALID_ARGUMENT: You must feed a value for placeholder tensor 'Placeholder/_0' with dtype int32\n",
      "\t [[{{node Placeholder/_0}}]]\n",
      "2023-05-26 08:19:31.779114: I tensorflow/core/common_runtime/executor.cc:1197] [/device:CPU:0] (DEBUG INFO) Executor start aborting (this does not indicate an error and you can ignore this message): INVALID_ARGUMENT: You must feed a value for placeholder tensor 'Placeholder/_0' with dtype int32\n",
      "\t [[{{node Placeholder/_0}}]]\n",
      "2023-05-26 08:19:31.779415: I tensorflow/core/common_runtime/executor.cc:1197] [/device:CPU:0] (DEBUG INFO) Executor start aborting (this does not indicate an error and you can ignore this message): INVALID_ARGUMENT: You must feed a value for placeholder tensor 'Placeholder/_0' with dtype int32\n",
      "\t [[{{node Placeholder/_0}}]]\n"
     ]
    },
    {
     "name": "stdout",
     "output_type": "stream",
     "text": [
      "563/563 [==============================] - 293s 521ms/step - loss: 0.3471 - accuracy: 0.3638 - val_loss: 0.9430 - val_accuracy: 0.3551\n"
     ]
    },
    {
     "name": "stderr",
     "output_type": "stream",
     "text": [
      "2023-05-26 08:20:31.080080: I tensorflow/core/common_runtime/executor.cc:1197] [/device:CPU:0] (DEBUG INFO) Executor start aborting (this does not indicate an error and you can ignore this message): INVALID_ARGUMENT: You must feed a value for placeholder tensor 'Placeholder/_0' with dtype int32\n",
      "\t [[{{node Placeholder/_0}}]]\n",
      "2023-05-26 08:20:31.080788: I tensorflow/core/common_runtime/executor.cc:1197] [/device:CPU:0] (DEBUG INFO) Executor start aborting (this does not indicate an error and you can ignore this message): INVALID_ARGUMENT: You must feed a value for placeholder tensor 'Placeholder/_0' with dtype int32\n",
      "\t [[{{node Placeholder/_0}}]]\n"
     ]
    },
    {
     "name": "stdout",
     "output_type": "stream",
     "text": [
      "Epoch 24/100\n",
      "563/563 [==============================] - ETA: 0s - loss: 0.3447 - accuracy: 0.3631"
     ]
    },
    {
     "name": "stderr",
     "output_type": "stream",
     "text": [
      "2023-05-26 08:24:13.120672: I tensorflow/core/common_runtime/executor.cc:1197] [/device:CPU:0] (DEBUG INFO) Executor start aborting (this does not indicate an error and you can ignore this message): INVALID_ARGUMENT: You must feed a value for placeholder tensor 'Placeholder/_0' with dtype int32\n",
      "\t [[{{node Placeholder/_0}}]]\n",
      "2023-05-26 08:24:13.121475: I tensorflow/core/common_runtime/executor.cc:1197] [/device:CPU:0] (DEBUG INFO) Executor start aborting (this does not indicate an error and you can ignore this message): INVALID_ARGUMENT: You must feed a value for placeholder tensor 'Placeholder/_0' with dtype int32\n",
      "\t [[{{node Placeholder/_0}}]]\n",
      "2023-05-26 08:24:13.516572: I tensorflow/core/common_runtime/executor.cc:1197] [/device:CPU:0] (DEBUG INFO) Executor start aborting (this does not indicate an error and you can ignore this message): INVALID_ARGUMENT: You must feed a value for placeholder tensor 'Placeholder/_0' with dtype int32\n",
      "\t [[{{node Placeholder/_0}}]]\n",
      "2023-05-26 08:24:13.516883: I tensorflow/core/common_runtime/executor.cc:1197] [/device:CPU:0] (DEBUG INFO) Executor start aborting (this does not indicate an error and you can ignore this message): INVALID_ARGUMENT: You must feed a value for placeholder tensor 'Placeholder/_0' with dtype int32\n",
      "\t [[{{node Placeholder/_0}}]]\n"
     ]
    },
    {
     "name": "stdout",
     "output_type": "stream",
     "text": [
      "563/563 [==============================] - 276s 490ms/step - loss: 0.3447 - accuracy: 0.3631 - val_loss: 0.9384 - val_accuracy: 0.1679\n"
     ]
    },
    {
     "name": "stderr",
     "output_type": "stream",
     "text": [
      "2023-05-26 08:25:07.769331: I tensorflow/core/common_runtime/executor.cc:1197] [/device:CPU:0] (DEBUG INFO) Executor start aborting (this does not indicate an error and you can ignore this message): INVALID_ARGUMENT: You must feed a value for placeholder tensor 'Placeholder/_0' with dtype int32\n",
      "\t [[{{node Placeholder/_0}}]]\n",
      "2023-05-26 08:25:07.769773: I tensorflow/core/common_runtime/executor.cc:1197] [/device:CPU:0] (DEBUG INFO) Executor start aborting (this does not indicate an error and you can ignore this message): INVALID_ARGUMENT: You must feed a value for placeholder tensor 'Placeholder/_0' with dtype int32\n",
      "\t [[{{node Placeholder/_0}}]]\n"
     ]
    },
    {
     "name": "stdout",
     "output_type": "stream",
     "text": [
      "Epoch 25/100\n",
      "563/563 [==============================] - ETA: 0s - loss: 0.3448 - accuracy: 0.3655"
     ]
    },
    {
     "name": "stderr",
     "output_type": "stream",
     "text": [
      "2023-05-26 08:29:04.437382: I tensorflow/core/common_runtime/executor.cc:1197] [/device:CPU:0] (DEBUG INFO) Executor start aborting (this does not indicate an error and you can ignore this message): INVALID_ARGUMENT: You must feed a value for placeholder tensor 'Placeholder/_0' with dtype int32\n",
      "\t [[{{node Placeholder/_0}}]]\n",
      "2023-05-26 08:29:04.438175: I tensorflow/core/common_runtime/executor.cc:1197] [/device:CPU:0] (DEBUG INFO) Executor start aborting (this does not indicate an error and you can ignore this message): INVALID_ARGUMENT: You must feed a value for placeholder tensor 'Placeholder/_0' with dtype int32\n",
      "\t [[{{node Placeholder/_0}}]]\n",
      "2023-05-26 08:29:04.826652: I tensorflow/core/common_runtime/executor.cc:1197] [/device:CPU:0] (DEBUG INFO) Executor start aborting (this does not indicate an error and you can ignore this message): INVALID_ARGUMENT: You must feed a value for placeholder tensor 'Placeholder/_0' with dtype int32\n",
      "\t [[{{node Placeholder/_0}}]]\n",
      "2023-05-26 08:29:04.826963: I tensorflow/core/common_runtime/executor.cc:1197] [/device:CPU:0] (DEBUG INFO) Executor start aborting (this does not indicate an error and you can ignore this message): INVALID_ARGUMENT: You must feed a value for placeholder tensor 'Placeholder/_0' with dtype int32\n",
      "\t [[{{node Placeholder/_0}}]]\n"
     ]
    },
    {
     "name": "stdout",
     "output_type": "stream",
     "text": [
      "563/563 [==============================] - 293s 520ms/step - loss: 0.3448 - accuracy: 0.3655 - val_loss: 0.5488 - val_accuracy: 0.1653\n"
     ]
    },
    {
     "name": "stderr",
     "output_type": "stream",
     "text": [
      "2023-05-26 08:30:00.947866: I tensorflow/core/common_runtime/executor.cc:1197] [/device:CPU:0] (DEBUG INFO) Executor start aborting (this does not indicate an error and you can ignore this message): INVALID_ARGUMENT: You must feed a value for placeholder tensor 'Placeholder/_0' with dtype int32\n",
      "\t [[{{node Placeholder/_0}}]]\n",
      "2023-05-26 08:30:00.948326: I tensorflow/core/common_runtime/executor.cc:1197] [/device:CPU:0] (DEBUG INFO) Executor start aborting (this does not indicate an error and you can ignore this message): INVALID_ARGUMENT: You must feed a value for placeholder tensor 'Placeholder/_0' with dtype int32\n",
      "\t [[{{node Placeholder/_0}}]]\n"
     ]
    },
    {
     "name": "stdout",
     "output_type": "stream",
     "text": [
      "Epoch 26/100\n",
      "563/563 [==============================] - ETA: 0s - loss: 0.3430 - accuracy: 0.3634"
     ]
    },
    {
     "name": "stderr",
     "output_type": "stream",
     "text": [
      "2023-05-26 08:33:41.149419: I tensorflow/core/common_runtime/executor.cc:1197] [/device:CPU:0] (DEBUG INFO) Executor start aborting (this does not indicate an error and you can ignore this message): INVALID_ARGUMENT: You must feed a value for placeholder tensor 'Placeholder/_0' with dtype int32\n",
      "\t [[{{node Placeholder/_0}}]]\n",
      "2023-05-26 08:33:41.150146: I tensorflow/core/common_runtime/executor.cc:1197] [/device:CPU:0] (DEBUG INFO) Executor start aborting (this does not indicate an error and you can ignore this message): INVALID_ARGUMENT: You must feed a value for placeholder tensor 'Placeholder/_0' with dtype int32\n",
      "\t [[{{node Placeholder/_0}}]]\n",
      "2023-05-26 08:33:41.520138: I tensorflow/core/common_runtime/executor.cc:1197] [/device:CPU:0] (DEBUG INFO) Executor start aborting (this does not indicate an error and you can ignore this message): INVALID_ARGUMENT: You must feed a value for placeholder tensor 'Placeholder/_0' with dtype int32\n",
      "\t [[{{node Placeholder/_0}}]]\n",
      "2023-05-26 08:33:41.520361: I tensorflow/core/common_runtime/executor.cc:1197] [/device:CPU:0] (DEBUG INFO) Executor start aborting (this does not indicate an error and you can ignore this message): INVALID_ARGUMENT: You must feed a value for placeholder tensor 'Placeholder/_0' with dtype int32\n",
      "\t [[{{node Placeholder/_0}}]]\n"
     ]
    },
    {
     "name": "stdout",
     "output_type": "stream",
     "text": [
      "563/563 [==============================] - 279s 495ms/step - loss: 0.3430 - accuracy: 0.3634 - val_loss: 0.4541 - val_accuracy: 0.4310\n"
     ]
    },
    {
     "name": "stderr",
     "output_type": "stream",
     "text": [
      "2023-05-26 08:34:40.019962: I tensorflow/core/common_runtime/executor.cc:1197] [/device:CPU:0] (DEBUG INFO) Executor start aborting (this does not indicate an error and you can ignore this message): INVALID_ARGUMENT: You must feed a value for placeholder tensor 'Placeholder/_0' with dtype int32\n",
      "\t [[{{node Placeholder/_0}}]]\n",
      "2023-05-26 08:34:40.020377: I tensorflow/core/common_runtime/executor.cc:1197] [/device:CPU:0] (DEBUG INFO) Executor start aborting (this does not indicate an error and you can ignore this message): INVALID_ARGUMENT: You must feed a value for placeholder tensor 'Placeholder/_0' with dtype int32\n",
      "\t [[{{node Placeholder/_0}}]]\n"
     ]
    },
    {
     "name": "stdout",
     "output_type": "stream",
     "text": [
      "Epoch 27/100\n",
      "563/563 [==============================] - ETA: 0s - loss: 0.3431 - accuracy: 0.3645"
     ]
    },
    {
     "name": "stderr",
     "output_type": "stream",
     "text": [
      "2023-05-26 08:38:26.799584: I tensorflow/core/common_runtime/executor.cc:1197] [/device:CPU:0] (DEBUG INFO) Executor start aborting (this does not indicate an error and you can ignore this message): INVALID_ARGUMENT: You must feed a value for placeholder tensor 'Placeholder/_0' with dtype int32\n",
      "\t [[{{node Placeholder/_0}}]]\n",
      "2023-05-26 08:38:26.800404: I tensorflow/core/common_runtime/executor.cc:1197] [/device:CPU:0] (DEBUG INFO) Executor start aborting (this does not indicate an error and you can ignore this message): INVALID_ARGUMENT: You must feed a value for placeholder tensor 'Placeholder/_0' with dtype int32\n",
      "\t [[{{node Placeholder/_0}}]]\n",
      "2023-05-26 08:38:27.185794: I tensorflow/core/common_runtime/executor.cc:1197] [/device:CPU:0] (DEBUG INFO) Executor start aborting (this does not indicate an error and you can ignore this message): INVALID_ARGUMENT: You must feed a value for placeholder tensor 'Placeholder/_0' with dtype int32\n",
      "\t [[{{node Placeholder/_0}}]]\n",
      "2023-05-26 08:38:27.186106: I tensorflow/core/common_runtime/executor.cc:1197] [/device:CPU:0] (DEBUG INFO) Executor start aborting (this does not indicate an error and you can ignore this message): INVALID_ARGUMENT: You must feed a value for placeholder tensor 'Placeholder/_0' with dtype int32\n",
      "\t [[{{node Placeholder/_0}}]]\n"
     ]
    },
    {
     "name": "stdout",
     "output_type": "stream",
     "text": [
      "563/563 [==============================] - 287s 510ms/step - loss: 0.3431 - accuracy: 0.3645 - val_loss: 0.5214 - val_accuracy: 0.2069\n"
     ]
    },
    {
     "name": "stderr",
     "output_type": "stream",
     "text": [
      "2023-05-26 08:39:27.428908: I tensorflow/core/common_runtime/executor.cc:1197] [/device:CPU:0] (DEBUG INFO) Executor start aborting (this does not indicate an error and you can ignore this message): INVALID_ARGUMENT: You must feed a value for placeholder tensor 'Placeholder/_0' with dtype int32\n",
      "\t [[{{node Placeholder/_0}}]]\n",
      "2023-05-26 08:39:27.429235: I tensorflow/core/common_runtime/executor.cc:1197] [/device:CPU:0] (DEBUG INFO) Executor start aborting (this does not indicate an error and you can ignore this message): INVALID_ARGUMENT: You must feed a value for placeholder tensor 'Placeholder/_0' with dtype int32\n",
      "\t [[{{node Placeholder/_0}}]]\n"
     ]
    },
    {
     "name": "stdout",
     "output_type": "stream",
     "text": [
      "Epoch 28/100\n",
      "563/563 [==============================] - ETA: 0s - loss: 0.3417 - accuracy: 0.3640"
     ]
    },
    {
     "name": "stderr",
     "output_type": "stream",
     "text": [
      "2023-05-26 08:43:08.506354: I tensorflow/core/common_runtime/executor.cc:1197] [/device:CPU:0] (DEBUG INFO) Executor start aborting (this does not indicate an error and you can ignore this message): INVALID_ARGUMENT: You must feed a value for placeholder tensor 'Placeholder/_0' with dtype int32\n",
      "\t [[{{node Placeholder/_0}}]]\n",
      "2023-05-26 08:43:08.507164: I tensorflow/core/common_runtime/executor.cc:1197] [/device:CPU:0] (DEBUG INFO) Executor start aborting (this does not indicate an error and you can ignore this message): INVALID_ARGUMENT: You must feed a value for placeholder tensor 'Placeholder/_0' with dtype int32\n",
      "\t [[{{node Placeholder/_0}}]]\n",
      "2023-05-26 08:43:08.894665: I tensorflow/core/common_runtime/executor.cc:1197] [/device:CPU:0] (DEBUG INFO) Executor start aborting (this does not indicate an error and you can ignore this message): INVALID_ARGUMENT: You must feed a value for placeholder tensor 'Placeholder/_0' with dtype int32\n",
      "\t [[{{node Placeholder/_0}}]]\n",
      "2023-05-26 08:43:08.894959: I tensorflow/core/common_runtime/executor.cc:1197] [/device:CPU:0] (DEBUG INFO) Executor start aborting (this does not indicate an error and you can ignore this message): INVALID_ARGUMENT: You must feed a value for placeholder tensor 'Placeholder/_0' with dtype int32\n",
      "\t [[{{node Placeholder/_0}}]]\n"
     ]
    },
    {
     "name": "stdout",
     "output_type": "stream",
     "text": [
      "563/563 [==============================] - 275s 489ms/step - loss: 0.3417 - accuracy: 0.3640 - val_loss: 0.3684 - val_accuracy: 0.2798\n"
     ]
    },
    {
     "name": "stderr",
     "output_type": "stream",
     "text": [
      "2023-05-26 08:44:03.007970: I tensorflow/core/common_runtime/executor.cc:1197] [/device:CPU:0] (DEBUG INFO) Executor start aborting (this does not indicate an error and you can ignore this message): INVALID_ARGUMENT: You must feed a value for placeholder tensor 'Placeholder/_0' with dtype int32\n",
      "\t [[{{node Placeholder/_0}}]]\n",
      "2023-05-26 08:44:03.008674: I tensorflow/core/common_runtime/executor.cc:1197] [/device:CPU:0] (DEBUG INFO) Executor start aborting (this does not indicate an error and you can ignore this message): INVALID_ARGUMENT: You must feed a value for placeholder tensor 'Placeholder/_0' with dtype int32\n",
      "\t [[{{node Placeholder/_0}}]]\n"
     ]
    },
    {
     "name": "stdout",
     "output_type": "stream",
     "text": [
      "Epoch 29/100\n",
      "563/563 [==============================] - ETA: 0s - loss: 0.3423 - accuracy: 0.3649"
     ]
    },
    {
     "name": "stderr",
     "output_type": "stream",
     "text": [
      "2023-05-26 08:47:58.552507: I tensorflow/core/common_runtime/executor.cc:1197] [/device:CPU:0] (DEBUG INFO) Executor start aborting (this does not indicate an error and you can ignore this message): INVALID_ARGUMENT: You must feed a value for placeholder tensor 'Placeholder/_0' with dtype int32\n",
      "\t [[{{node Placeholder/_0}}]]\n",
      "2023-05-26 08:47:58.553234: I tensorflow/core/common_runtime/executor.cc:1197] [/device:CPU:0] (DEBUG INFO) Executor start aborting (this does not indicate an error and you can ignore this message): INVALID_ARGUMENT: You must feed a value for placeholder tensor 'Placeholder/_0' with dtype int32\n",
      "\t [[{{node Placeholder/_0}}]]\n",
      "2023-05-26 08:47:58.937615: I tensorflow/core/common_runtime/executor.cc:1197] [/device:CPU:0] (DEBUG INFO) Executor start aborting (this does not indicate an error and you can ignore this message): INVALID_ARGUMENT: You must feed a value for placeholder tensor 'Placeholder/_0' with dtype int32\n",
      "\t [[{{node Placeholder/_0}}]]\n",
      "2023-05-26 08:47:58.937931: I tensorflow/core/common_runtime/executor.cc:1197] [/device:CPU:0] (DEBUG INFO) Executor start aborting (this does not indicate an error and you can ignore this message): INVALID_ARGUMENT: You must feed a value for placeholder tensor 'Placeholder/_0' with dtype int32\n",
      "\t [[{{node Placeholder/_0}}]]\n"
     ]
    },
    {
     "name": "stdout",
     "output_type": "stream",
     "text": [
      "563/563 [==============================] - 293s 521ms/step - loss: 0.3423 - accuracy: 0.3649 - val_loss: 0.6307 - val_accuracy: 0.2771\n"
     ]
    },
    {
     "name": "stderr",
     "output_type": "stream",
     "text": [
      "2023-05-26 08:48:56.661853: I tensorflow/core/common_runtime/executor.cc:1197] [/device:CPU:0] (DEBUG INFO) Executor start aborting (this does not indicate an error and you can ignore this message): INVALID_ARGUMENT: You must feed a value for placeholder tensor 'Placeholder/_0' with dtype int32\n",
      "\t [[{{node Placeholder/_0}}]]\n",
      "2023-05-26 08:48:56.662294: I tensorflow/core/common_runtime/executor.cc:1197] [/device:CPU:0] (DEBUG INFO) Executor start aborting (this does not indicate an error and you can ignore this message): INVALID_ARGUMENT: You must feed a value for placeholder tensor 'Placeholder/_0' with dtype int32\n",
      "\t [[{{node Placeholder/_0}}]]\n"
     ]
    },
    {
     "name": "stdout",
     "output_type": "stream",
     "text": [
      "Epoch 30/100\n",
      "563/563 [==============================] - ETA: 0s - loss: 0.3407 - accuracy: 0.3631"
     ]
    },
    {
     "name": "stderr",
     "output_type": "stream",
     "text": [
      "2023-05-26 08:52:59.353658: I tensorflow/core/common_runtime/executor.cc:1197] [/device:CPU:0] (DEBUG INFO) Executor start aborting (this does not indicate an error and you can ignore this message): INVALID_ARGUMENT: You must feed a value for placeholder tensor 'Placeholder/_0' with dtype int32\n",
      "\t [[{{node Placeholder/_0}}]]\n",
      "2023-05-26 08:52:59.354439: I tensorflow/core/common_runtime/executor.cc:1197] [/device:CPU:0] (DEBUG INFO) Executor start aborting (this does not indicate an error and you can ignore this message): INVALID_ARGUMENT: You must feed a value for placeholder tensor 'Placeholder/_0' with dtype int32\n",
      "\t [[{{node Placeholder/_0}}]]\n",
      "2023-05-26 08:52:59.752576: I tensorflow/core/common_runtime/executor.cc:1197] [/device:CPU:0] (DEBUG INFO) Executor start aborting (this does not indicate an error and you can ignore this message): INVALID_ARGUMENT: You must feed a value for placeholder tensor 'Placeholder/_0' with dtype int32\n",
      "\t [[{{node Placeholder/_0}}]]\n",
      "2023-05-26 08:52:59.752886: I tensorflow/core/common_runtime/executor.cc:1197] [/device:CPU:0] (DEBUG INFO) Executor start aborting (this does not indicate an error and you can ignore this message): INVALID_ARGUMENT: You must feed a value for placeholder tensor 'Placeholder/_0' with dtype int32\n",
      "\t [[{{node Placeholder/_0}}]]\n"
     ]
    },
    {
     "name": "stdout",
     "output_type": "stream",
     "text": [
      "563/563 [==============================] - 295s 523ms/step - loss: 0.3407 - accuracy: 0.3631 - val_loss: 1.1114 - val_accuracy: 0.0676\n"
     ]
    },
    {
     "name": "stderr",
     "output_type": "stream",
     "text": [
      "2023-05-26 08:53:51.624116: I tensorflow/core/common_runtime/executor.cc:1197] [/device:CPU:0] (DEBUG INFO) Executor start aborting (this does not indicate an error and you can ignore this message): INVALID_ARGUMENT: You must feed a value for placeholder tensor 'Placeholder/_0' with dtype int32\n",
      "\t [[{{node Placeholder/_0}}]]\n",
      "2023-05-26 08:53:51.624883: I tensorflow/core/common_runtime/executor.cc:1197] [/device:CPU:0] (DEBUG INFO) Executor start aborting (this does not indicate an error and you can ignore this message): INVALID_ARGUMENT: You must feed a value for placeholder tensor 'Placeholder/_0' with dtype int32\n",
      "\t [[{{node Placeholder/_0}}]]\n"
     ]
    },
    {
     "name": "stdout",
     "output_type": "stream",
     "text": [
      "Epoch 31/100\n",
      "563/563 [==============================] - ETA: 0s - loss: 0.3404 - accuracy: 0.3650"
     ]
    },
    {
     "name": "stderr",
     "output_type": "stream",
     "text": [
      "2023-05-26 08:57:53.495444: I tensorflow/core/common_runtime/executor.cc:1197] [/device:CPU:0] (DEBUG INFO) Executor start aborting (this does not indicate an error and you can ignore this message): INVALID_ARGUMENT: You must feed a value for placeholder tensor 'Placeholder/_0' with dtype int32\n",
      "\t [[{{node Placeholder/_0}}]]\n",
      "2023-05-26 08:57:53.496217: I tensorflow/core/common_runtime/executor.cc:1197] [/device:CPU:0] (DEBUG INFO) Executor start aborting (this does not indicate an error and you can ignore this message): INVALID_ARGUMENT: You must feed a value for placeholder tensor 'Placeholder/_0' with dtype int32\n",
      "\t [[{{node Placeholder/_0}}]]\n",
      "2023-05-26 08:57:53.869907: I tensorflow/core/common_runtime/executor.cc:1197] [/device:CPU:0] (DEBUG INFO) Executor start aborting (this does not indicate an error and you can ignore this message): INVALID_ARGUMENT: You must feed a value for placeholder tensor 'Placeholder/_0' with dtype int32\n",
      "\t [[{{node Placeholder/_0}}]]\n",
      "2023-05-26 08:57:53.870124: I tensorflow/core/common_runtime/executor.cc:1197] [/device:CPU:0] (DEBUG INFO) Executor start aborting (this does not indicate an error and you can ignore this message): INVALID_ARGUMENT: You must feed a value for placeholder tensor 'Placeholder/_0' with dtype int32\n",
      "\t [[{{node Placeholder/_0}}]]\n"
     ]
    },
    {
     "name": "stdout",
     "output_type": "stream",
     "text": [
      "563/563 [==============================] - 295s 524ms/step - loss: 0.3404 - accuracy: 0.3650 - val_loss: 0.5143 - val_accuracy: 0.3528\n"
     ]
    },
    {
     "name": "stderr",
     "output_type": "stream",
     "text": [
      "2023-05-26 08:58:47.107153: I tensorflow/core/common_runtime/executor.cc:1197] [/device:CPU:0] (DEBUG INFO) Executor start aborting (this does not indicate an error and you can ignore this message): INVALID_ARGUMENT: You must feed a value for placeholder tensor 'Placeholder/_0' with dtype int32\n",
      "\t [[{{node Placeholder/_0}}]]\n",
      "2023-05-26 08:58:47.107477: I tensorflow/core/common_runtime/executor.cc:1197] [/device:CPU:0] (DEBUG INFO) Executor start aborting (this does not indicate an error and you can ignore this message): INVALID_ARGUMENT: You must feed a value for placeholder tensor 'Placeholder/_0' with dtype int32\n",
      "\t [[{{node Placeholder/_0}}]]\n"
     ]
    },
    {
     "name": "stdout",
     "output_type": "stream",
     "text": [
      "Epoch 32/100\n",
      "563/563 [==============================] - ETA: 0s - loss: 0.3388 - accuracy: 0.3625"
     ]
    },
    {
     "name": "stderr",
     "output_type": "stream",
     "text": [
      "2023-05-26 09:02:30.972915: I tensorflow/core/common_runtime/executor.cc:1197] [/device:CPU:0] (DEBUG INFO) Executor start aborting (this does not indicate an error and you can ignore this message): INVALID_ARGUMENT: You must feed a value for placeholder tensor 'Placeholder/_0' with dtype int32\n",
      "\t [[{{node Placeholder/_0}}]]\n",
      "2023-05-26 09:02:30.973838: I tensorflow/core/common_runtime/executor.cc:1197] [/device:CPU:0] (DEBUG INFO) Executor start aborting (this does not indicate an error and you can ignore this message): INVALID_ARGUMENT: You must feed a value for placeholder tensor 'Placeholder/_0' with dtype int32\n",
      "\t [[{{node Placeholder/_0}}]]\n",
      "2023-05-26 09:02:31.370520: I tensorflow/core/common_runtime/executor.cc:1197] [/device:CPU:0] (DEBUG INFO) Executor start aborting (this does not indicate an error and you can ignore this message): INVALID_ARGUMENT: You must feed a value for placeholder tensor 'Placeholder/_0' with dtype int32\n",
      "\t [[{{node Placeholder/_0}}]]\n",
      "2023-05-26 09:02:31.370845: I tensorflow/core/common_runtime/executor.cc:1197] [/device:CPU:0] (DEBUG INFO) Executor start aborting (this does not indicate an error and you can ignore this message): INVALID_ARGUMENT: You must feed a value for placeholder tensor 'Placeholder/_0' with dtype int32\n",
      "\t [[{{node Placeholder/_0}}]]\n"
     ]
    },
    {
     "name": "stdout",
     "output_type": "stream",
     "text": [
      "563/563 [==============================] - 280s 497ms/step - loss: 0.3388 - accuracy: 0.3625 - val_loss: 0.6666 - val_accuracy: 0.2777\n"
     ]
    },
    {
     "name": "stderr",
     "output_type": "stream",
     "text": [
      "2023-05-26 09:03:27.305161: I tensorflow/core/common_runtime/executor.cc:1197] [/device:CPU:0] (DEBUG INFO) Executor start aborting (this does not indicate an error and you can ignore this message): INVALID_ARGUMENT: You must feed a value for placeholder tensor 'Placeholder/_0' with dtype int32\n",
      "\t [[{{node Placeholder/_0}}]]\n",
      "2023-05-26 09:03:27.306070: I tensorflow/core/common_runtime/executor.cc:1197] [/device:CPU:0] (DEBUG INFO) Executor start aborting (this does not indicate an error and you can ignore this message): INVALID_ARGUMENT: You must feed a value for placeholder tensor 'Placeholder/_0' with dtype int32\n",
      "\t [[{{node Placeholder/_0}}]]\n"
     ]
    },
    {
     "name": "stdout",
     "output_type": "stream",
     "text": [
      "Epoch 33/100\n",
      "563/563 [==============================] - ETA: 0s - loss: 0.3388 - accuracy: 0.3651"
     ]
    },
    {
     "name": "stderr",
     "output_type": "stream",
     "text": [
      "2023-05-26 09:07:07.318563: I tensorflow/core/common_runtime/executor.cc:1197] [/device:CPU:0] (DEBUG INFO) Executor start aborting (this does not indicate an error and you can ignore this message): INVALID_ARGUMENT: You must feed a value for placeholder tensor 'Placeholder/_0' with dtype int32\n",
      "\t [[{{node Placeholder/_0}}]]\n",
      "2023-05-26 09:07:07.319394: I tensorflow/core/common_runtime/executor.cc:1197] [/device:CPU:0] (DEBUG INFO) Executor start aborting (this does not indicate an error and you can ignore this message): INVALID_ARGUMENT: You must feed a value for placeholder tensor 'Placeholder/_0' with dtype int32\n",
      "\t [[{{node Placeholder/_0}}]]\n",
      "2023-05-26 09:07:07.710192: I tensorflow/core/common_runtime/executor.cc:1197] [/device:CPU:0] (DEBUG INFO) Executor start aborting (this does not indicate an error and you can ignore this message): INVALID_ARGUMENT: You must feed a value for placeholder tensor 'Placeholder/_0' with dtype int32\n",
      "\t [[{{node Placeholder/_0}}]]\n",
      "2023-05-26 09:07:07.710506: I tensorflow/core/common_runtime/executor.cc:1197] [/device:CPU:0] (DEBUG INFO) Executor start aborting (this does not indicate an error and you can ignore this message): INVALID_ARGUMENT: You must feed a value for placeholder tensor 'Placeholder/_0' with dtype int32\n",
      "\t [[{{node Placeholder/_0}}]]\n"
     ]
    },
    {
     "name": "stdout",
     "output_type": "stream",
     "text": [
      "563/563 [==============================] - 277s 493ms/step - loss: 0.3388 - accuracy: 0.3651 - val_loss: 0.3768 - val_accuracy: 0.2828\n"
     ]
    },
    {
     "name": "stderr",
     "output_type": "stream",
     "text": [
      "2023-05-26 09:08:05.103101: I tensorflow/core/common_runtime/executor.cc:1197] [/device:CPU:0] (DEBUG INFO) Executor start aborting (this does not indicate an error and you can ignore this message): INVALID_ARGUMENT: You must feed a value for placeholder tensor 'Placeholder/_0' with dtype int32\n",
      "\t [[{{node Placeholder/_0}}]]\n",
      "2023-05-26 09:08:05.103589: I tensorflow/core/common_runtime/executor.cc:1197] [/device:CPU:0] (DEBUG INFO) Executor start aborting (this does not indicate an error and you can ignore this message): INVALID_ARGUMENT: You must feed a value for placeholder tensor 'Placeholder/_0' with dtype int32\n",
      "\t [[{{node Placeholder/_0}}]]\n"
     ]
    },
    {
     "name": "stdout",
     "output_type": "stream",
     "text": [
      "Epoch 34/100\n",
      "563/563 [==============================] - ETA: 0s - loss: 0.3388 - accuracy: 0.3625"
     ]
    },
    {
     "name": "stderr",
     "output_type": "stream",
     "text": [
      "2023-05-26 09:11:43.955300: I tensorflow/core/common_runtime/executor.cc:1197] [/device:CPU:0] (DEBUG INFO) Executor start aborting (this does not indicate an error and you can ignore this message): INVALID_ARGUMENT: You must feed a value for placeholder tensor 'Placeholder/_0' with dtype int32\n",
      "\t [[{{node Placeholder/_0}}]]\n",
      "2023-05-26 09:11:43.956302: I tensorflow/core/common_runtime/executor.cc:1197] [/device:CPU:0] (DEBUG INFO) Executor start aborting (this does not indicate an error and you can ignore this message): INVALID_ARGUMENT: You must feed a value for placeholder tensor 'Placeholder/_0' with dtype int32\n",
      "\t [[{{node Placeholder/_0}}]]\n",
      "2023-05-26 09:11:44.306640: I tensorflow/core/common_runtime/executor.cc:1197] [/device:CPU:0] (DEBUG INFO) Executor start aborting (this does not indicate an error and you can ignore this message): INVALID_ARGUMENT: You must feed a value for placeholder tensor 'Placeholder/_0' with dtype int32\n",
      "\t [[{{node Placeholder/_0}}]]\n",
      "2023-05-26 09:11:44.306886: I tensorflow/core/common_runtime/executor.cc:1197] [/device:CPU:0] (DEBUG INFO) Executor start aborting (this does not indicate an error and you can ignore this message): INVALID_ARGUMENT: You must feed a value for placeholder tensor 'Placeholder/_0' with dtype int32\n",
      "\t [[{{node Placeholder/_0}}]]\n"
     ]
    },
    {
     "name": "stdout",
     "output_type": "stream",
     "text": [
      "563/563 [==============================] - 276s 491ms/step - loss: 0.3388 - accuracy: 0.3625 - val_loss: 0.4005 - val_accuracy: 0.3646\n"
     ]
    },
    {
     "name": "stderr",
     "output_type": "stream",
     "text": [
      "2023-05-26 09:12:42.028544: I tensorflow/core/common_runtime/executor.cc:1197] [/device:CPU:0] (DEBUG INFO) Executor start aborting (this does not indicate an error and you can ignore this message): INVALID_ARGUMENT: You must feed a value for placeholder tensor 'Placeholder/_0' with dtype int32\n",
      "\t [[{{node Placeholder/_0}}]]\n",
      "2023-05-26 09:12:42.029108: I tensorflow/core/common_runtime/executor.cc:1197] [/device:CPU:0] (DEBUG INFO) Executor start aborting (this does not indicate an error and you can ignore this message): INVALID_ARGUMENT: You must feed a value for placeholder tensor 'Placeholder/_0' with dtype int32\n",
      "\t [[{{node Placeholder/_0}}]]\n"
     ]
    },
    {
     "name": "stdout",
     "output_type": "stream",
     "text": [
      "Epoch 35/100\n",
      "563/563 [==============================] - ETA: 0s - loss: 0.3369 - accuracy: 0.3634"
     ]
    },
    {
     "name": "stderr",
     "output_type": "stream",
     "text": [
      "2023-05-26 09:16:19.731537: I tensorflow/core/common_runtime/executor.cc:1197] [/device:CPU:0] (DEBUG INFO) Executor start aborting (this does not indicate an error and you can ignore this message): INVALID_ARGUMENT: You must feed a value for placeholder tensor 'Placeholder/_0' with dtype int32\n",
      "\t [[{{node Placeholder/_0}}]]\n",
      "2023-05-26 09:16:19.732406: I tensorflow/core/common_runtime/executor.cc:1197] [/device:CPU:0] (DEBUG INFO) Executor start aborting (this does not indicate an error and you can ignore this message): INVALID_ARGUMENT: You must feed a value for placeholder tensor 'Placeholder/_0' with dtype int32\n",
      "\t [[{{node Placeholder/_0}}]]\n",
      "2023-05-26 09:16:20.133597: I tensorflow/core/common_runtime/executor.cc:1197] [/device:CPU:0] (DEBUG INFO) Executor start aborting (this does not indicate an error and you can ignore this message): INVALID_ARGUMENT: You must feed a value for placeholder tensor 'Placeholder/_0' with dtype int32\n",
      "\t [[{{node Placeholder/_0}}]]\n",
      "2023-05-26 09:16:20.133912: I tensorflow/core/common_runtime/executor.cc:1197] [/device:CPU:0] (DEBUG INFO) Executor start aborting (this does not indicate an error and you can ignore this message): INVALID_ARGUMENT: You must feed a value for placeholder tensor 'Placeholder/_0' with dtype int32\n",
      "\t [[{{node Placeholder/_0}}]]\n"
     ]
    },
    {
     "name": "stdout",
     "output_type": "stream",
     "text": [
      "563/563 [==============================] - 273s 484ms/step - loss: 0.3369 - accuracy: 0.3634 - val_loss: 0.5373 - val_accuracy: 0.2758\n"
     ]
    },
    {
     "name": "stderr",
     "output_type": "stream",
     "text": [
      "2023-05-26 09:17:15.110696: I tensorflow/core/common_runtime/executor.cc:1197] [/device:CPU:0] (DEBUG INFO) Executor start aborting (this does not indicate an error and you can ignore this message): INVALID_ARGUMENT: You must feed a value for placeholder tensor 'Placeholder/_0' with dtype int32\n",
      "\t [[{{node Placeholder/_0}}]]\n",
      "2023-05-26 09:17:15.111032: I tensorflow/core/common_runtime/executor.cc:1197] [/device:CPU:0] (DEBUG INFO) Executor start aborting (this does not indicate an error and you can ignore this message): INVALID_ARGUMENT: You must feed a value for placeholder tensor 'Placeholder/_0' with dtype int32\n",
      "\t [[{{node Placeholder/_0}}]]\n"
     ]
    },
    {
     "name": "stdout",
     "output_type": "stream",
     "text": [
      "Epoch 36/100\n",
      "563/563 [==============================] - ETA: 0s - loss: 0.3377 - accuracy: 0.3633"
     ]
    },
    {
     "name": "stderr",
     "output_type": "stream",
     "text": [
      "2023-05-26 09:21:20.115522: I tensorflow/core/common_runtime/executor.cc:1197] [/device:CPU:0] (DEBUG INFO) Executor start aborting (this does not indicate an error and you can ignore this message): INVALID_ARGUMENT: You must feed a value for placeholder tensor 'Placeholder/_0' with dtype int32\n",
      "\t [[{{node Placeholder/_0}}]]\n",
      "2023-05-26 09:21:20.116229: I tensorflow/core/common_runtime/executor.cc:1197] [/device:CPU:0] (DEBUG INFO) Executor start aborting (this does not indicate an error and you can ignore this message): INVALID_ARGUMENT: You must feed a value for placeholder tensor 'Placeholder/_0' with dtype int32\n",
      "\t [[{{node Placeholder/_0}}]]\n",
      "2023-05-26 09:21:20.522466: I tensorflow/core/common_runtime/executor.cc:1197] [/device:CPU:0] (DEBUG INFO) Executor start aborting (this does not indicate an error and you can ignore this message): INVALID_ARGUMENT: You must feed a value for placeholder tensor 'Placeholder/_0' with dtype int32\n",
      "\t [[{{node Placeholder/_0}}]]\n",
      "2023-05-26 09:21:20.522716: I tensorflow/core/common_runtime/executor.cc:1197] [/device:CPU:0] (DEBUG INFO) Executor start aborting (this does not indicate an error and you can ignore this message): INVALID_ARGUMENT: You must feed a value for placeholder tensor 'Placeholder/_0' with dtype int32\n",
      "\t [[{{node Placeholder/_0}}]]\n"
     ]
    },
    {
     "name": "stdout",
     "output_type": "stream",
     "text": [
      "563/563 [==============================] - 302s 536ms/step - loss: 0.3377 - accuracy: 0.3633 - val_loss: 0.4704 - val_accuracy: 0.1854\n"
     ]
    },
    {
     "name": "stderr",
     "output_type": "stream",
     "text": [
      "2023-05-26 09:22:17.323178: I tensorflow/core/common_runtime/executor.cc:1197] [/device:CPU:0] (DEBUG INFO) Executor start aborting (this does not indicate an error and you can ignore this message): INVALID_ARGUMENT: You must feed a value for placeholder tensor 'Placeholder/_0' with dtype int32\n",
      "\t [[{{node Placeholder/_0}}]]\n",
      "2023-05-26 09:22:17.323712: I tensorflow/core/common_runtime/executor.cc:1197] [/device:CPU:0] (DEBUG INFO) Executor start aborting (this does not indicate an error and you can ignore this message): INVALID_ARGUMENT: You must feed a value for placeholder tensor 'Placeholder/_0' with dtype int32\n",
      "\t [[{{node Placeholder/_0}}]]\n"
     ]
    },
    {
     "name": "stdout",
     "output_type": "stream",
     "text": [
      "Epoch 37/100\n",
      "563/563 [==============================] - ETA: 0s - loss: 0.3372 - accuracy: 0.3656"
     ]
    },
    {
     "name": "stderr",
     "output_type": "stream",
     "text": [
      "2023-05-26 09:26:05.848870: I tensorflow/core/common_runtime/executor.cc:1197] [/device:CPU:0] (DEBUG INFO) Executor start aborting (this does not indicate an error and you can ignore this message): INVALID_ARGUMENT: You must feed a value for placeholder tensor 'Placeholder/_0' with dtype int32\n",
      "\t [[{{node Placeholder/_0}}]]\n",
      "2023-05-26 09:26:05.849702: I tensorflow/core/common_runtime/executor.cc:1197] [/device:CPU:0] (DEBUG INFO) Executor start aborting (this does not indicate an error and you can ignore this message): INVALID_ARGUMENT: You must feed a value for placeholder tensor 'Placeholder/_0' with dtype int32\n",
      "\t [[{{node Placeholder/_0}}]]\n",
      "2023-05-26 09:26:07.543492: I tensorflow/core/common_runtime/executor.cc:1197] [/device:CPU:0] (DEBUG INFO) Executor start aborting (this does not indicate an error and you can ignore this message): INVALID_ARGUMENT: You must feed a value for placeholder tensor 'Placeholder/_0' with dtype int32\n",
      "\t [[{{node Placeholder/_0}}]]\n",
      "2023-05-26 09:26:07.543815: I tensorflow/core/common_runtime/executor.cc:1197] [/device:CPU:0] (DEBUG INFO) Executor start aborting (this does not indicate an error and you can ignore this message): INVALID_ARGUMENT: You must feed a value for placeholder tensor 'Placeholder/_0' with dtype int32\n",
      "\t [[{{node Placeholder/_0}}]]\n"
     ]
    },
    {
     "name": "stdout",
     "output_type": "stream",
     "text": [
      "563/563 [==============================] - 291s 518ms/step - loss: 0.3372 - accuracy: 0.3656 - val_loss: 0.4881 - val_accuracy: 0.1852\n"
     ]
    },
    {
     "name": "stderr",
     "output_type": "stream",
     "text": [
      "2023-05-26 09:27:09.213724: I tensorflow/core/common_runtime/executor.cc:1197] [/device:CPU:0] (DEBUG INFO) Executor start aborting (this does not indicate an error and you can ignore this message): INVALID_ARGUMENT: You must feed a value for placeholder tensor 'Placeholder/_0' with dtype int32\n",
      "\t [[{{node Placeholder/_0}}]]\n",
      "2023-05-26 09:27:09.214487: I tensorflow/core/common_runtime/executor.cc:1197] [/device:CPU:0] (DEBUG INFO) Executor start aborting (this does not indicate an error and you can ignore this message): INVALID_ARGUMENT: You must feed a value for placeholder tensor 'Placeholder/_0' with dtype int32\n",
      "\t [[{{node Placeholder/_0}}]]\n"
     ]
    },
    {
     "name": "stdout",
     "output_type": "stream",
     "text": [
      "Epoch 38/100\n",
      "563/563 [==============================] - ETA: 0s - loss: 0.3365 - accuracy: 0.3655"
     ]
    },
    {
     "name": "stderr",
     "output_type": "stream",
     "text": [
      "2023-05-26 09:30:47.153309: I tensorflow/core/common_runtime/executor.cc:1197] [/device:CPU:0] (DEBUG INFO) Executor start aborting (this does not indicate an error and you can ignore this message): INVALID_ARGUMENT: You must feed a value for placeholder tensor 'Placeholder/_0' with dtype int32\n",
      "\t [[{{node Placeholder/_0}}]]\n",
      "2023-05-26 09:30:47.154228: I tensorflow/core/common_runtime/executor.cc:1197] [/device:CPU:0] (DEBUG INFO) Executor start aborting (this does not indicate an error and you can ignore this message): INVALID_ARGUMENT: You must feed a value for placeholder tensor 'Placeholder/_0' with dtype int32\n",
      "\t [[{{node Placeholder/_0}}]]\n",
      "2023-05-26 09:30:47.616195: I tensorflow/core/common_runtime/executor.cc:1197] [/device:CPU:0] (DEBUG INFO) Executor start aborting (this does not indicate an error and you can ignore this message): INVALID_ARGUMENT: You must feed a value for placeholder tensor 'Placeholder/_0' with dtype int32\n",
      "\t [[{{node Placeholder/_0}}]]\n",
      "2023-05-26 09:30:47.616600: I tensorflow/core/common_runtime/executor.cc:1197] [/device:CPU:0] (DEBUG INFO) Executor start aborting (this does not indicate an error and you can ignore this message): INVALID_ARGUMENT: You must feed a value for placeholder tensor 'Placeholder/_0' with dtype int32\n",
      "\t [[{{node Placeholder/_0}}]]\n"
     ]
    },
    {
     "name": "stdout",
     "output_type": "stream",
     "text": [
      "563/563 [==============================] - 273s 484ms/step - loss: 0.3365 - accuracy: 0.3655 - val_loss: 0.5700 - val_accuracy: 0.2183\n"
     ]
    },
    {
     "name": "stderr",
     "output_type": "stream",
     "text": [
      "2023-05-26 09:31:42.410181: I tensorflow/core/common_runtime/executor.cc:1197] [/device:CPU:0] (DEBUG INFO) Executor start aborting (this does not indicate an error and you can ignore this message): INVALID_ARGUMENT: You must feed a value for placeholder tensor 'Placeholder/_0' with dtype int32\n",
      "\t [[{{node Placeholder/_0}}]]\n",
      "2023-05-26 09:31:42.410704: I tensorflow/core/common_runtime/executor.cc:1197] [/device:CPU:0] (DEBUG INFO) Executor start aborting (this does not indicate an error and you can ignore this message): INVALID_ARGUMENT: You must feed a value for placeholder tensor 'Placeholder/_0' with dtype int32\n",
      "\t [[{{node Placeholder/_0}}]]\n"
     ]
    },
    {
     "name": "stdout",
     "output_type": "stream",
     "text": [
      "Epoch 39/100\n",
      "563/563 [==============================] - ETA: 0s - loss: 0.3362 - accuracy: 0.3623"
     ]
    },
    {
     "name": "stderr",
     "output_type": "stream",
     "text": [
      "2023-05-26 09:35:24.432429: I tensorflow/core/common_runtime/executor.cc:1197] [/device:CPU:0] (DEBUG INFO) Executor start aborting (this does not indicate an error and you can ignore this message): INVALID_ARGUMENT: You must feed a value for placeholder tensor 'Placeholder/_0' with dtype int32\n",
      "\t [[{{node Placeholder/_0}}]]\n",
      "2023-05-26 09:35:24.433484: I tensorflow/core/common_runtime/executor.cc:1197] [/device:CPU:0] (DEBUG INFO) Executor start aborting (this does not indicate an error and you can ignore this message): INVALID_ARGUMENT: You must feed a value for placeholder tensor 'Placeholder/_0' with dtype int32\n",
      "\t [[{{node Placeholder/_0}}]]\n",
      "2023-05-26 09:35:24.849607: I tensorflow/core/common_runtime/executor.cc:1197] [/device:CPU:0] (DEBUG INFO) Executor start aborting (this does not indicate an error and you can ignore this message): INVALID_ARGUMENT: You must feed a value for placeholder tensor 'Placeholder/_0' with dtype int32\n",
      "\t [[{{node Placeholder/_0}}]]\n",
      "2023-05-26 09:35:24.849950: I tensorflow/core/common_runtime/executor.cc:1197] [/device:CPU:0] (DEBUG INFO) Executor start aborting (this does not indicate an error and you can ignore this message): INVALID_ARGUMENT: You must feed a value for placeholder tensor 'Placeholder/_0' with dtype int32\n",
      "\t [[{{node Placeholder/_0}}]]\n"
     ]
    },
    {
     "name": "stdout",
     "output_type": "stream",
     "text": [
      "563/563 [==============================] - 276s 490ms/step - loss: 0.3362 - accuracy: 0.3623 - val_loss: 0.4857 - val_accuracy: 0.2221\n"
     ]
    },
    {
     "name": "stderr",
     "output_type": "stream",
     "text": [
      "2023-05-26 09:36:18.991133: I tensorflow/core/common_runtime/executor.cc:1197] [/device:CPU:0] (DEBUG INFO) Executor start aborting (this does not indicate an error and you can ignore this message): INVALID_ARGUMENT: You must feed a value for placeholder tensor 'Placeholder/_0' with dtype int32\n",
      "\t [[{{node Placeholder/_0}}]]\n",
      "2023-05-26 09:36:18.991845: I tensorflow/core/common_runtime/executor.cc:1197] [/device:CPU:0] (DEBUG INFO) Executor start aborting (this does not indicate an error and you can ignore this message): INVALID_ARGUMENT: You must feed a value for placeholder tensor 'Placeholder/_0' with dtype int32\n",
      "\t [[{{node Placeholder/_0}}]]\n"
     ]
    },
    {
     "name": "stdout",
     "output_type": "stream",
     "text": [
      "Epoch 40/100\n",
      "563/563 [==============================] - ETA: 0s - loss: 0.3361 - accuracy: 0.3658"
     ]
    },
    {
     "name": "stderr",
     "output_type": "stream",
     "text": [
      "2023-05-26 09:39:59.265754: I tensorflow/core/common_runtime/executor.cc:1197] [/device:CPU:0] (DEBUG INFO) Executor start aborting (this does not indicate an error and you can ignore this message): INVALID_ARGUMENT: You must feed a value for placeholder tensor 'Placeholder/_0' with dtype int32\n",
      "\t [[{{node Placeholder/_0}}]]\n",
      "2023-05-26 09:39:59.266636: I tensorflow/core/common_runtime/executor.cc:1197] [/device:CPU:0] (DEBUG INFO) Executor start aborting (this does not indicate an error and you can ignore this message): INVALID_ARGUMENT: You must feed a value for placeholder tensor 'Placeholder/_0' with dtype int32\n",
      "\t [[{{node Placeholder/_0}}]]\n",
      "2023-05-26 09:39:59.673378: I tensorflow/core/common_runtime/executor.cc:1197] [/device:CPU:0] (DEBUG INFO) Executor start aborting (this does not indicate an error and you can ignore this message): INVALID_ARGUMENT: You must feed a value for placeholder tensor 'Placeholder/_0' with dtype int32\n",
      "\t [[{{node Placeholder/_0}}]]\n",
      "2023-05-26 09:39:59.673681: I tensorflow/core/common_runtime/executor.cc:1197] [/device:CPU:0] (DEBUG INFO) Executor start aborting (this does not indicate an error and you can ignore this message): INVALID_ARGUMENT: You must feed a value for placeholder tensor 'Placeholder/_0' with dtype int32\n",
      "\t [[{{node Placeholder/_0}}]]\n"
     ]
    },
    {
     "name": "stdout",
     "output_type": "stream",
     "text": [
      "563/563 [==============================] - 275s 488ms/step - loss: 0.3361 - accuracy: 0.3658 - val_loss: 0.4693 - val_accuracy: 0.4841\n"
     ]
    },
    {
     "name": "stderr",
     "output_type": "stream",
     "text": [
      "2023-05-26 09:40:54.394857: I tensorflow/core/common_runtime/executor.cc:1197] [/device:CPU:0] (DEBUG INFO) Executor start aborting (this does not indicate an error and you can ignore this message): INVALID_ARGUMENT: You must feed a value for placeholder tensor 'Placeholder/_0' with dtype int32\n",
      "\t [[{{node Placeholder/_0}}]]\n",
      "2023-05-26 09:40:54.395213: I tensorflow/core/common_runtime/executor.cc:1197] [/device:CPU:0] (DEBUG INFO) Executor start aborting (this does not indicate an error and you can ignore this message): INVALID_ARGUMENT: You must feed a value for placeholder tensor 'Placeholder/_0' with dtype int32\n",
      "\t [[{{node Placeholder/_0}}]]\n"
     ]
    },
    {
     "name": "stdout",
     "output_type": "stream",
     "text": [
      "Epoch 41/100\n",
      "563/563 [==============================] - ETA: 0s - loss: 0.3369 - accuracy: 0.3642"
     ]
    },
    {
     "name": "stderr",
     "output_type": "stream",
     "text": [
      "2023-05-26 09:44:59.051991: I tensorflow/core/common_runtime/executor.cc:1197] [/device:CPU:0] (DEBUG INFO) Executor start aborting (this does not indicate an error and you can ignore this message): INVALID_ARGUMENT: You must feed a value for placeholder tensor 'Placeholder/_0' with dtype int32\n",
      "\t [[{{node Placeholder/_0}}]]\n",
      "2023-05-26 09:44:59.052804: I tensorflow/core/common_runtime/executor.cc:1197] [/device:CPU:0] (DEBUG INFO) Executor start aborting (this does not indicate an error and you can ignore this message): INVALID_ARGUMENT: You must feed a value for placeholder tensor 'Placeholder/_0' with dtype int32\n",
      "\t [[{{node Placeholder/_0}}]]\n",
      "2023-05-26 09:44:59.452354: I tensorflow/core/common_runtime/executor.cc:1197] [/device:CPU:0] (DEBUG INFO) Executor start aborting (this does not indicate an error and you can ignore this message): INVALID_ARGUMENT: You must feed a value for placeholder tensor 'Placeholder/_0' with dtype int32\n",
      "\t [[{{node Placeholder/_0}}]]\n",
      "2023-05-26 09:44:59.452668: I tensorflow/core/common_runtime/executor.cc:1197] [/device:CPU:0] (DEBUG INFO) Executor start aborting (this does not indicate an error and you can ignore this message): INVALID_ARGUMENT: You must feed a value for placeholder tensor 'Placeholder/_0' with dtype int32\n",
      "\t [[{{node Placeholder/_0}}]]\n"
     ]
    },
    {
     "name": "stdout",
     "output_type": "stream",
     "text": [
      "563/563 [==============================] - 299s 531ms/step - loss: 0.3369 - accuracy: 0.3642 - val_loss: 0.3849 - val_accuracy: 0.3572\n"
     ]
    },
    {
     "name": "stderr",
     "output_type": "stream",
     "text": [
      "2023-05-26 09:45:53.864291: I tensorflow/core/common_runtime/executor.cc:1197] [/device:CPU:0] (DEBUG INFO) Executor start aborting (this does not indicate an error and you can ignore this message): INVALID_ARGUMENT: You must feed a value for placeholder tensor 'Placeholder/_0' with dtype int32\n",
      "\t [[{{node Placeholder/_0}}]]\n",
      "2023-05-26 09:45:53.864849: I tensorflow/core/common_runtime/executor.cc:1197] [/device:CPU:0] (DEBUG INFO) Executor start aborting (this does not indicate an error and you can ignore this message): INVALID_ARGUMENT: You must feed a value for placeholder tensor 'Placeholder/_0' with dtype int32\n",
      "\t [[{{node Placeholder/_0}}]]\n"
     ]
    },
    {
     "name": "stdout",
     "output_type": "stream",
     "text": [
      "Epoch 42/100\n",
      "563/563 [==============================] - ETA: 0s - loss: 0.3360 - accuracy: 0.3643"
     ]
    },
    {
     "name": "stderr",
     "output_type": "stream",
     "text": [
      "2023-05-26 09:49:50.109645: I tensorflow/core/common_runtime/executor.cc:1197] [/device:CPU:0] (DEBUG INFO) Executor start aborting (this does not indicate an error and you can ignore this message): INVALID_ARGUMENT: You must feed a value for placeholder tensor 'Placeholder/_0' with dtype int32\n",
      "\t [[{{node Placeholder/_0}}]]\n",
      "2023-05-26 09:49:50.110374: I tensorflow/core/common_runtime/executor.cc:1197] [/device:CPU:0] (DEBUG INFO) Executor start aborting (this does not indicate an error and you can ignore this message): INVALID_ARGUMENT: You must feed a value for placeholder tensor 'Placeholder/_0' with dtype int32\n",
      "\t [[{{node Placeholder/_0}}]]\n",
      "2023-05-26 09:49:50.508848: I tensorflow/core/common_runtime/executor.cc:1197] [/device:CPU:0] (DEBUG INFO) Executor start aborting (this does not indicate an error and you can ignore this message): INVALID_ARGUMENT: You must feed a value for placeholder tensor 'Placeholder/_0' with dtype int32\n",
      "\t [[{{node Placeholder/_0}}]]\n",
      "2023-05-26 09:49:50.509154: I tensorflow/core/common_runtime/executor.cc:1197] [/device:CPU:0] (DEBUG INFO) Executor start aborting (this does not indicate an error and you can ignore this message): INVALID_ARGUMENT: You must feed a value for placeholder tensor 'Placeholder/_0' with dtype int32\n",
      "\t [[{{node Placeholder/_0}}]]\n"
     ]
    },
    {
     "name": "stdout",
     "output_type": "stream",
     "text": [
      "563/563 [==============================] - 293s 520ms/step - loss: 0.3360 - accuracy: 0.3643 - val_loss: 0.3825 - val_accuracy: 0.4567\n"
     ]
    },
    {
     "name": "stderr",
     "output_type": "stream",
     "text": [
      "2023-05-26 09:50:46.970059: I tensorflow/core/common_runtime/executor.cc:1197] [/device:CPU:0] (DEBUG INFO) Executor start aborting (this does not indicate an error and you can ignore this message): INVALID_ARGUMENT: You must feed a value for placeholder tensor 'Placeholder/_0' with dtype int32\n",
      "\t [[{{node Placeholder/_0}}]]\n",
      "2023-05-26 09:50:46.970786: I tensorflow/core/common_runtime/executor.cc:1197] [/device:CPU:0] (DEBUG INFO) Executor start aborting (this does not indicate an error and you can ignore this message): INVALID_ARGUMENT: You must feed a value for placeholder tensor 'Placeholder/_0' with dtype int32\n",
      "\t [[{{node Placeholder/_0}}]]\n"
     ]
    },
    {
     "name": "stdout",
     "output_type": "stream",
     "text": [
      "Epoch 43/100\n",
      "563/563 [==============================] - ETA: 0s - loss: 0.3342 - accuracy: 0.3651"
     ]
    },
    {
     "name": "stderr",
     "output_type": "stream",
     "text": [
      "2023-05-26 09:54:42.097219: I tensorflow/core/common_runtime/executor.cc:1197] [/device:CPU:0] (DEBUG INFO) Executor start aborting (this does not indicate an error and you can ignore this message): INVALID_ARGUMENT: You must feed a value for placeholder tensor 'Placeholder/_0' with dtype int32\n",
      "\t [[{{node Placeholder/_0}}]]\n",
      "2023-05-26 09:54:42.098060: I tensorflow/core/common_runtime/executor.cc:1197] [/device:CPU:0] (DEBUG INFO) Executor start aborting (this does not indicate an error and you can ignore this message): INVALID_ARGUMENT: You must feed a value for placeholder tensor 'Placeholder/_0' with dtype int32\n",
      "\t [[{{node Placeholder/_0}}]]\n",
      "2023-05-26 09:54:42.496109: I tensorflow/core/common_runtime/executor.cc:1197] [/device:CPU:0] (DEBUG INFO) Executor start aborting (this does not indicate an error and you can ignore this message): INVALID_ARGUMENT: You must feed a value for placeholder tensor 'Placeholder/_0' with dtype int32\n",
      "\t [[{{node Placeholder/_0}}]]\n",
      "2023-05-26 09:54:42.496447: I tensorflow/core/common_runtime/executor.cc:1197] [/device:CPU:0] (DEBUG INFO) Executor start aborting (this does not indicate an error and you can ignore this message): INVALID_ARGUMENT: You must feed a value for placeholder tensor 'Placeholder/_0' with dtype int32\n",
      "\t [[{{node Placeholder/_0}}]]\n"
     ]
    },
    {
     "name": "stdout",
     "output_type": "stream",
     "text": [
      "563/563 [==============================] - 295s 523ms/step - loss: 0.3342 - accuracy: 0.3651 - val_loss: 0.6550 - val_accuracy: 0.1594\n"
     ]
    },
    {
     "name": "stderr",
     "output_type": "stream",
     "text": [
      "2023-05-26 09:55:41.942567: I tensorflow/core/common_runtime/executor.cc:1197] [/device:CPU:0] (DEBUG INFO) Executor start aborting (this does not indicate an error and you can ignore this message): INVALID_ARGUMENT: You must feed a value for placeholder tensor 'Placeholder/_0' with dtype int32\n",
      "\t [[{{node Placeholder/_0}}]]\n",
      "2023-05-26 09:55:41.943335: I tensorflow/core/common_runtime/executor.cc:1197] [/device:CPU:0] (DEBUG INFO) Executor start aborting (this does not indicate an error and you can ignore this message): INVALID_ARGUMENT: You must feed a value for placeholder tensor 'Placeholder/_0' with dtype int32\n",
      "\t [[{{node Placeholder/_0}}]]\n"
     ]
    },
    {
     "name": "stdout",
     "output_type": "stream",
     "text": [
      "Epoch 44/100\n",
      "563/563 [==============================] - ETA: 0s - loss: 0.3345 - accuracy: 0.3672"
     ]
    },
    {
     "name": "stderr",
     "output_type": "stream",
     "text": [
      "2023-05-26 09:59:30.122206: I tensorflow/core/common_runtime/executor.cc:1197] [/device:CPU:0] (DEBUG INFO) Executor start aborting (this does not indicate an error and you can ignore this message): INVALID_ARGUMENT: You must feed a value for placeholder tensor 'Placeholder/_0' with dtype int32\n",
      "\t [[{{node Placeholder/_0}}]]\n",
      "2023-05-26 09:59:30.123116: I tensorflow/core/common_runtime/executor.cc:1197] [/device:CPU:0] (DEBUG INFO) Executor start aborting (this does not indicate an error and you can ignore this message): INVALID_ARGUMENT: You must feed a value for placeholder tensor 'Placeholder/_0' with dtype int32\n",
      "\t [[{{node Placeholder/_0}}]]\n",
      "2023-05-26 09:59:30.531559: I tensorflow/core/common_runtime/executor.cc:1197] [/device:CPU:0] (DEBUG INFO) Executor start aborting (this does not indicate an error and you can ignore this message): INVALID_ARGUMENT: You must feed a value for placeholder tensor 'Placeholder/_0' with dtype int32\n",
      "\t [[{{node Placeholder/_0}}]]\n",
      "2023-05-26 09:59:30.531913: I tensorflow/core/common_runtime/executor.cc:1197] [/device:CPU:0] (DEBUG INFO) Executor start aborting (this does not indicate an error and you can ignore this message): INVALID_ARGUMENT: You must feed a value for placeholder tensor 'Placeholder/_0' with dtype int32\n",
      "\t [[{{node Placeholder/_0}}]]\n"
     ]
    },
    {
     "name": "stdout",
     "output_type": "stream",
     "text": [
      "563/563 [==============================] - 284s 504ms/step - loss: 0.3345 - accuracy: 0.3672 - val_loss: 0.3748 - val_accuracy: 0.4736\n"
     ]
    },
    {
     "name": "stderr",
     "output_type": "stream",
     "text": [
      "2023-05-26 10:00:25.919769: I tensorflow/core/common_runtime/executor.cc:1197] [/device:CPU:0] (DEBUG INFO) Executor start aborting (this does not indicate an error and you can ignore this message): INVALID_ARGUMENT: You must feed a value for placeholder tensor 'Placeholder/_0' with dtype int32\n",
      "\t [[{{node Placeholder/_0}}]]\n",
      "2023-05-26 10:00:25.920588: I tensorflow/core/common_runtime/executor.cc:1197] [/device:CPU:0] (DEBUG INFO) Executor start aborting (this does not indicate an error and you can ignore this message): INVALID_ARGUMENT: You must feed a value for placeholder tensor 'Placeholder/_0' with dtype int32\n",
      "\t [[{{node Placeholder/_0}}]]\n"
     ]
    },
    {
     "name": "stdout",
     "output_type": "stream",
     "text": [
      "Epoch 45/100\n",
      "563/563 [==============================] - ETA: 0s - loss: 0.3349 - accuracy: 0.3646"
     ]
    },
    {
     "name": "stderr",
     "output_type": "stream",
     "text": [
      "2023-05-26 10:04:12.264704: I tensorflow/core/common_runtime/executor.cc:1197] [/device:CPU:0] (DEBUG INFO) Executor start aborting (this does not indicate an error and you can ignore this message): INVALID_ARGUMENT: You must feed a value for placeholder tensor 'Placeholder/_0' with dtype int32\n",
      "\t [[{{node Placeholder/_0}}]]\n",
      "2023-05-26 10:04:12.265709: I tensorflow/core/common_runtime/executor.cc:1197] [/device:CPU:0] (DEBUG INFO) Executor start aborting (this does not indicate an error and you can ignore this message): INVALID_ARGUMENT: You must feed a value for placeholder tensor 'Placeholder/_0' with dtype int32\n",
      "\t [[{{node Placeholder/_0}}]]\n",
      "2023-05-26 10:04:12.649443: I tensorflow/core/common_runtime/executor.cc:1197] [/device:CPU:0] (DEBUG INFO) Executor start aborting (this does not indicate an error and you can ignore this message): INVALID_ARGUMENT: You must feed a value for placeholder tensor 'Placeholder/_0' with dtype int32\n",
      "\t [[{{node Placeholder/_0}}]]\n",
      "2023-05-26 10:04:12.649858: I tensorflow/core/common_runtime/executor.cc:1197] [/device:CPU:0] (DEBUG INFO) Executor start aborting (this does not indicate an error and you can ignore this message): INVALID_ARGUMENT: You must feed a value for placeholder tensor 'Placeholder/_0' with dtype int32\n",
      "\t [[{{node Placeholder/_0}}]]\n"
     ]
    },
    {
     "name": "stdout",
     "output_type": "stream",
     "text": [
      "563/563 [==============================] - 282s 501ms/step - loss: 0.3349 - accuracy: 0.3646 - val_loss: 0.4315 - val_accuracy: 0.3522\n"
     ]
    },
    {
     "name": "stderr",
     "output_type": "stream",
     "text": [
      "2023-05-26 10:05:08.698684: I tensorflow/core/common_runtime/executor.cc:1197] [/device:CPU:0] (DEBUG INFO) Executor start aborting (this does not indicate an error and you can ignore this message): INVALID_ARGUMENT: You must feed a value for placeholder tensor 'Placeholder/_0' with dtype int32\n",
      "\t [[{{node Placeholder/_0}}]]\n",
      "2023-05-26 10:05:08.699459: I tensorflow/core/common_runtime/executor.cc:1197] [/device:CPU:0] (DEBUG INFO) Executor start aborting (this does not indicate an error and you can ignore this message): INVALID_ARGUMENT: You must feed a value for placeholder tensor 'Placeholder/_0' with dtype int32\n",
      "\t [[{{node Placeholder/_0}}]]\n"
     ]
    },
    {
     "name": "stdout",
     "output_type": "stream",
     "text": [
      "Epoch 46/100\n",
      "563/563 [==============================] - ETA: 0s - loss: 0.3322 - accuracy: 0.3621"
     ]
    },
    {
     "name": "stderr",
     "output_type": "stream",
     "text": [
      "2023-05-26 10:08:56.705589: I tensorflow/core/common_runtime/executor.cc:1197] [/device:CPU:0] (DEBUG INFO) Executor start aborting (this does not indicate an error and you can ignore this message): INVALID_ARGUMENT: You must feed a value for placeholder tensor 'Placeholder/_0' with dtype int32\n",
      "\t [[{{node Placeholder/_0}}]]\n",
      "2023-05-26 10:08:56.706377: I tensorflow/core/common_runtime/executor.cc:1197] [/device:CPU:0] (DEBUG INFO) Executor start aborting (this does not indicate an error and you can ignore this message): INVALID_ARGUMENT: You must feed a value for placeholder tensor 'Placeholder/_0' with dtype int32\n",
      "\t [[{{node Placeholder/_0}}]]\n",
      "2023-05-26 10:08:57.087645: I tensorflow/core/common_runtime/executor.cc:1197] [/device:CPU:0] (DEBUG INFO) Executor start aborting (this does not indicate an error and you can ignore this message): INVALID_ARGUMENT: You must feed a value for placeholder tensor 'Placeholder/_0' with dtype int32\n",
      "\t [[{{node Placeholder/_0}}]]\n",
      "2023-05-26 10:08:57.087975: I tensorflow/core/common_runtime/executor.cc:1197] [/device:CPU:0] (DEBUG INFO) Executor start aborting (this does not indicate an error and you can ignore this message): INVALID_ARGUMENT: You must feed a value for placeholder tensor 'Placeholder/_0' with dtype int32\n",
      "\t [[{{node Placeholder/_0}}]]\n"
     ]
    },
    {
     "name": "stdout",
     "output_type": "stream",
     "text": [
      "563/563 [==============================] - 290s 516ms/step - loss: 0.3322 - accuracy: 0.3621 - val_loss: 0.4817 - val_accuracy: 0.4304\n"
     ]
    },
    {
     "name": "stderr",
     "output_type": "stream",
     "text": [
      "2023-05-26 10:09:59.540335: I tensorflow/core/common_runtime/executor.cc:1197] [/device:CPU:0] (DEBUG INFO) Executor start aborting (this does not indicate an error and you can ignore this message): INVALID_ARGUMENT: You must feed a value for placeholder tensor 'Placeholder/_0' with dtype int32\n",
      "\t [[{{node Placeholder/_0}}]]\n",
      "2023-05-26 10:09:59.540770: I tensorflow/core/common_runtime/executor.cc:1197] [/device:CPU:0] (DEBUG INFO) Executor start aborting (this does not indicate an error and you can ignore this message): INVALID_ARGUMENT: You must feed a value for placeholder tensor 'Placeholder/_0' with dtype int32\n",
      "\t [[{{node Placeholder/_0}}]]\n"
     ]
    },
    {
     "name": "stdout",
     "output_type": "stream",
     "text": [
      "Epoch 47/100\n",
      "563/563 [==============================] - ETA: 0s - loss: 0.3324 - accuracy: 0.3605"
     ]
    },
    {
     "name": "stderr",
     "output_type": "stream",
     "text": [
      "2023-05-26 10:13:50.612616: I tensorflow/core/common_runtime/executor.cc:1197] [/device:CPU:0] (DEBUG INFO) Executor start aborting (this does not indicate an error and you can ignore this message): INVALID_ARGUMENT: You must feed a value for placeholder tensor 'Placeholder/_0' with dtype int32\n",
      "\t [[{{node Placeholder/_0}}]]\n",
      "2023-05-26 10:13:50.613620: I tensorflow/core/common_runtime/executor.cc:1197] [/device:CPU:0] (DEBUG INFO) Executor start aborting (this does not indicate an error and you can ignore this message): INVALID_ARGUMENT: You must feed a value for placeholder tensor 'Placeholder/_0' with dtype int32\n",
      "\t [[{{node Placeholder/_0}}]]\n",
      "2023-05-26 10:13:50.993145: I tensorflow/core/common_runtime/executor.cc:1197] [/device:CPU:0] (DEBUG INFO) Executor start aborting (this does not indicate an error and you can ignore this message): INVALID_ARGUMENT: You must feed a value for placeholder tensor 'Placeholder/_0' with dtype int32\n",
      "\t [[{{node Placeholder/_0}}]]\n",
      "2023-05-26 10:13:50.993509: I tensorflow/core/common_runtime/executor.cc:1197] [/device:CPU:0] (DEBUG INFO) Executor start aborting (this does not indicate an error and you can ignore this message): INVALID_ARGUMENT: You must feed a value for placeholder tensor 'Placeholder/_0' with dtype int32\n",
      "\t [[{{node Placeholder/_0}}]]\n"
     ]
    },
    {
     "name": "stdout",
     "output_type": "stream",
     "text": [
      "563/563 [==============================] - 288s 512ms/step - loss: 0.3324 - accuracy: 0.3605 - val_loss: 0.4875 - val_accuracy: 0.2373\n"
     ]
    },
    {
     "name": "stderr",
     "output_type": "stream",
     "text": [
      "2023-05-26 10:14:48.302237: I tensorflow/core/common_runtime/executor.cc:1197] [/device:CPU:0] (DEBUG INFO) Executor start aborting (this does not indicate an error and you can ignore this message): INVALID_ARGUMENT: You must feed a value for placeholder tensor 'Placeholder/_0' with dtype int32\n",
      "\t [[{{node Placeholder/_0}}]]\n",
      "2023-05-26 10:14:48.302575: I tensorflow/core/common_runtime/executor.cc:1197] [/device:CPU:0] (DEBUG INFO) Executor start aborting (this does not indicate an error and you can ignore this message): INVALID_ARGUMENT: You must feed a value for placeholder tensor 'Placeholder/_0' with dtype int32\n",
      "\t [[{{node Placeholder/_0}}]]\n"
     ]
    },
    {
     "name": "stdout",
     "output_type": "stream",
     "text": [
      "Epoch 48/100\n",
      "563/563 [==============================] - ETA: 0s - loss: 0.3315 - accuracy: 0.3635"
     ]
    },
    {
     "name": "stderr",
     "output_type": "stream",
     "text": [
      "2023-05-26 10:18:43.019983: I tensorflow/core/common_runtime/executor.cc:1197] [/device:CPU:0] (DEBUG INFO) Executor start aborting (this does not indicate an error and you can ignore this message): INVALID_ARGUMENT: You must feed a value for placeholder tensor 'Placeholder/_0' with dtype int32\n",
      "\t [[{{node Placeholder/_0}}]]\n",
      "2023-05-26 10:18:43.020432: I tensorflow/core/common_runtime/executor.cc:1197] [/device:CPU:0] (DEBUG INFO) Executor start aborting (this does not indicate an error and you can ignore this message): INVALID_ARGUMENT: You must feed a value for placeholder tensor 'Placeholder/_0' with dtype int32\n",
      "\t [[{{node Placeholder/_0}}]]\n",
      "2023-05-26 10:18:43.387806: I tensorflow/core/common_runtime/executor.cc:1197] [/device:CPU:0] (DEBUG INFO) Executor start aborting (this does not indicate an error and you can ignore this message): INVALID_ARGUMENT: You must feed a value for placeholder tensor 'Placeholder/_0' with dtype int32\n",
      "\t [[{{node Placeholder/_0}}]]\n",
      "2023-05-26 10:18:43.388201: I tensorflow/core/common_runtime/executor.cc:1197] [/device:CPU:0] (DEBUG INFO) Executor start aborting (this does not indicate an error and you can ignore this message): INVALID_ARGUMENT: You must feed a value for placeholder tensor 'Placeholder/_0' with dtype int32\n",
      "\t [[{{node Placeholder/_0}}]]\n"
     ]
    },
    {
     "name": "stdout",
     "output_type": "stream",
     "text": [
      "563/563 [==============================] - 297s 528ms/step - loss: 0.3315 - accuracy: 0.3635 - val_loss: 0.4569 - val_accuracy: 0.2967\n"
     ]
    },
    {
     "name": "stderr",
     "output_type": "stream",
     "text": [
      "2023-05-26 10:19:46.062797: I tensorflow/core/common_runtime/executor.cc:1197] [/device:CPU:0] (DEBUG INFO) Executor start aborting (this does not indicate an error and you can ignore this message): INVALID_ARGUMENT: You must feed a value for placeholder tensor 'Placeholder/_0' with dtype int32\n",
      "\t [[{{node Placeholder/_0}}]]\n",
      "2023-05-26 10:19:46.063113: I tensorflow/core/common_runtime/executor.cc:1197] [/device:CPU:0] (DEBUG INFO) Executor start aborting (this does not indicate an error and you can ignore this message): INVALID_ARGUMENT: You must feed a value for placeholder tensor 'Placeholder/_0' with dtype int32\n",
      "\t [[{{node Placeholder/_0}}]]\n"
     ]
    },
    {
     "name": "stdout",
     "output_type": "stream",
     "text": [
      "Epoch 49/100\n",
      "563/563 [==============================] - ETA: 0s - loss: 0.3327 - accuracy: 0.3628"
     ]
    },
    {
     "name": "stderr",
     "output_type": "stream",
     "text": [
      "2023-05-26 10:23:51.560227: I tensorflow/core/common_runtime/executor.cc:1197] [/device:CPU:0] (DEBUG INFO) Executor start aborting (this does not indicate an error and you can ignore this message): INVALID_ARGUMENT: You must feed a value for placeholder tensor 'Placeholder/_0' with dtype int32\n",
      "\t [[{{node Placeholder/_0}}]]\n",
      "2023-05-26 10:23:51.561013: I tensorflow/core/common_runtime/executor.cc:1197] [/device:CPU:0] (DEBUG INFO) Executor start aborting (this does not indicate an error and you can ignore this message): INVALID_ARGUMENT: You must feed a value for placeholder tensor 'Placeholder/_0' with dtype int32\n",
      "\t [[{{node Placeholder/_0}}]]\n",
      "2023-05-26 10:23:51.944722: I tensorflow/core/common_runtime/executor.cc:1197] [/device:CPU:0] (DEBUG INFO) Executor start aborting (this does not indicate an error and you can ignore this message): INVALID_ARGUMENT: You must feed a value for placeholder tensor 'Placeholder/_0' with dtype int32\n",
      "\t [[{{node Placeholder/_0}}]]\n",
      "2023-05-26 10:23:51.945026: I tensorflow/core/common_runtime/executor.cc:1197] [/device:CPU:0] (DEBUG INFO) Executor start aborting (this does not indicate an error and you can ignore this message): INVALID_ARGUMENT: You must feed a value for placeholder tensor 'Placeholder/_0' with dtype int32\n",
      "\t [[{{node Placeholder/_0}}]]\n"
     ]
    },
    {
     "name": "stdout",
     "output_type": "stream",
     "text": [
      "563/563 [==============================] - 306s 544ms/step - loss: 0.3327 - accuracy: 0.3628 - val_loss: 0.3623 - val_accuracy: 0.3798\n"
     ]
    },
    {
     "name": "stderr",
     "output_type": "stream",
     "text": [
      "2023-05-26 10:24:52.649970: I tensorflow/core/common_runtime/executor.cc:1197] [/device:CPU:0] (DEBUG INFO) Executor start aborting (this does not indicate an error and you can ignore this message): INVALID_ARGUMENT: You must feed a value for placeholder tensor 'Placeholder/_0' with dtype int32\n",
      "\t [[{{node Placeholder/_0}}]]\n",
      "2023-05-26 10:24:52.650399: I tensorflow/core/common_runtime/executor.cc:1197] [/device:CPU:0] (DEBUG INFO) Executor start aborting (this does not indicate an error and you can ignore this message): INVALID_ARGUMENT: You must feed a value for placeholder tensor 'Placeholder/_0' with dtype int32\n",
      "\t [[{{node Placeholder/_0}}]]\n"
     ]
    },
    {
     "name": "stdout",
     "output_type": "stream",
     "text": [
      "Epoch 50/100\n",
      "563/563 [==============================] - ETA: 0s - loss: 0.3326 - accuracy: 0.3642"
     ]
    },
    {
     "name": "stderr",
     "output_type": "stream",
     "text": [
      "2023-05-26 10:28:48.763994: I tensorflow/core/common_runtime/executor.cc:1197] [/device:CPU:0] (DEBUG INFO) Executor start aborting (this does not indicate an error and you can ignore this message): INVALID_ARGUMENT: You must feed a value for placeholder tensor 'Placeholder/_0' with dtype int32\n",
      "\t [[{{node Placeholder/_0}}]]\n",
      "2023-05-26 10:28:48.764383: I tensorflow/core/common_runtime/executor.cc:1197] [/device:CPU:0] (DEBUG INFO) Executor start aborting (this does not indicate an error and you can ignore this message): INVALID_ARGUMENT: You must feed a value for placeholder tensor 'Placeholder/_0' with dtype int32\n",
      "\t [[{{node Placeholder/_0}}]]\n",
      "2023-05-26 10:28:49.118866: I tensorflow/core/common_runtime/executor.cc:1197] [/device:CPU:0] (DEBUG INFO) Executor start aborting (this does not indicate an error and you can ignore this message): INVALID_ARGUMENT: You must feed a value for placeholder tensor 'Placeholder/_0' with dtype int32\n",
      "\t [[{{node Placeholder/_0}}]]\n",
      "2023-05-26 10:28:49.119097: I tensorflow/core/common_runtime/executor.cc:1197] [/device:CPU:0] (DEBUG INFO) Executor start aborting (this does not indicate an error and you can ignore this message): INVALID_ARGUMENT: You must feed a value for placeholder tensor 'Placeholder/_0' with dtype int32\n",
      "\t [[{{node Placeholder/_0}}]]\n"
     ]
    },
    {
     "name": "stdout",
     "output_type": "stream",
     "text": [
      "563/563 [==============================] - 294s 522ms/step - loss: 0.3326 - accuracy: 0.3642 - val_loss: 0.3890 - val_accuracy: 0.4808\n"
     ]
    },
    {
     "name": "stderr",
     "output_type": "stream",
     "text": [
      "2023-05-26 10:29:46.804454: I tensorflow/core/common_runtime/executor.cc:1197] [/device:CPU:0] (DEBUG INFO) Executor start aborting (this does not indicate an error and you can ignore this message): INVALID_ARGUMENT: You must feed a value for placeholder tensor 'Placeholder/_0' with dtype int32\n",
      "\t [[{{node Placeholder/_0}}]]\n",
      "2023-05-26 10:29:46.805245: I tensorflow/core/common_runtime/executor.cc:1197] [/device:CPU:0] (DEBUG INFO) Executor start aborting (this does not indicate an error and you can ignore this message): INVALID_ARGUMENT: You must feed a value for placeholder tensor 'Placeholder/_0' with dtype int32\n",
      "\t [[{{node Placeholder/_0}}]]\n"
     ]
    },
    {
     "name": "stdout",
     "output_type": "stream",
     "text": [
      "Epoch 51/100\n",
      "563/563 [==============================] - ETA: 0s - loss: 0.3320 - accuracy: 0.3631"
     ]
    },
    {
     "name": "stderr",
     "output_type": "stream",
     "text": [
      "2023-05-26 10:33:49.847076: I tensorflow/core/common_runtime/executor.cc:1197] [/device:CPU:0] (DEBUG INFO) Executor start aborting (this does not indicate an error and you can ignore this message): INVALID_ARGUMENT: You must feed a value for placeholder tensor 'Placeholder/_0' with dtype int32\n",
      "\t [[{{node Placeholder/_0}}]]\n",
      "2023-05-26 10:33:49.847861: I tensorflow/core/common_runtime/executor.cc:1197] [/device:CPU:0] (DEBUG INFO) Executor start aborting (this does not indicate an error and you can ignore this message): INVALID_ARGUMENT: You must feed a value for placeholder tensor 'Placeholder/_0' with dtype int32\n",
      "\t [[{{node Placeholder/_0}}]]\n",
      "2023-05-26 10:33:50.233811: I tensorflow/core/common_runtime/executor.cc:1197] [/device:CPU:0] (DEBUG INFO) Executor start aborting (this does not indicate an error and you can ignore this message): INVALID_ARGUMENT: You must feed a value for placeholder tensor 'Placeholder/_0' with dtype int32\n",
      "\t [[{{node Placeholder/_0}}]]\n",
      "2023-05-26 10:33:50.234126: I tensorflow/core/common_runtime/executor.cc:1197] [/device:CPU:0] (DEBUG INFO) Executor start aborting (this does not indicate an error and you can ignore this message): INVALID_ARGUMENT: You must feed a value for placeholder tensor 'Placeholder/_0' with dtype int32\n",
      "\t [[{{node Placeholder/_0}}]]\n"
     ]
    },
    {
     "name": "stdout",
     "output_type": "stream",
     "text": [
      "563/563 [==============================] - 301s 535ms/step - loss: 0.3320 - accuracy: 0.3631 - val_loss: 0.4611 - val_accuracy: 0.5221\n"
     ]
    },
    {
     "name": "stderr",
     "output_type": "stream",
     "text": [
      "2023-05-26 10:34:48.769627: I tensorflow/core/common_runtime/executor.cc:1197] [/device:CPU:0] (DEBUG INFO) Executor start aborting (this does not indicate an error and you can ignore this message): INVALID_ARGUMENT: You must feed a value for placeholder tensor 'Placeholder/_0' with dtype int32\n",
      "\t [[{{node Placeholder/_0}}]]\n",
      "2023-05-26 10:34:48.769994: I tensorflow/core/common_runtime/executor.cc:1197] [/device:CPU:0] (DEBUG INFO) Executor start aborting (this does not indicate an error and you can ignore this message): INVALID_ARGUMENT: You must feed a value for placeholder tensor 'Placeholder/_0' with dtype int32\n",
      "\t [[{{node Placeholder/_0}}]]\n",
      "2023-05-26 10:34:48.771448: W tensorflow/core/grappler/optimizers/data/auto_shard.cc:786] AUTO sharding policy will apply DATA sharding policy as it failed to apply FILE sharding policy because of the following reason: Found an unshardable source dataset: name: \"TensorDataset/_1\"\n",
      "op: \"TensorDataset\"\n",
      "input: \"Placeholder/_0\"\n",
      "attr {\n",
      "  key: \"Toutput_types\"\n",
      "  value {\n",
      "    list {\n",
      "      type: DT_INT32\n",
      "    }\n",
      "  }\n",
      "}\n",
      "attr {\n",
      "  key: \"_cardinality\"\n",
      "  value {\n",
      "    i: 1\n",
      "  }\n",
      "}\n",
      "attr {\n",
      "  key: \"metadata\"\n",
      "  value {\n",
      "    s: \"\\n\\022TensorDataset:2937\"\n",
      "  }\n",
      "}\n",
      "attr {\n",
      "  key: \"output_shapes\"\n",
      "  value {\n",
      "    list {\n",
      "      shape {\n",
      "      }\n",
      "    }\n",
      "  }\n",
      "}\n",
      "experimental_type {\n",
      "  type_id: TFT_PRODUCT\n",
      "  args {\n",
      "    type_id: TFT_DATASET\n",
      "    args {\n",
      "      type_id: TFT_PRODUCT\n",
      "      args {\n",
      "        type_id: TFT_TENSOR\n",
      "        args {\n",
      "          type_id: TFT_INT32\n",
      "        }\n",
      "      }\n",
      "    }\n",
      "  }\n",
      "}\n",
      "\n",
      "2023-05-26 10:34:48.788216: I tensorflow/core/common_runtime/executor.cc:1197] [/device:CPU:0] (DEBUG INFO) Executor start aborting (this does not indicate an error and you can ignore this message): INVALID_ARGUMENT: You must feed a value for placeholder tensor 'Placeholder/_0' with dtype int32\n",
      "\t [[{{node Placeholder/_0}}]]\n",
      "2023-05-26 10:34:48.788562: I tensorflow/core/common_runtime/executor.cc:1197] [/device:CPU:0] (DEBUG INFO) Executor start aborting (this does not indicate an error and you can ignore this message): INVALID_ARGUMENT: You must feed a value for placeholder tensor 'Placeholder/_0' with dtype int32\n",
      "\t [[{{node Placeholder/_0}}]]\n",
      "2023-05-26 10:34:49.136052: I tensorflow/core/common_runtime/executor.cc:1197] [/device:CPU:0] (DEBUG INFO) Executor start aborting (this does not indicate an error and you can ignore this message): INVALID_ARGUMENT: You must feed a value for placeholder tensor 'Placeholder/_0' with dtype int32\n",
      "\t [[{{node Placeholder/_0}}]]\n",
      "2023-05-26 10:34:49.136427: I tensorflow/core/common_runtime/executor.cc:1197] [/device:CPU:0] (DEBUG INFO) Executor start aborting (this does not indicate an error and you can ignore this message): INVALID_ARGUMENT: You must feed a value for placeholder tensor 'Placeholder/_0' with dtype int32\n",
      "\t [[{{node Placeholder/_0}}]]\n"
     ]
    },
    {
     "name": "stdout",
     "output_type": "stream",
     "text": [
      "Test Loss: 0.44487857818603516\n",
      "Test Acc: 0.5170000195503235\n"
     ]
    }
   ],
   "source": [
    "# Model\n",
    "from tensorflow.keras.models import Sequential\n",
    "from tensorflow.keras.layers import Conv2D, MaxPooling2D, Flatten, Dense, Dropout, BatchNormalization\n",
    "from tensorflow.keras.regularizers import l1_l2\n",
    "\n",
    "from keras.applications import ResNet50\n",
    "from tensorflow.keras.metrics import Precision, Recall\n",
    "\n",
    "\n",
    "# Define model to transfer learn from \n",
    "\n",
    "# Distribute load over all GPU\n",
    "\n",
    "import tensorflow as tf\n",
    "from tensorflow.keras.preprocessing.image import ImageDataGenerator\n",
    "import matplotlib.pyplot as plt\n",
    "import os\n",
    "import pandas as pd\n",
    "from sklearn.model_selection import train_test_split\n",
    "\n",
    "def set_gpus(*gpu_indices):\n",
    "    # Get list of GPUs\n",
    "    gpus = tf.config.experimental.list_physical_devices('GPU')\n",
    "    print(\"Num GPUs Available: \", len(gpus))\n",
    "\n",
    "    if gpus:\n",
    "        visible_gpus = [gpus[i] for i in gpu_indices]\n",
    "        try:\n",
    "            # Only use specified GPUs and ignore the others\n",
    "            tf.config.experimental.set_visible_devices(visible_gpus, 'GPU')\n",
    "            for gpu in visible_gpus:\n",
    "                tf.config.experimental.set_memory_growth(gpu, True)\n",
    "            print(\"Using GPUs: \", [gpu.name for gpu in visible_gpus])\n",
    "        except RuntimeError as e:\n",
    "            print(e)\n",
    "    return visible_gpus\n",
    "\n",
    "# Call the function with the indices of the GPUs you want to use\n",
    "visible_gpus = set_gpus(0, 1, 2, 3, 4)  # Use the second, third, fourth, and fifth GPU\n",
    "\n",
    "# Extract names of the GPUs being used\n",
    "gpu_names = ['/device:GPU:' + gpu.name.split(':')[-1] for gpu in visible_gpus]\n",
    "\n",
    "strategy = tf.distribute.MirroredStrategy(devices=gpu_names)\n",
    "\n",
    "# Create new models with the frozen base models and new top layers\n",
    "def _create_model(input_shape):\n",
    "    i = 0\n",
    "    base_model = ResNet50(weights='imagenet', include_top=False, input_shape=(128,128,3))\n",
    "\n",
    "    for layer in base_model.layers:\n",
    "        if i <= 160:\n",
    "            layer.trainable = False\n",
    "        i+=1\n",
    "        \n",
    "    transfer_model = Sequential()\n",
    "    transfer_model.add(base_model)\n",
    "    transfer_model.add(Flatten())\n",
    "    transfer_model.add(Dense(1024, activation='relu'))\n",
    "    transfer_model.add(BatchNormalization())\n",
    "    transfer_model.add(Dropout(0.25))\n",
    "    transfer_model.add(Dense(len(features), activation='sigmoid'))\n",
    "    return transfer_model\n",
    "\n",
    "# Earlystop\n",
    "callback = tf.keras.callbacks.EarlyStopping(monitor='loss', patience=3)\n",
    "\n",
    "with strategy.scope():\n",
    "    m2 = _create_model((img_height, img_width))\n",
    "    m2.compile(optimizer = 'adam', loss = 'binary_crossentropy', metrics = ['accuracy'])\n",
    "    history = m2.fit(train_generator, epochs = 100, validation_data = val_generator, callbacks = [callback])\n",
    "    loss, accuracy = m2.evaluate(test_generator, steps = len(test_generator), verbose = 0)\n",
    "\n",
    "    print(\"Test Loss:\", loss)\n",
    "    print(\"Test Acc:\", accuracy)"
   ]
  },
  {
   "cell_type": "code",
   "execution_count": 14,
   "metadata": {},
   "outputs": [],
   "source": [
    "m2.save('resnet50.h5')"
   ]
  },
  {
   "cell_type": "code",
   "execution_count": 15,
   "metadata": {},
   "outputs": [
    {
     "data": {
      "image/png": "[encoded data removed]",
      "text/plain": [
       "<Figure size 640x480 with 1 Axes>"
      ]
     },
     "metadata": {},
     "output_type": "display_data"
    }
   ],
   "source": [
    "plt.plot(history.history['loss'])\n",
    "plt.plot(history.history['val_loss'])\n",
    "plt.title(\"ResNet 50 Loss\")\n",
    "plt.ylabel(\"Loss\")\n",
    "plt.xlabel('Epoch')\n",
    "plt.legend(['Train', 'Test'])\n",
    "plt.show()"
   ]
  },
  {
   "cell_type": "code",
   "execution_count": null,
   "metadata": {},
   "outputs": [],
   "source": []
  },
  {
   "attachments": {},
   "cell_type": "markdown",
   "metadata": {},
   "source": [
    "## Resnet50: attractive"
   ]
  },
  {
   "cell_type": "code",
   "execution_count": 24,
   "metadata": {},
   "outputs": [],
   "source": [
    "from sklearn.model_selection import train_test_split\n",
    "import tensorflow as tf\n",
    "import pandas as pd\n",
    "import numpy as np\n",
    "from tensorflow.keras.models import Sequential\n",
    "from tensorflow.keras.layers import Conv2D, MaxPooling2D, Flatten, Dense, Dropout, BatchNormalization\n",
    "from tensorflow.keras.regularizers import l1_l2\n",
    "\n",
    "from keras.applications import ResNet50\n",
    "from tensorflow.keras.metrics import Precision, Recall\n",
    "\n",
    "attr = pd.read_csv('list_attr_celeba.csv')\n",
    "features = ['image_id', 'Attractive', 'Bangs', 'Black_Hair', 'Blond_Hair', 'Brown_Hair', 'Gray_Hair', 'Male', 'Oval_Face', 'Receding_Hairline', 'Smiling']\n",
    "\n",
    "attr_selected = attr.loc[:, features].iloc[:50000,:]\n",
    "attr_selected = attr_selected.replace(-1,0)\n",
    "features = ['image_id', 'Attractive']\n",
    "\n",
    "attr_selected = attr.loc[:, features].iloc[:50000,:]\n",
    "attr_selected = attr_selected.replace(-1,0)\n",
    "\n",
    "features = ['Attractive']\n",
    "\n",
    "train_df, test_df = train_test_split(attr_selected, test_size=0.1)\n",
    "train_df, val_df = train_test_split(train_df, test_size=0.2)\n",
    "\n",
    "for feature in features:\n",
    "    train_df[feature] = train_df[feature].astype('float32')\n",
    "    val_df[feature] = val_df[feature].astype('float32')\n",
    "    test_df[feature] = test_df[feature].astype('float32')"
   ]
  },
  {
   "cell_type": "code",
   "execution_count": 25,
   "metadata": {},
   "outputs": [
    {
     "name": "stdout",
     "output_type": "stream",
     "text": [
      "Found 36000 validated image filenames.\n",
      "Found 9000 validated image filenames.\n",
      "Found 5000 validated image filenames.\n"
     ]
    }
   ],
   "source": [
    "import tensorflow as tf\n",
    "from tensorflow.keras.preprocessing.image import ImageDataGenerator\n",
    "import matplotlib.pyplot as plt\n",
    "import os\n",
    "import pandas as pd\n",
    "from sklearn.model_selection import train_test_split\n",
    "\n",
    "# Create ImageDataGenerators\n",
    "train_datagen = ImageDataGenerator(rescale=1./255, horizontal_flip=True, zoom_range=0.2, shear_range=0.2)\n",
    "test_datagen = ImageDataGenerator(rescale=1./255)\n",
    "\n",
    "batch_size = 64\n",
    "img_height = 128\n",
    "img_width = 128\n",
    "\n",
    "train_generator = train_datagen.flow_from_dataframe(train_df, directory=\"img_align_celeba/img_align_celeba\", \n",
    "                                                    x_col=\"image_id\", y_col=features,\n",
    "                                                    target_size=(img_height, img_width), \n",
    "                                                    batch_size=batch_size, class_mode='raw')\n",
    "\n",
    "val_generator = train_datagen.flow_from_dataframe(val_df, directory=\"img_align_celeba/img_align_celeba\", \n",
    "                                                    x_col=\"image_id\", y_col=features,\n",
    "                                                    target_size=(img_height, img_width), \n",
    "                                                    batch_size=batch_size, class_mode='raw')\n",
    "\n",
    "test_generator = test_datagen.flow_from_dataframe(test_df, directory=\"img_align_celeba/img_align_celeba\", \n",
    "                                                  x_col=\"image_id\", y_col=features, \n",
    "                                                  target_size=(img_height, img_width), \n",
    "                                                  batch_size=batch_size, class_mode='raw', shuffle=False)"
   ]
  },
  {
   "cell_type": "code",
   "execution_count": 26,
   "metadata": {},
   "outputs": [
    {
     "name": "stdout",
     "output_type": "stream",
     "text": [
      "Downloading data from https://storage.googleapis.com/tensorflow/keras-applications/resnet/resnet50_weights_tf_dim_ordering_tf_kernels_notop.h5\n",
      "94765736/94765736 [==============================] - 1s 0us/step\n",
      "Epoch 1/100\n"
     ]
    },
    {
     "name": "stderr",
     "output_type": "stream",
     "text": [
      "2023-05-28 04:01:20.930566: I tensorflow/core/common_runtime/executor.cc:1197] [/device:CPU:0] (DEBUG INFO) Executor start aborting (this does not indicate an error and you can ignore this message): INVALID_ARGUMENT: You must feed a value for placeholder tensor 'Placeholder/_0' with dtype int32\n",
      "\t [[{{node Placeholder/_0}}]]\n",
      "2023-05-28 04:01:22.922274: I tensorflow/compiler/xla/service/service.cc:169] XLA service 0x560b9b6ab500 initialized for platform CUDA (this does not guarantee that XLA will be used). Devices:\n",
      "2023-05-28 04:01:22.922290: I tensorflow/compiler/xla/service/service.cc:177]   StreamExecutor device (0): NVIDIA GeForce GTX 1080 Ti, Compute Capability 6.1\n",
      "2023-05-28 04:01:22.941259: I tensorflow/compiler/mlir/tensorflow/utils/dump_mlir_util.cc:269] disabling MLIR crash reproducer, set env var `MLIR_CRASH_REPRODUCER_DIRECTORY` to enable.\n",
      "2023-05-28 04:01:23.053971: I tensorflow/tsl/platform/default/subprocess.cc:304] Start cannot spawn child process: No such file or directory\n",
      "2023-05-28 04:01:23.105286: I ./tensorflow/compiler/jit/device_compiler.h:180] Compiled cluster using XLA!  This line is logged at most once for the lifetime of the process.\n"
     ]
    },
    {
     "name": "stdout",
     "output_type": "stream",
     "text": [
      "563/563 [==============================] - ETA: 0s - loss: 0.6441 - accuracy: 0.6671"
     ]
    },
    {
     "name": "stderr",
     "output_type": "stream",
     "text": [
      "2023-05-28 04:02:12.864767: I tensorflow/core/common_runtime/executor.cc:1197] [/device:CPU:0] (DEBUG INFO) Executor start aborting (this does not indicate an error and you can ignore this message): INVALID_ARGUMENT: You must feed a value for placeholder tensor 'Placeholder/_0' with dtype int32\n",
      "\t [[{{node Placeholder/_0}}]]\n"
     ]
    },
    {
     "name": "stdout",
     "output_type": "stream",
     "text": [
      "563/563 [==============================] - 65s 109ms/step - loss: 0.6441 - accuracy: 0.6671 - val_loss: 0.7509 - val_accuracy: 0.6383\n",
      "Epoch 2/100\n",
      "563/563 [==============================] - 60s 106ms/step - loss: 0.5836 - accuracy: 0.6966 - val_loss: 0.6960 - val_accuracy: 0.6114\n",
      "Epoch 3/100\n",
      "563/563 [==============================] - 60s 106ms/step - loss: 0.5654 - accuracy: 0.7143 - val_loss: 3.4166 - val_accuracy: 0.4843\n",
      "Epoch 4/100\n",
      "563/563 [==============================] - 60s 107ms/step - loss: 0.5574 - accuracy: 0.7202 - val_loss: 0.6588 - val_accuracy: 0.6302\n",
      "Epoch 5/100\n",
      "563/563 [==============================] - 60s 106ms/step - loss: 0.5504 - accuracy: 0.7210 - val_loss: 0.8688 - val_accuracy: 0.5544\n",
      "Epoch 6/100\n",
      "563/563 [==============================] - 60s 107ms/step - loss: 0.5444 - accuracy: 0.7283 - val_loss: 0.9190 - val_accuracy: 0.5728\n",
      "Epoch 7/100\n",
      "563/563 [==============================] - 61s 108ms/step - loss: 0.5425 - accuracy: 0.7311 - val_loss: 0.5472 - val_accuracy: 0.7240\n",
      "Epoch 8/100\n",
      "563/563 [==============================] - 60s 106ms/step - loss: 0.5387 - accuracy: 0.7302 - val_loss: 0.5332 - val_accuracy: 0.7323\n",
      "Epoch 9/100\n",
      "563/563 [==============================] - 60s 106ms/step - loss: 0.5341 - accuracy: 0.7335 - val_loss: 0.5630 - val_accuracy: 0.7190\n",
      "Epoch 10/100\n",
      "563/563 [==============================] - 61s 108ms/step - loss: 0.5319 - accuracy: 0.7377 - val_loss: 0.6641 - val_accuracy: 0.6628\n",
      "Epoch 11/100\n",
      "563/563 [==============================] - 60s 107ms/step - loss: 0.5295 - accuracy: 0.7392 - val_loss: 0.5646 - val_accuracy: 0.7253\n",
      "Epoch 12/100\n",
      "563/563 [==============================] - 60s 107ms/step - loss: 0.5265 - accuracy: 0.7414 - val_loss: 0.9542 - val_accuracy: 0.5823\n",
      "Epoch 13/100\n",
      "563/563 [==============================] - 60s 107ms/step - loss: 0.5253 - accuracy: 0.7398 - val_loss: 0.6411 - val_accuracy: 0.6630\n",
      "Epoch 14/100\n",
      "563/563 [==============================] - 60s 107ms/step - loss: 0.5256 - accuracy: 0.7426 - val_loss: 0.5549 - val_accuracy: 0.7184\n",
      "Epoch 15/100\n",
      "563/563 [==============================] - 61s 108ms/step - loss: 0.5213 - accuracy: 0.7431 - val_loss: 0.5418 - val_accuracy: 0.7202\n",
      "Epoch 16/100\n",
      "563/563 [==============================] - 60s 106ms/step - loss: 0.5199 - accuracy: 0.7445 - val_loss: 0.8773 - val_accuracy: 0.5780\n",
      "Epoch 17/100\n",
      "563/563 [==============================] - 61s 107ms/step - loss: 0.5180 - accuracy: 0.7459 - val_loss: 1.3271 - val_accuracy: 0.4970\n",
      "Epoch 18/100\n",
      "563/563 [==============================] - 60s 107ms/step - loss: 0.5164 - accuracy: 0.7470 - val_loss: 1.2108 - val_accuracy: 0.5533\n",
      "Epoch 19/100\n",
      "563/563 [==============================] - 60s 107ms/step - loss: 0.5149 - accuracy: 0.7492 - val_loss: 0.5354 - val_accuracy: 0.7423\n",
      "Epoch 20/100\n",
      "563/563 [==============================] - 60s 107ms/step - loss: 0.5148 - accuracy: 0.7466 - val_loss: 0.5314 - val_accuracy: 0.7324\n",
      "Epoch 21/100\n",
      "563/563 [==============================] - 60s 107ms/step - loss: 0.5115 - accuracy: 0.7511 - val_loss: 0.6450 - val_accuracy: 0.6734\n",
      "Epoch 22/100\n",
      "563/563 [==============================] - 60s 107ms/step - loss: 0.5082 - accuracy: 0.7513 - val_loss: 1.9086 - val_accuracy: 0.4897\n",
      "Epoch 23/100\n",
      "563/563 [==============================] - 60s 107ms/step - loss: 0.5078 - accuracy: 0.7511 - val_loss: 0.6925 - val_accuracy: 0.6489\n",
      "Epoch 24/100\n",
      "563/563 [==============================] - 60s 107ms/step - loss: 0.5070 - accuracy: 0.7553 - val_loss: 1.0982 - val_accuracy: 0.5156\n",
      "Epoch 25/100\n",
      "563/563 [==============================] - 60s 107ms/step - loss: 0.5077 - accuracy: 0.7542 - val_loss: 0.5148 - val_accuracy: 0.7470\n",
      "Epoch 26/100\n",
      "563/563 [==============================] - 60s 106ms/step - loss: 0.5065 - accuracy: 0.7522 - val_loss: 0.5312 - val_accuracy: 0.7341\n",
      "Epoch 27/100\n",
      "563/563 [==============================] - 60s 107ms/step - loss: 0.5050 - accuracy: 0.7532 - val_loss: 0.5433 - val_accuracy: 0.7291\n",
      "Epoch 28/100\n",
      "563/563 [==============================] - 60s 107ms/step - loss: 0.5029 - accuracy: 0.7526 - val_loss: 0.6435 - val_accuracy: 0.6821\n",
      "Epoch 29/100\n",
      "563/563 [==============================] - 60s 106ms/step - loss: 0.5040 - accuracy: 0.7541 - val_loss: 1.7007 - val_accuracy: 0.4871\n",
      "Epoch 30/100\n",
      "563/563 [==============================] - 59s 105ms/step - loss: 0.5021 - accuracy: 0.7573 - val_loss: 0.9474 - val_accuracy: 0.5794\n",
      "Epoch 31/100\n",
      "563/563 [==============================] - 60s 106ms/step - loss: 0.5019 - accuracy: 0.7539 - val_loss: 0.9164 - val_accuracy: 0.5771\n",
      "Epoch 32/100\n",
      "563/563 [==============================] - 60s 107ms/step - loss: 0.4994 - accuracy: 0.7571 - val_loss: 0.5692 - val_accuracy: 0.7213\n",
      "Epoch 33/100\n",
      "563/563 [==============================] - 60s 106ms/step - loss: 0.4982 - accuracy: 0.7573 - val_loss: 0.6762 - val_accuracy: 0.6682\n",
      "Epoch 34/100\n",
      "563/563 [==============================] - 60s 106ms/step - loss: 0.4992 - accuracy: 0.7552 - val_loss: 0.6053 - val_accuracy: 0.7093\n",
      "Epoch 35/100\n",
      "563/563 [==============================] - 61s 108ms/step - loss: 0.4985 - accuracy: 0.7578 - val_loss: 0.8792 - val_accuracy: 0.5810\n",
      "Epoch 36/100\n",
      "563/563 [==============================] - 61s 108ms/step - loss: 0.4979 - accuracy: 0.7582 - val_loss: 0.7140 - val_accuracy: 0.6444\n",
      "Epoch 37/100\n",
      "563/563 [==============================] - 60s 107ms/step - loss: 0.4980 - accuracy: 0.7570 - val_loss: 0.5448 - val_accuracy: 0.7217\n",
      "Epoch 38/100\n",
      "563/563 [==============================] - 60s 106ms/step - loss: 0.4950 - accuracy: 0.7590 - val_loss: 0.5606 - val_accuracy: 0.7194\n",
      "Epoch 39/100\n",
      "563/563 [==============================] - 60s 107ms/step - loss: 0.4939 - accuracy: 0.7613 - val_loss: 0.5075 - val_accuracy: 0.7499\n",
      "Epoch 40/100\n",
      "563/563 [==============================] - 59s 105ms/step - loss: 0.4945 - accuracy: 0.7593 - val_loss: 0.5134 - val_accuracy: 0.7494\n",
      "Epoch 41/100\n",
      "563/563 [==============================] - 60s 106ms/step - loss: 0.4945 - accuracy: 0.7581 - val_loss: 0.6324 - val_accuracy: 0.6809\n",
      "Epoch 42/100\n",
      "563/563 [==============================] - 60s 107ms/step - loss: 0.4905 - accuracy: 0.7623 - val_loss: 0.5220 - val_accuracy: 0.7404\n",
      "Epoch 43/100\n",
      "563/563 [==============================] - 60s 106ms/step - loss: 0.4923 - accuracy: 0.7610 - val_loss: 0.5103 - val_accuracy: 0.7417\n",
      "Epoch 44/100\n",
      "563/563 [==============================] - 61s 108ms/step - loss: 0.4914 - accuracy: 0.7616 - val_loss: 0.6115 - val_accuracy: 0.6794\n",
      "Epoch 45/100\n",
      "563/563 [==============================] - 60s 107ms/step - loss: 0.4906 - accuracy: 0.7629 - val_loss: 0.6405 - val_accuracy: 0.6784\n"
     ]
    },
    {
     "name": "stderr",
     "output_type": "stream",
     "text": [
      "2023-05-28 04:46:32.644867: I tensorflow/core/common_runtime/executor.cc:1197] [/device:CPU:0] (DEBUG INFO) Executor start aborting (this does not indicate an error and you can ignore this message): INVALID_ARGUMENT: You must feed a value for placeholder tensor 'Placeholder/_0' with dtype int32\n",
      "\t [[{{node Placeholder/_0}}]]\n"
     ]
    },
    {
     "name": "stdout",
     "output_type": "stream",
     "text": [
      "Test Loss: 0.6265203952789307\n",
      "Test Acc: 0.6990000009536743\n"
     ]
    }
   ],
   "source": [
    "import tensorflow as tf\n",
    "from tensorflow.keras.preprocessing.image import ImageDataGenerator\n",
    "import matplotlib.pyplot as plt\n",
    "import os\n",
    "import pandas as pd\n",
    "from sklearn.model_selection import train_test_split\n",
    "\n",
    "# Create new models with the frozen base models and new top layers\n",
    "def _create_model(input_shape):\n",
    "    i = 0\n",
    "    base_model = ResNet50(weights='imagenet', include_top=False, input_shape=(128,128,3))\n",
    "\n",
    "    for layer in base_model.layers:\n",
    "        if i <= 160:\n",
    "            layer.trainable = False\n",
    "        i+=1\n",
    "        \n",
    "    transfer_model = Sequential()\n",
    "    transfer_model.add(base_model)\n",
    "    transfer_model.add(Flatten())\n",
    "    transfer_model.add(Dense(1024, activation='relu'))\n",
    "    transfer_model.add(BatchNormalization())\n",
    "    transfer_model.add(Dropout(0.25))\n",
    "    transfer_model.add(Dense(len(features), activation='sigmoid'))\n",
    "    return transfer_model\n",
    "\n",
    "# Earlystop\n",
    "callback = tf.keras.callbacks.EarlyStopping(monitor='loss', patience=3)\n",
    "\n",
    "resnet_attractive = _create_model((img_height, img_width))\n",
    "resnet_attractive.compile(optimizer = 'adam', loss = 'binary_crossentropy', metrics = ['accuracy'])\n",
    "history = resnet_attractive.fit(train_generator, epochs = 100, validation_data = val_generator, callbacks = [callback])\n",
    "loss, accuracy = resnet_attractive.evaluate(test_generator, steps = len(test_generator), verbose = 0)\n",
    "\n",
    "print(\"Test Loss:\", loss)\n",
    "print(\"Test Acc:\", accuracy)"
   ]
  },
  {
   "cell_type": "code",
   "execution_count": 27,
   "metadata": {},
   "outputs": [],
   "source": [
    "resnet_attractive.save('resnet_attractive.h5')"
   ]
  },
  {
   "attachments": {},
   "cell_type": "markdown",
   "metadata": {},
   "source": [
    "## Resnet: bangs"
   ]
  },
  {
   "cell_type": "code",
   "execution_count": 28,
   "metadata": {},
   "outputs": [],
   "source": [
    "from sklearn.model_selection import train_test_split\n",
    "import tensorflow as tf\n",
    "import pandas as pd\n",
    "import numpy as np\n",
    "from tensorflow.keras.models import Sequential\n",
    "from tensorflow.keras.layers import Conv2D, MaxPooling2D, Flatten, Dense, Dropout, BatchNormalization\n",
    "from tensorflow.keras.regularizers import l1_l2\n",
    "\n",
    "from keras.applications import ResNet50\n",
    "from tensorflow.keras.metrics import Precision, Recall\n",
    "\n",
    "\n",
    "attr = pd.read_csv('list_attr_celeba.csv')\n",
    "features = ['image_id', 'Bangs']\n",
    "\n",
    "attr_selected = attr.loc[:, features].iloc[:50000,:]\n",
    "attr_selected = attr_selected.replace(-1,0)\n",
    "\n",
    "features = ['Bangs']\n",
    "\n",
    "train_df, test_df = train_test_split(attr_selected, test_size=0.1)\n",
    "train_df, val_df = train_test_split(train_df, test_size=0.2)\n",
    "\n",
    "for feature in features:\n",
    "    train_df[feature] = train_df[feature].astype('float32')\n",
    "    val_df[feature] = val_df[feature].astype('float32')\n",
    "    test_df[feature] = test_df[feature].astype('float32')"
   ]
  },
  {
   "cell_type": "code",
   "execution_count": 29,
   "metadata": {},
   "outputs": [
    {
     "name": "stdout",
     "output_type": "stream",
     "text": [
      "Found 36000 validated image filenames.\n",
      "Found 9000 validated image filenames.\n",
      "Found 5000 validated image filenames.\n"
     ]
    }
   ],
   "source": [
    "import tensorflow as tf\n",
    "from tensorflow.keras.preprocessing.image import ImageDataGenerator\n",
    "import matplotlib.pyplot as plt\n",
    "import os\n",
    "import pandas as pd\n",
    "from sklearn.model_selection import train_test_split\n",
    "\n",
    "# Create ImageDataGenerators\n",
    "train_datagen = ImageDataGenerator(rescale=1./255, horizontal_flip=True, zoom_range=0.2, shear_range=0.2)\n",
    "test_datagen = ImageDataGenerator(rescale=1./255)\n",
    "\n",
    "batch_size = 64\n",
    "img_height = 128\n",
    "img_width = 128\n",
    "\n",
    "train_generator = train_datagen.flow_from_dataframe(train_df, directory=\"img_align_celeba/img_align_celeba\", \n",
    "                                                    x_col=\"image_id\", y_col=features,\n",
    "                                                    target_size=(img_height, img_width), \n",
    "                                                    batch_size=batch_size, class_mode='raw')\n",
    "\n",
    "val_generator = train_datagen.flow_from_dataframe(val_df, directory=\"img_align_celeba/img_align_celeba\", \n",
    "                                                    x_col=\"image_id\", y_col=features,\n",
    "                                                    target_size=(img_height, img_width), \n",
    "                                                    batch_size=batch_size, class_mode='raw')\n",
    "\n",
    "test_generator = test_datagen.flow_from_dataframe(test_df, directory=\"img_align_celeba/img_align_celeba\", \n",
    "                                                  x_col=\"image_id\", y_col=features, \n",
    "                                                  target_size=(img_height, img_width), \n",
    "                                                  batch_size=batch_size, class_mode='raw', shuffle=False)"
   ]
  },
  {
   "cell_type": "code",
   "execution_count": 30,
   "metadata": {},
   "outputs": [
    {
     "name": "stdout",
     "output_type": "stream",
     "text": [
      "Epoch 1/100\n"
     ]
    },
    {
     "name": "stderr",
     "output_type": "stream",
     "text": [
      "2023-05-28 04:46:42.598782: I tensorflow/core/common_runtime/executor.cc:1197] [/device:CPU:0] (DEBUG INFO) Executor start aborting (this does not indicate an error and you can ignore this message): INVALID_ARGUMENT: You must feed a value for placeholder tensor 'Placeholder/_0' with dtype int32\n",
      "\t [[{{node Placeholder/_0}}]]\n"
     ]
    },
    {
     "name": "stdout",
     "output_type": "stream",
     "text": [
      "563/563 [==============================] - ETA: 0s - loss: 0.4156 - accuracy: 0.8386"
     ]
    },
    {
     "name": "stderr",
     "output_type": "stream",
     "text": [
      "2023-05-28 04:47:33.527922: I tensorflow/core/common_runtime/executor.cc:1197] [/device:CPU:0] (DEBUG INFO) Executor start aborting (this does not indicate an error and you can ignore this message): INVALID_ARGUMENT: You must feed a value for placeholder tensor 'Placeholder/_0' with dtype int32\n",
      "\t [[{{node Placeholder/_0}}]]\n"
     ]
    },
    {
     "name": "stdout",
     "output_type": "stream",
     "text": [
      "563/563 [==============================] - 63s 108ms/step - loss: 0.4156 - accuracy: 0.8386 - val_loss: 0.3919 - val_accuracy: 0.8317\n",
      "Epoch 2/100\n",
      "563/563 [==============================] - 60s 107ms/step - loss: 0.3236 - accuracy: 0.8683 - val_loss: 0.3742 - val_accuracy: 0.8557\n",
      "Epoch 3/100\n",
      "563/563 [==============================] - 60s 107ms/step - loss: 0.2910 - accuracy: 0.8808 - val_loss: 1.8404 - val_accuracy: 0.2930\n",
      "Epoch 4/100\n",
      "563/563 [==============================] - 60s 107ms/step - loss: 0.2718 - accuracy: 0.8889 - val_loss: 0.4387 - val_accuracy: 0.8006\n",
      "Epoch 5/100\n",
      "563/563 [==============================] - 60s 106ms/step - loss: 0.2615 - accuracy: 0.8939 - val_loss: 1.1608 - val_accuracy: 0.8380\n",
      "Epoch 6/100\n",
      "563/563 [==============================] - 60s 106ms/step - loss: 0.2543 - accuracy: 0.8976 - val_loss: 1.5780 - val_accuracy: 0.3221\n",
      "Epoch 7/100\n",
      "563/563 [==============================] - 60s 107ms/step - loss: 0.2496 - accuracy: 0.8986 - val_loss: 0.2971 - val_accuracy: 0.8772\n",
      "Epoch 8/100\n",
      "563/563 [==============================] - 61s 107ms/step - loss: 0.2401 - accuracy: 0.9035 - val_loss: 2.7754 - val_accuracy: 0.2538\n",
      "Epoch 9/100\n",
      "563/563 [==============================] - 60s 107ms/step - loss: 0.2392 - accuracy: 0.9033 - val_loss: 0.2696 - val_accuracy: 0.8953\n",
      "Epoch 10/100\n",
      "563/563 [==============================] - 60s 107ms/step - loss: 0.2381 - accuracy: 0.9056 - val_loss: 0.4297 - val_accuracy: 0.8598\n",
      "Epoch 11/100\n",
      "563/563 [==============================] - 60s 107ms/step - loss: 0.2360 - accuracy: 0.9064 - val_loss: 0.2619 - val_accuracy: 0.8966\n",
      "Epoch 12/100\n",
      "563/563 [==============================] - 60s 107ms/step - loss: 0.2280 - accuracy: 0.9088 - val_loss: 2.6274 - val_accuracy: 0.2467\n",
      "Epoch 13/100\n",
      "563/563 [==============================] - 60s 107ms/step - loss: 0.2256 - accuracy: 0.9101 - val_loss: 0.6452 - val_accuracy: 0.6988\n",
      "Epoch 14/100\n",
      "563/563 [==============================] - 60s 106ms/step - loss: 0.2261 - accuracy: 0.9089 - val_loss: 0.2577 - val_accuracy: 0.8983\n",
      "Epoch 15/100\n",
      "563/563 [==============================] - 60s 106ms/step - loss: 0.2210 - accuracy: 0.9108 - val_loss: 0.2528 - val_accuracy: 0.9018\n",
      "Epoch 16/100\n",
      "563/563 [==============================] - 61s 108ms/step - loss: 0.2225 - accuracy: 0.9093 - val_loss: 1.2520 - val_accuracy: 0.4666\n",
      "Epoch 17/100\n",
      "563/563 [==============================] - 60s 107ms/step - loss: 0.2208 - accuracy: 0.9105 - val_loss: 0.2346 - val_accuracy: 0.9017\n",
      "Epoch 18/100\n",
      "563/563 [==============================] - 61s 108ms/step - loss: 0.2216 - accuracy: 0.9122 - val_loss: 0.2969 - val_accuracy: 0.8782\n",
      "Epoch 19/100\n",
      "563/563 [==============================] - 60s 107ms/step - loss: 0.2169 - accuracy: 0.9132 - val_loss: 0.4382 - val_accuracy: 0.7987\n",
      "Epoch 20/100\n",
      "563/563 [==============================] - 60s 107ms/step - loss: 0.2173 - accuracy: 0.9141 - val_loss: 0.4910 - val_accuracy: 0.8539\n",
      "Epoch 21/100\n",
      "563/563 [==============================] - 59s 106ms/step - loss: 0.2155 - accuracy: 0.9125 - val_loss: 1.3533 - val_accuracy: 0.8382\n",
      "Epoch 22/100\n",
      "563/563 [==============================] - 60s 107ms/step - loss: 0.2132 - accuracy: 0.9156 - val_loss: 0.4933 - val_accuracy: 0.8574\n",
      "Epoch 23/100\n",
      "563/563 [==============================] - 60s 107ms/step - loss: 0.2122 - accuracy: 0.9135 - val_loss: 0.3957 - val_accuracy: 0.8333\n",
      "Epoch 24/100\n",
      "563/563 [==============================] - 61s 108ms/step - loss: 0.2113 - accuracy: 0.9153 - val_loss: 0.4921 - val_accuracy: 0.8592\n",
      "Epoch 25/100\n",
      "563/563 [==============================] - 61s 108ms/step - loss: 0.2093 - accuracy: 0.9159 - val_loss: 0.6350 - val_accuracy: 0.7079\n",
      "Epoch 26/100\n",
      "563/563 [==============================] - 60s 107ms/step - loss: 0.2097 - accuracy: 0.9157 - val_loss: 0.2338 - val_accuracy: 0.9070\n",
      "Epoch 27/100\n",
      "563/563 [==============================] - 60s 107ms/step - loss: 0.2048 - accuracy: 0.9162 - val_loss: 0.2799 - val_accuracy: 0.8937\n",
      "Epoch 28/100\n",
      "563/563 [==============================] - 61s 108ms/step - loss: 0.2050 - accuracy: 0.9166 - val_loss: 0.2344 - val_accuracy: 0.9046\n",
      "Epoch 29/100\n",
      "563/563 [==============================] - 61s 108ms/step - loss: 0.2051 - accuracy: 0.9167 - val_loss: 0.5994 - val_accuracy: 0.7267\n",
      "Epoch 30/100\n",
      "563/563 [==============================] - 60s 106ms/step - loss: 0.2033 - accuracy: 0.9177 - val_loss: 0.2268 - val_accuracy: 0.9104\n",
      "Epoch 31/100\n",
      "563/563 [==============================] - 60s 106ms/step - loss: 0.2015 - accuracy: 0.9192 - val_loss: 0.3328 - val_accuracy: 0.8639\n",
      "Epoch 32/100\n",
      "563/563 [==============================] - 60s 106ms/step - loss: 0.2031 - accuracy: 0.9185 - val_loss: 1.2841 - val_accuracy: 0.4801\n",
      "Epoch 33/100\n",
      "563/563 [==============================] - 60s 106ms/step - loss: 0.2015 - accuracy: 0.9196 - val_loss: 0.2597 - val_accuracy: 0.8979\n",
      "Epoch 34/100\n",
      "563/563 [==============================] - 60s 107ms/step - loss: 0.1964 - accuracy: 0.9219 - val_loss: 0.2428 - val_accuracy: 0.9039\n",
      "Epoch 35/100\n",
      "563/563 [==============================] - 60s 107ms/step - loss: 0.1991 - accuracy: 0.9197 - val_loss: 0.2448 - val_accuracy: 0.9062\n",
      "Epoch 36/100\n",
      "563/563 [==============================] - 61s 108ms/step - loss: 0.2026 - accuracy: 0.9187 - val_loss: 0.8561 - val_accuracy: 0.6052\n",
      "Epoch 37/100\n",
      "563/563 [==============================] - 60s 107ms/step - loss: 0.1979 - accuracy: 0.9201 - val_loss: 0.2195 - val_accuracy: 0.9094\n"
     ]
    },
    {
     "name": "stderr",
     "output_type": "stream",
     "text": [
      "2023-05-28 05:23:55.841642: I tensorflow/core/common_runtime/executor.cc:1197] [/device:CPU:0] (DEBUG INFO) Executor start aborting (this does not indicate an error and you can ignore this message): INVALID_ARGUMENT: You must feed a value for placeholder tensor 'Placeholder/_0' with dtype int32\n",
      "\t [[{{node Placeholder/_0}}]]\n"
     ]
    },
    {
     "name": "stdout",
     "output_type": "stream",
     "text": [
      "Test Loss: 0.2053508758544922\n",
      "Test Acc: 0.9186000227928162\n"
     ]
    }
   ],
   "source": [
    "import tensorflow as tf\n",
    "from tensorflow.keras.preprocessing.image import ImageDataGenerator\n",
    "import matplotlib.pyplot as plt\n",
    "import os\n",
    "import pandas as pd\n",
    "from sklearn.model_selection import train_test_split\n",
    "\n",
    "# Create new models with the frozen base models and new top layers\n",
    "def _create_model(input_shape):\n",
    "    i = 0\n",
    "    base_model = ResNet50(weights='imagenet', include_top=False, input_shape=(128,128,3))\n",
    "\n",
    "    for layer in base_model.layers:\n",
    "        if i <= 160:\n",
    "            layer.trainable = False\n",
    "        i+=1\n",
    "        \n",
    "    transfer_model = Sequential()\n",
    "    transfer_model.add(base_model)\n",
    "    transfer_model.add(Flatten())\n",
    "    transfer_model.add(Dense(1024, activation='relu'))\n",
    "    transfer_model.add(BatchNormalization())\n",
    "    transfer_model.add(Dropout(0.25))\n",
    "    transfer_model.add(Dense(len(features), activation='sigmoid'))\n",
    "    return transfer_model\n",
    "\n",
    "# Earlystop\n",
    "callback = tf.keras.callbacks.EarlyStopping(monitor='loss', patience=3)\n",
    "\n",
    "resnet_bangs = _create_model((img_height, img_width))\n",
    "resnet_bangs.compile(optimizer = 'adam', loss = 'binary_crossentropy', metrics = ['accuracy'])\n",
    "history = resnet_bangs.fit(train_generator, epochs = 100, validation_data = val_generator, callbacks = [callback])\n",
    "loss, accuracy = resnet_bangs.evaluate(test_generator, steps = len(test_generator), verbose = 0)\n",
    "\n",
    "print(\"Test Loss:\", loss)\n",
    "print(\"Test Acc:\", accuracy)"
   ]
  },
  {
   "cell_type": "code",
   "execution_count": 31,
   "metadata": {},
   "outputs": [],
   "source": [
    "resnet_bangs.save('resnet_bangs.h5')"
   ]
  }
 ],
 "metadata": {
  "kernelspec": {
   "display_name": "msia_env",
   "language": "python",
   "name": "python3"
  },
  "language_info": {
   "codemirror_mode": {
    "name": "ipython",
    "version": 3
   },
   "file_extension": ".py",
   "mimetype": "text/x-python",
   "name": "python",
   "nbconvert_exporter": "python",
   "pygments_lexer": "ipython3",
   "version": "3.10.6"
  },
  "orig_nbformat": 4
 },
 "nbformat": 4,
 "nbformat_minor": 2
}
